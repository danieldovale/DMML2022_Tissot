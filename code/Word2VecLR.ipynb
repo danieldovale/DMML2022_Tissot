{
  "cells": [
    {
      "cell_type": "markdown",
      "metadata": {
        "id": "BgTmGZgq2cmx"
      },
      "source": [
        "# **Data Mining and Machine Learning - Team Tissot**\n",
        "\n",
        "**Detecting the difficulty level of French texts**\n",
        "\n",
        "**Word2Vec**\n",
        "\n",
        "In this notebook we attempted to achieve greater accuracy by using Word2Vec\n"
      ]
    },
    {
      "cell_type": "markdown",
      "metadata": {
        "id": "hSOw0TBh2_3M"
      },
      "source": [
        "#  1. Importing packages and data"
      ]
    },
    {
      "cell_type": "code",
      "execution_count": null,
      "metadata": {
        "colab": {
          "base_uri": "https://localhost:8080/"
        },
        "id": "PNXLEqSl3B9c",
        "outputId": "8e14142f-b29a-4b74-9ae2-668076c4326e"
      },
      "outputs": [
        {
          "name": "stderr",
          "output_type": "stream",
          "text": [
            "[nltk_data] Downloading package punkt to /root/nltk_data...\n",
            "[nltk_data]   Unzipping tokenizers/punkt.zip.\n"
          ]
        }
      ],
      "source": [
        "# Importing packages\n",
        "%matplotlib inline\n",
        "import numpy as np\n",
        "import matplotlib.pyplot as plt\n",
        "import pandas as pd \n",
        "import seaborn as sns\n",
        "from wordcloud import WordCloud   \n",
        "sns.set_style(\"whitegrid\")\n",
        "\n",
        "# import some additional packages for training models\n",
        "from sklearn.model_selection import train_test_split\n",
        "from sklearn.metrics import confusion_matrix, accuracy_score, precision_score, recall_score, f1_score\n",
        "from sklearn.pipeline import Pipeline\n",
        "from sklearn.feature_extraction.text import TfidfVectorizer\n",
        "\n",
        "import string\n",
        "import nltk\n",
        "from nltk.tokenize import word_tokenize, sent_tokenize \n",
        "from nltk.corpus import stopwords  \n",
        "nltk.download('punkt')\n",
        "\n",
        "# import tqdm (progress bar)\n",
        "from tqdm import tqdm\n",
        "\n",
        "# import files to download .csv\n",
        "from google.colab import files"
      ]
    },
    {
      "cell_type": "code",
      "execution_count": null,
      "metadata": {
        "id": "CDJJ8o_13VL4"
      },
      "outputs": [],
      "source": [
        "# Importing packages for tokenization\n",
        "\n",
        "# Install and update spaCy\n",
        "!pip install -U spacy\n",
        "\n",
        "# Download the french language model\n",
        "!python -m spacy download fr_core_news_sm"
      ]
    },
    {
      "cell_type": "code",
      "execution_count": null,
      "metadata": {
        "id": "6dy8r-Hq3bEW"
      },
      "outputs": [],
      "source": [
        "# Import required packages from spacy\n",
        "import spacy\n",
        "from spacy import displacy\n",
        "\n",
        "#Load French language model\n",
        "sp = spacy.load(\"fr_core_news_sm\")"
      ]
    },
    {
      "cell_type": "markdown",
      "metadata": {
        "id": "n-bIZQC13FPb"
      },
      "source": [
        "> Additional custom functions from our github repo. [Documentation](https://github.com/danieldovale/DMML2022_Tissot/blob/main/documents/CustomFunctionsDocumentation.ipynb)\n"
      ]
    },
    {
      "cell_type": "code",
      "execution_count": null,
      "metadata": {
        "colab": {
          "base_uri": "https://localhost:8080/"
        },
        "id": "7KzuuV133G1T",
        "outputId": "9229f4d9-7849-4a7c-9bdb-7b28c87b78f2"
      },
      "outputs": [
        {
          "name": "stdout",
          "output_type": "stream",
          "text": [
            "Looking in indexes: https://pypi.org/simple, https://us-python.pkg.dev/colab-wheels/public/simple/\n",
            "Requirement already satisfied: requests in /usr/local/lib/python3.8/dist-packages (2.23.0)\n",
            "Requirement already satisfied: urllib3!=1.25.0,!=1.25.1,<1.26,>=1.21.1 in /usr/local/lib/python3.8/dist-packages (from requests) (1.24.3)\n",
            "Requirement already satisfied: idna<3,>=2.5 in /usr/local/lib/python3.8/dist-packages (from requests) (2.10)\n",
            "Requirement already satisfied: chardet<4,>=3.0.2 in /usr/local/lib/python3.8/dist-packages (from requests) (3.0.4)\n",
            "Requirement already satisfied: certifi>=2017.4.17 in /usr/local/lib/python3.8/dist-packages (from requests) (2022.12.7)\n"
          ]
        }
      ],
      "source": [
        "!pip install requests"
      ]
    },
    {
      "cell_type": "code",
      "execution_count": null,
      "metadata": {
        "id": "R7SAvV3i3klr"
      },
      "outputs": [],
      "source": [
        "import requests"
      ]
    },
    {
      "cell_type": "code",
      "execution_count": null,
      "metadata": {
        "colab": {
          "base_uri": "https://localhost:8080/"
        },
        "id": "WDWIEUN-3IPp",
        "outputId": "106e26ad-9697-45e2-bad3-0a94d4d82847"
      },
      "outputs": [
        {
          "name": "stderr",
          "output_type": "stream",
          "text": [
            "[nltk_data] Downloading package stopwords to /root/nltk_data...\n",
            "[nltk_data]   Unzipping corpora/stopwords.zip.\n",
            "[nltk_data] Downloading package punkt to /root/nltk_data...\n",
            "[nltk_data]   Package punkt is already up-to-date!\n",
            "[nltk_data] Downloading package wordnet to /root/nltk_data...\n",
            "[nltk_data] Downloading package omw-1.4 to /root/nltk_data...\n"
          ]
        }
      ],
      "source": [
        "url = 'https://raw.githubusercontent.com/danieldovale/DMML2022_Tissot/main/code/custom_functions.py'\n",
        "r = requests.get(url)\n",
        "\n",
        "# make sure your filename is the same as how you want to import \n",
        "with open('custom_functions.py', 'w') as f:\n",
        "    f.write(r.text)\n",
        "\n",
        "# now we can import\n",
        "import custom_functions as cfun"
      ]
    },
    {
      "cell_type": "code",
      "execution_count": null,
      "metadata": {
        "id": "ll3Md2i24dL6"
      },
      "outputs": [],
      "source": [
        "# training data:\n",
        "dfTrain = pd.read_csv(\"https://raw.githubusercontent.com/danieldovale/DMML2022_Tissot/main/data/training_data.csv\", index_col='id')\n",
        "\n",
        "# unlabeled test data:\n",
        "dfTest = pd.read_csv(\"https://raw.githubusercontent.com/danieldovale/DMML2022_Tissot/main/data/unlabelled_test_data.csv\", index_col='id')"
      ]
    },
    {
      "cell_type": "markdown",
      "metadata": {
        "id": "iRUTYs0saXae"
      },
      "source": [
        "---"
      ]
    },
    {
      "cell_type": "markdown",
      "metadata": {
        "id": "Bub7F-Mo4jnr"
      },
      "source": [
        "# 2. Setting up Word2Vec"
      ]
    },
    {
      "cell_type": "markdown",
      "metadata": {
        "id": "fyp_1S_L4rqQ"
      },
      "source": [
        "First, let's define a spacy tokenizer"
      ]
    },
    {
      "cell_type": "code",
      "execution_count": null,
      "metadata": {
        "id": "kOIoO2Eg4uim"
      },
      "outputs": [],
      "source": [
        "import string\n",
        "\n",
        "def spacy_tokenizer(sentence):\n",
        "\n",
        "    doc = sp(sentence)  \n",
        "    mytokens = [ word.lemma_.lower().strip() if word.lemma_ != \"-PRON-\" else word.lower_ for word in doc ]\n",
        "    return mytokens"
      ]
    },
    {
      "cell_type": "markdown",
      "metadata": {
        "id": "VnQnWy3x41OP"
      },
      "source": [
        "> This tokenizer transform words into tokens that are lowercase and lemmatized if the word is not a pronoun"
      ]
    },
    {
      "cell_type": "markdown",
      "metadata": {
        "id": "vNuepfZQ73JH"
      },
      "source": [
        "Next, let's gather some additional information about the sentences using our [custom function](https://github.com/danieldovale/DMML2022_Tissot/blob/main/documents/CustomFunctionsDocumentation.ipynb)\n",
        "\n",
        "\n",
        "\n"
      ]
    },
    {
      "cell_type": "code",
      "execution_count": null,
      "metadata": {
        "colab": {
          "base_uri": "https://localhost:8080/"
        },
        "id": "dBhyNyPd8Bue",
        "outputId": "dc9b593c-0d92-4705-851b-a75ff46e958b"
      },
      "outputs": [
        {
          "name": "stderr",
          "output_type": "stream",
          "text": [
            "100%|██████████| 4800/4800 [01:11<00:00, 67.55it/s]\n"
          ]
        }
      ],
      "source": [
        "dfTrainInfo = cfun.get_info(dfTrain) "
      ]
    },
    {
      "cell_type": "code",
      "execution_count": null,
      "metadata": {
        "colab": {
          "base_uri": "https://localhost:8080/",
          "height": 424
        },
        "id": "FMpCcR2O_Nuu",
        "outputId": "b3af9f10-2f15-48e6-e352-6283c9f2271d"
      },
      "outputs": [
        {
          "data": {
            "text/html": [
              "\n",
              "  <div id=\"df-624a8880-bd06-4d5a-b6b7-5ee3c9985b31\">\n",
              "    <div class=\"colab-df-container\">\n",
              "      <div>\n",
              "<style scoped>\n",
              "    .dataframe tbody tr th:only-of-type {\n",
              "        vertical-align: middle;\n",
              "    }\n",
              "\n",
              "    .dataframe tbody tr th {\n",
              "        vertical-align: top;\n",
              "    }\n",
              "\n",
              "    .dataframe thead th {\n",
              "        text-align: right;\n",
              "    }\n",
              "</style>\n",
              "<table border=\"1\" class=\"dataframe\">\n",
              "  <thead>\n",
              "    <tr style=\"text-align: right;\">\n",
              "      <th></th>\n",
              "      <th>text_length</th>\n",
              "      <th>number_of_sentences</th>\n",
              "      <th>number_of_words</th>\n",
              "      <th>sent_length_avg</th>\n",
              "      <th>words_length_avg</th>\n",
              "      <th>number_of_words_after_lemma_stop</th>\n",
              "      <th>longest_word_size</th>\n",
              "    </tr>\n",
              "  </thead>\n",
              "  <tbody>\n",
              "    <tr>\n",
              "      <th>0</th>\n",
              "      <td>255</td>\n",
              "      <td>1</td>\n",
              "      <td>38</td>\n",
              "      <td>38.0</td>\n",
              "      <td>6.710526</td>\n",
              "      <td>23</td>\n",
              "      <td>16</td>\n",
              "    </tr>\n",
              "    <tr>\n",
              "      <th>1</th>\n",
              "      <td>62</td>\n",
              "      <td>1</td>\n",
              "      <td>12</td>\n",
              "      <td>12.0</td>\n",
              "      <td>5.166667</td>\n",
              "      <td>5</td>\n",
              "      <td>8</td>\n",
              "    </tr>\n",
              "    <tr>\n",
              "      <th>2</th>\n",
              "      <td>66</td>\n",
              "      <td>1</td>\n",
              "      <td>13</td>\n",
              "      <td>13.0</td>\n",
              "      <td>5.076923</td>\n",
              "      <td>6</td>\n",
              "      <td>8</td>\n",
              "    </tr>\n",
              "    <tr>\n",
              "      <th>3</th>\n",
              "      <td>40</td>\n",
              "      <td>1</td>\n",
              "      <td>8</td>\n",
              "      <td>8.0</td>\n",
              "      <td>5.000000</td>\n",
              "      <td>3</td>\n",
              "      <td>6</td>\n",
              "    </tr>\n",
              "    <tr>\n",
              "      <th>4</th>\n",
              "      <td>209</td>\n",
              "      <td>1</td>\n",
              "      <td>36</td>\n",
              "      <td>36.0</td>\n",
              "      <td>5.805556</td>\n",
              "      <td>19</td>\n",
              "      <td>11</td>\n",
              "    </tr>\n",
              "    <tr>\n",
              "      <th>...</th>\n",
              "      <td>...</td>\n",
              "      <td>...</td>\n",
              "      <td>...</td>\n",
              "      <td>...</td>\n",
              "      <td>...</td>\n",
              "      <td>...</td>\n",
              "      <td>...</td>\n",
              "    </tr>\n",
              "    <tr>\n",
              "      <th>4795</th>\n",
              "      <td>165</td>\n",
              "      <td>1</td>\n",
              "      <td>26</td>\n",
              "      <td>26.0</td>\n",
              "      <td>6.346154</td>\n",
              "      <td>12</td>\n",
              "      <td>12</td>\n",
              "    </tr>\n",
              "    <tr>\n",
              "      <th>4796</th>\n",
              "      <td>118</td>\n",
              "      <td>1</td>\n",
              "      <td>21</td>\n",
              "      <td>21.0</td>\n",
              "      <td>5.619048</td>\n",
              "      <td>9</td>\n",
              "      <td>10</td>\n",
              "    </tr>\n",
              "    <tr>\n",
              "      <th>4797</th>\n",
              "      <td>80</td>\n",
              "      <td>1</td>\n",
              "      <td>13</td>\n",
              "      <td>13.0</td>\n",
              "      <td>6.153846</td>\n",
              "      <td>6</td>\n",
              "      <td>11</td>\n",
              "    </tr>\n",
              "    <tr>\n",
              "      <th>4798</th>\n",
              "      <td>226</td>\n",
              "      <td>1</td>\n",
              "      <td>32</td>\n",
              "      <td>32.0</td>\n",
              "      <td>7.062500</td>\n",
              "      <td>16</td>\n",
              "      <td>16</td>\n",
              "    </tr>\n",
              "    <tr>\n",
              "      <th>4799</th>\n",
              "      <td>95</td>\n",
              "      <td>1</td>\n",
              "      <td>17</td>\n",
              "      <td>17.0</td>\n",
              "      <td>5.588235</td>\n",
              "      <td>8</td>\n",
              "      <td>11</td>\n",
              "    </tr>\n",
              "  </tbody>\n",
              "</table>\n",
              "<p>4800 rows × 7 columns</p>\n",
              "</div>\n",
              "      <button class=\"colab-df-convert\" onclick=\"convertToInteractive('df-624a8880-bd06-4d5a-b6b7-5ee3c9985b31')\"\n",
              "              title=\"Convert this dataframe to an interactive table.\"\n",
              "              style=\"display:none;\">\n",
              "        \n",
              "  <svg xmlns=\"http://www.w3.org/2000/svg\" height=\"24px\"viewBox=\"0 0 24 24\"\n",
              "       width=\"24px\">\n",
              "    <path d=\"M0 0h24v24H0V0z\" fill=\"none\"/>\n",
              "    <path d=\"M18.56 5.44l.94 2.06.94-2.06 2.06-.94-2.06-.94-.94-2.06-.94 2.06-2.06.94zm-11 1L8.5 8.5l.94-2.06 2.06-.94-2.06-.94L8.5 2.5l-.94 2.06-2.06.94zm10 10l.94 2.06.94-2.06 2.06-.94-2.06-.94-.94-2.06-.94 2.06-2.06.94z\"/><path d=\"M17.41 7.96l-1.37-1.37c-.4-.4-.92-.59-1.43-.59-.52 0-1.04.2-1.43.59L10.3 9.45l-7.72 7.72c-.78.78-.78 2.05 0 2.83L4 21.41c.39.39.9.59 1.41.59.51 0 1.02-.2 1.41-.59l7.78-7.78 2.81-2.81c.8-.78.8-2.07 0-2.86zM5.41 20L4 18.59l7.72-7.72 1.47 1.35L5.41 20z\"/>\n",
              "  </svg>\n",
              "      </button>\n",
              "      \n",
              "  <style>\n",
              "    .colab-df-container {\n",
              "      display:flex;\n",
              "      flex-wrap:wrap;\n",
              "      gap: 12px;\n",
              "    }\n",
              "\n",
              "    .colab-df-convert {\n",
              "      background-color: #E8F0FE;\n",
              "      border: none;\n",
              "      border-radius: 50%;\n",
              "      cursor: pointer;\n",
              "      display: none;\n",
              "      fill: #1967D2;\n",
              "      height: 32px;\n",
              "      padding: 0 0 0 0;\n",
              "      width: 32px;\n",
              "    }\n",
              "\n",
              "    .colab-df-convert:hover {\n",
              "      background-color: #E2EBFA;\n",
              "      box-shadow: 0px 1px 2px rgba(60, 64, 67, 0.3), 0px 1px 3px 1px rgba(60, 64, 67, 0.15);\n",
              "      fill: #174EA6;\n",
              "    }\n",
              "\n",
              "    [theme=dark] .colab-df-convert {\n",
              "      background-color: #3B4455;\n",
              "      fill: #D2E3FC;\n",
              "    }\n",
              "\n",
              "    [theme=dark] .colab-df-convert:hover {\n",
              "      background-color: #434B5C;\n",
              "      box-shadow: 0px 1px 3px 1px rgba(0, 0, 0, 0.15);\n",
              "      filter: drop-shadow(0px 1px 2px rgba(0, 0, 0, 0.3));\n",
              "      fill: #FFFFFF;\n",
              "    }\n",
              "  </style>\n",
              "\n",
              "      <script>\n",
              "        const buttonEl =\n",
              "          document.querySelector('#df-624a8880-bd06-4d5a-b6b7-5ee3c9985b31 button.colab-df-convert');\n",
              "        buttonEl.style.display =\n",
              "          google.colab.kernel.accessAllowed ? 'block' : 'none';\n",
              "\n",
              "        async function convertToInteractive(key) {\n",
              "          const element = document.querySelector('#df-624a8880-bd06-4d5a-b6b7-5ee3c9985b31');\n",
              "          const dataTable =\n",
              "            await google.colab.kernel.invokeFunction('convertToInteractive',\n",
              "                                                     [key], {});\n",
              "          if (!dataTable) return;\n",
              "\n",
              "          const docLinkHtml = 'Like what you see? Visit the ' +\n",
              "            '<a target=\"_blank\" href=https://colab.research.google.com/notebooks/data_table.ipynb>data table notebook</a>'\n",
              "            + ' to learn more about interactive tables.';\n",
              "          element.innerHTML = '';\n",
              "          dataTable['output_type'] = 'display_data';\n",
              "          await google.colab.output.renderOutput(dataTable, element);\n",
              "          const docLink = document.createElement('div');\n",
              "          docLink.innerHTML = docLinkHtml;\n",
              "          element.appendChild(docLink);\n",
              "        }\n",
              "      </script>\n",
              "    </div>\n",
              "  </div>\n",
              "  "
            ],
            "text/plain": [
              "      text_length  number_of_sentences  number_of_words  sent_length_avg  \\\n",
              "0             255                    1               38             38.0   \n",
              "1              62                    1               12             12.0   \n",
              "2              66                    1               13             13.0   \n",
              "3              40                    1                8              8.0   \n",
              "4             209                    1               36             36.0   \n",
              "...           ...                  ...              ...              ...   \n",
              "4795          165                    1               26             26.0   \n",
              "4796          118                    1               21             21.0   \n",
              "4797           80                    1               13             13.0   \n",
              "4798          226                    1               32             32.0   \n",
              "4799           95                    1               17             17.0   \n",
              "\n",
              "      words_length_avg  number_of_words_after_lemma_stop  longest_word_size  \n",
              "0             6.710526                                23                 16  \n",
              "1             5.166667                                 5                  8  \n",
              "2             5.076923                                 6                  8  \n",
              "3             5.000000                                 3                  6  \n",
              "4             5.805556                                19                 11  \n",
              "...                ...                               ...                ...  \n",
              "4795          6.346154                                12                 12  \n",
              "4796          5.619048                                 9                 10  \n",
              "4797          6.153846                                 6                 11  \n",
              "4798          7.062500                                16                 16  \n",
              "4799          5.588235                                 8                 11  \n",
              "\n",
              "[4800 rows x 7 columns]"
            ]
          },
          "execution_count": 10,
          "metadata": {},
          "output_type": "execute_result"
        }
      ],
      "source": [
        "dfTrainInfo"
      ]
    },
    {
      "cell_type": "markdown",
      "metadata": {
        "id": "6Zt2v8jC_d7k"
      },
      "source": [
        "> `text_length`: Character length of the text  \n",
        "> `number_of_sentences`: How many sentences are in the text   \n",
        "> `number_of_words`:  Number of words in text  \n",
        "> `sent_length_avg`: Average number of words per sentence       \n",
        "> `words_length_avg`: Average length of the words        \n",
        "> `number_of_words_after_lemma_stop`: Number of words remaining after stop\n",
        ">\n",
        ">  words removal and lemmatization  \n",
        "> `longest_word_size`: Size of the largest word in the sentence"
      ]
    },
    {
      "cell_type": "markdown",
      "metadata": {
        "id": "aYDZc_3LZm3u"
      },
      "source": [
        "**Tokenizing every words in dfTrain and dfTest to feed it as vocabulary to Word2Vec**"
      ]
    },
    {
      "cell_type": "code",
      "execution_count": null,
      "metadata": {
        "colab": {
          "base_uri": "https://localhost:8080/"
        },
        "id": "JdavzCDmZwWo",
        "outputId": "94715df3-9f26-4712-fe59-6d6149f6dcd4"
      },
      "outputs": [
        {
          "name": "stderr",
          "output_type": "stream",
          "text": [
            "100%|██████████| 4800/4800 [01:06<00:00, 71.81it/s] \n"
          ]
        }
      ],
      "source": [
        "# Tokenizing texts in dfTrain\n",
        "processed_texts = []\n",
        "for text in tqdm(dfTrain[\"sentence\"]):\n",
        "  processed_text = spacy_tokenizer(text)\n",
        "  processed_texts.append(processed_text)"
      ]
    },
    {
      "cell_type": "code",
      "execution_count": null,
      "metadata": {
        "colab": {
          "base_uri": "https://localhost:8080/"
        },
        "id": "ZF5t-CfaZ0gP",
        "outputId": "204ca1e9-42c3-4dc7-8806-29317b0b1f94"
      },
      "outputs": [
        {
          "data": {
            "text/plain": [
              "4800"
            ]
          },
          "execution_count": 12,
          "metadata": {},
          "output_type": "execute_result"
        }
      ],
      "source": [
        "len(processed_texts)"
      ]
    },
    {
      "cell_type": "code",
      "execution_count": null,
      "metadata": {
        "colab": {
          "base_uri": "https://localhost:8080/"
        },
        "id": "mj5zrWyAZ1-3",
        "outputId": "59480840-3b19-42a6-89c9-54df72d93f05"
      },
      "outputs": [
        {
          "name": "stderr",
          "output_type": "stream",
          "text": [
            "100%|██████████| 1200/1200 [00:12<00:00, 94.00it/s]\n"
          ]
        }
      ],
      "source": [
        "# Tokenize texts in dfTrain\n",
        "processed_texts_test = []\n",
        "for text in tqdm(dfTest[\"sentence\"]):\n",
        "  processed_text_test = spacy_tokenizer(text)\n",
        "  processed_texts_test.append(processed_text_test)"
      ]
    },
    {
      "cell_type": "code",
      "execution_count": null,
      "metadata": {
        "colab": {
          "base_uri": "https://localhost:8080/"
        },
        "id": "2Bc8DLW5Z4FA",
        "outputId": "e34f966d-7173-49b6-9698-2acde027d05c"
      },
      "outputs": [
        {
          "data": {
            "text/plain": [
              "1200"
            ]
          },
          "execution_count": 14,
          "metadata": {},
          "output_type": "execute_result"
        }
      ],
      "source": [
        "len(processed_texts_test)"
      ]
    },
    {
      "cell_type": "code",
      "execution_count": null,
      "metadata": {
        "id": "eTwZ51c1Z8LL"
      },
      "outputs": [],
      "source": [
        "# Merging both lists of tokens\n",
        "processed_texts_both = processed_texts + processed_texts_test"
      ]
    },
    {
      "cell_type": "code",
      "execution_count": null,
      "metadata": {
        "colab": {
          "base_uri": "https://localhost:8080/"
        },
        "id": "tzhbDiAHZ9Fo",
        "outputId": "903f87d7-c510-490d-b759-d4fa052fcb96"
      },
      "outputs": [
        {
          "data": {
            "text/plain": [
              "6000"
            ]
          },
          "execution_count": 16,
          "metadata": {},
          "output_type": "execute_result"
        }
      ],
      "source": [
        "len(processed_texts_both)"
      ]
    },
    {
      "cell_type": "code",
      "execution_count": null,
      "metadata": {
        "id": "Q74-M-CXanMg"
      },
      "outputs": [],
      "source": [
        "# import package for Word2Vec\n",
        "import gensim"
      ]
    },
    {
      "cell_type": "code",
      "execution_count": null,
      "metadata": {
        "id": "91fMv-kMarCB"
      },
      "outputs": [],
      "source": [
        "# Necessary function to set a fixed random state to Word2Vec\n",
        "def hash(astring):\n",
        "   return ord(astring[0])"
      ]
    },
    {
      "cell_type": "code",
      "execution_count": null,
      "metadata": {
        "colab": {
          "base_uri": "https://localhost:8080/"
        },
        "id": "CC9il23SaklQ",
        "outputId": "7fe89282-89b4-483a-e518-448b5488c959"
      },
      "outputs": [
        {
          "data": {
            "text/plain": [
              "(8322315, 12880800)"
            ]
          },
          "execution_count": 30,
          "metadata": {},
          "output_type": "execute_result"
        }
      ],
      "source": [
        "# Building Word2Vec model\n",
        "model = gensim.models.Word2Vec(size=512, window=10, min_count=1, workers=1, seed = 0, hashfxn=hash)\n",
        "model.build_vocab(processed_texts_both)\n",
        "# train model on preprocessed sentences\n",
        "model.train(processed_texts_both, total_examples=len(processed_texts_both), epochs=100)"
      ]
    },
    {
      "cell_type": "markdown",
      "metadata": {
        "id": "yDWKvwCAbKc4"
      },
      "source": [
        "**Building dataframe with vectors**"
      ]
    },
    {
      "cell_type": "code",
      "execution_count": null,
      "metadata": {
        "colab": {
          "base_uri": "https://localhost:8080/"
        },
        "id": "GxGs7zozbf1D",
        "outputId": "743f2b70-d1a2-4b13-b1f8-6c4ad8d9fd47"
      },
      "outputs": [
        {
          "name": "stderr",
          "output_type": "stream",
          "text": [
            "  0%|          | 0/4800 [00:00<?, ?it/s]<ipython-input-31-690c4e85c5e0>:7: DeprecationWarning: Call to deprecated `__getitem__` (Method will be removed in 4.0.0, use self.wv.__getitem__() instead).\n",
            "  vectors.append(sum(model[token] for token in sent)/len(sent))\n",
            "100%|██████████| 4800/4800 [00:00<00:00, 7092.75it/s]\n"
          ]
        }
      ],
      "source": [
        "# Applying Word2Vec vectorizer to every sentence in dfTrain\n",
        "vectors = []\n",
        "for sent in tqdm(processed_texts):\n",
        "    if len(sent) == 0:\n",
        "      vectors.append(np.zeros(128))\n",
        "    else:\n",
        "      vectors.append(sum(model[token] for token in sent)/len(sent))\n"
      ]
    },
    {
      "cell_type": "code",
      "execution_count": null,
      "metadata": {
        "id": "LuTvSN8kchCl"
      },
      "outputs": [],
      "source": [
        "# vectors to Dataframe\n",
        "dfVectors = pd.DataFrame(vectors)"
      ]
    },
    {
      "cell_type": "code",
      "execution_count": null,
      "metadata": {
        "id": "9NoEyir7ckwm"
      },
      "outputs": [],
      "source": [
        "# Concatenating vectors and info dataframes\n",
        "dfFinal = pd.concat([dfVectors, dfTrainInfo], axis = 1)"
      ]
    },
    {
      "cell_type": "code",
      "execution_count": null,
      "metadata": {
        "colab": {
          "base_uri": "https://localhost:8080/",
          "height": 488
        },
        "id": "FWdcLFhIcvO0",
        "outputId": "ebf32e2d-65f1-47ff-d933-4dbdae8b1abb"
      },
      "outputs": [
        {
          "data": {
            "text/html": [
              "\n",
              "  <div id=\"df-729412bd-104a-445d-9503-8d03d96a4fd0\">\n",
              "    <div class=\"colab-df-container\">\n",
              "      <div>\n",
              "<style scoped>\n",
              "    .dataframe tbody tr th:only-of-type {\n",
              "        vertical-align: middle;\n",
              "    }\n",
              "\n",
              "    .dataframe tbody tr th {\n",
              "        vertical-align: top;\n",
              "    }\n",
              "\n",
              "    .dataframe thead th {\n",
              "        text-align: right;\n",
              "    }\n",
              "</style>\n",
              "<table border=\"1\" class=\"dataframe\">\n",
              "  <thead>\n",
              "    <tr style=\"text-align: right;\">\n",
              "      <th></th>\n",
              "      <th>0</th>\n",
              "      <th>1</th>\n",
              "      <th>2</th>\n",
              "      <th>3</th>\n",
              "      <th>4</th>\n",
              "      <th>5</th>\n",
              "      <th>6</th>\n",
              "      <th>7</th>\n",
              "      <th>8</th>\n",
              "      <th>9</th>\n",
              "      <th>...</th>\n",
              "      <th>509</th>\n",
              "      <th>510</th>\n",
              "      <th>511</th>\n",
              "      <th>text_length</th>\n",
              "      <th>number_of_sentences</th>\n",
              "      <th>number_of_words</th>\n",
              "      <th>sent_length_avg</th>\n",
              "      <th>words_length_avg</th>\n",
              "      <th>number_of_words_after_lemma_stop</th>\n",
              "      <th>longest_word_size</th>\n",
              "    </tr>\n",
              "  </thead>\n",
              "  <tbody>\n",
              "    <tr>\n",
              "      <th>0</th>\n",
              "      <td>-0.264702</td>\n",
              "      <td>-0.054860</td>\n",
              "      <td>0.008756</td>\n",
              "      <td>-0.019533</td>\n",
              "      <td>-0.098331</td>\n",
              "      <td>0.196590</td>\n",
              "      <td>-0.306934</td>\n",
              "      <td>-0.271492</td>\n",
              "      <td>0.299544</td>\n",
              "      <td>-0.026537</td>\n",
              "      <td>...</td>\n",
              "      <td>0.260990</td>\n",
              "      <td>-0.077786</td>\n",
              "      <td>0.063096</td>\n",
              "      <td>255</td>\n",
              "      <td>1</td>\n",
              "      <td>38</td>\n",
              "      <td>38.0</td>\n",
              "      <td>6.710526</td>\n",
              "      <td>23</td>\n",
              "      <td>16</td>\n",
              "    </tr>\n",
              "    <tr>\n",
              "      <th>1</th>\n",
              "      <td>-0.264473</td>\n",
              "      <td>-0.216078</td>\n",
              "      <td>-0.027391</td>\n",
              "      <td>-0.047066</td>\n",
              "      <td>-0.198998</td>\n",
              "      <td>0.532014</td>\n",
              "      <td>0.274604</td>\n",
              "      <td>0.385479</td>\n",
              "      <td>-0.096584</td>\n",
              "      <td>0.040077</td>\n",
              "      <td>...</td>\n",
              "      <td>-0.255355</td>\n",
              "      <td>-0.447171</td>\n",
              "      <td>-0.071805</td>\n",
              "      <td>62</td>\n",
              "      <td>1</td>\n",
              "      <td>12</td>\n",
              "      <td>12.0</td>\n",
              "      <td>5.166667</td>\n",
              "      <td>5</td>\n",
              "      <td>8</td>\n",
              "    </tr>\n",
              "    <tr>\n",
              "      <th>2</th>\n",
              "      <td>-0.239763</td>\n",
              "      <td>0.159461</td>\n",
              "      <td>0.030382</td>\n",
              "      <td>0.116563</td>\n",
              "      <td>-0.261869</td>\n",
              "      <td>0.347780</td>\n",
              "      <td>-0.384190</td>\n",
              "      <td>-0.334554</td>\n",
              "      <td>0.470524</td>\n",
              "      <td>0.097451</td>\n",
              "      <td>...</td>\n",
              "      <td>0.108303</td>\n",
              "      <td>-0.050763</td>\n",
              "      <td>0.125373</td>\n",
              "      <td>66</td>\n",
              "      <td>1</td>\n",
              "      <td>13</td>\n",
              "      <td>13.0</td>\n",
              "      <td>5.076923</td>\n",
              "      <td>6</td>\n",
              "      <td>8</td>\n",
              "    </tr>\n",
              "    <tr>\n",
              "      <th>3</th>\n",
              "      <td>0.258340</td>\n",
              "      <td>0.209802</td>\n",
              "      <td>-0.105560</td>\n",
              "      <td>0.037034</td>\n",
              "      <td>-0.341441</td>\n",
              "      <td>0.300095</td>\n",
              "      <td>-0.178567</td>\n",
              "      <td>-0.065097</td>\n",
              "      <td>-0.003501</td>\n",
              "      <td>0.051051</td>\n",
              "      <td>...</td>\n",
              "      <td>-0.277259</td>\n",
              "      <td>-0.135898</td>\n",
              "      <td>-0.257274</td>\n",
              "      <td>40</td>\n",
              "      <td>1</td>\n",
              "      <td>8</td>\n",
              "      <td>8.0</td>\n",
              "      <td>5.000000</td>\n",
              "      <td>3</td>\n",
              "      <td>6</td>\n",
              "    </tr>\n",
              "    <tr>\n",
              "      <th>4</th>\n",
              "      <td>0.071009</td>\n",
              "      <td>-0.090257</td>\n",
              "      <td>-0.456437</td>\n",
              "      <td>0.306881</td>\n",
              "      <td>-0.253829</td>\n",
              "      <td>0.368368</td>\n",
              "      <td>-0.001610</td>\n",
              "      <td>-0.022038</td>\n",
              "      <td>-0.018982</td>\n",
              "      <td>-0.004057</td>\n",
              "      <td>...</td>\n",
              "      <td>0.095305</td>\n",
              "      <td>0.129927</td>\n",
              "      <td>-0.002473</td>\n",
              "      <td>209</td>\n",
              "      <td>1</td>\n",
              "      <td>36</td>\n",
              "      <td>36.0</td>\n",
              "      <td>5.805556</td>\n",
              "      <td>19</td>\n",
              "      <td>11</td>\n",
              "    </tr>\n",
              "    <tr>\n",
              "      <th>...</th>\n",
              "      <td>...</td>\n",
              "      <td>...</td>\n",
              "      <td>...</td>\n",
              "      <td>...</td>\n",
              "      <td>...</td>\n",
              "      <td>...</td>\n",
              "      <td>...</td>\n",
              "      <td>...</td>\n",
              "      <td>...</td>\n",
              "      <td>...</td>\n",
              "      <td>...</td>\n",
              "      <td>...</td>\n",
              "      <td>...</td>\n",
              "      <td>...</td>\n",
              "      <td>...</td>\n",
              "      <td>...</td>\n",
              "      <td>...</td>\n",
              "      <td>...</td>\n",
              "      <td>...</td>\n",
              "      <td>...</td>\n",
              "      <td>...</td>\n",
              "    </tr>\n",
              "    <tr>\n",
              "      <th>4795</th>\n",
              "      <td>-0.087123</td>\n",
              "      <td>0.071570</td>\n",
              "      <td>0.229351</td>\n",
              "      <td>-0.109172</td>\n",
              "      <td>0.217795</td>\n",
              "      <td>0.272276</td>\n",
              "      <td>0.023175</td>\n",
              "      <td>-0.324243</td>\n",
              "      <td>0.156078</td>\n",
              "      <td>-0.049463</td>\n",
              "      <td>...</td>\n",
              "      <td>-0.186852</td>\n",
              "      <td>-0.171943</td>\n",
              "      <td>0.052046</td>\n",
              "      <td>165</td>\n",
              "      <td>1</td>\n",
              "      <td>26</td>\n",
              "      <td>26.0</td>\n",
              "      <td>6.346154</td>\n",
              "      <td>12</td>\n",
              "      <td>12</td>\n",
              "    </tr>\n",
              "    <tr>\n",
              "      <th>4796</th>\n",
              "      <td>0.072282</td>\n",
              "      <td>0.075880</td>\n",
              "      <td>0.139354</td>\n",
              "      <td>0.131627</td>\n",
              "      <td>0.079980</td>\n",
              "      <td>0.326707</td>\n",
              "      <td>0.241352</td>\n",
              "      <td>-0.148232</td>\n",
              "      <td>0.090060</td>\n",
              "      <td>-0.264072</td>\n",
              "      <td>...</td>\n",
              "      <td>-0.051814</td>\n",
              "      <td>-0.041908</td>\n",
              "      <td>0.131595</td>\n",
              "      <td>118</td>\n",
              "      <td>1</td>\n",
              "      <td>21</td>\n",
              "      <td>21.0</td>\n",
              "      <td>5.619048</td>\n",
              "      <td>9</td>\n",
              "      <td>10</td>\n",
              "    </tr>\n",
              "    <tr>\n",
              "      <th>4797</th>\n",
              "      <td>0.211027</td>\n",
              "      <td>0.076704</td>\n",
              "      <td>0.090963</td>\n",
              "      <td>-0.079126</td>\n",
              "      <td>0.100133</td>\n",
              "      <td>0.395611</td>\n",
              "      <td>0.196953</td>\n",
              "      <td>0.269708</td>\n",
              "      <td>0.222744</td>\n",
              "      <td>0.029607</td>\n",
              "      <td>...</td>\n",
              "      <td>0.228088</td>\n",
              "      <td>0.054794</td>\n",
              "      <td>0.021562</td>\n",
              "      <td>80</td>\n",
              "      <td>1</td>\n",
              "      <td>13</td>\n",
              "      <td>13.0</td>\n",
              "      <td>6.153846</td>\n",
              "      <td>6</td>\n",
              "      <td>11</td>\n",
              "    </tr>\n",
              "    <tr>\n",
              "      <th>4798</th>\n",
              "      <td>-0.440582</td>\n",
              "      <td>-0.002045</td>\n",
              "      <td>-0.135184</td>\n",
              "      <td>0.026540</td>\n",
              "      <td>-0.060260</td>\n",
              "      <td>0.174795</td>\n",
              "      <td>0.117925</td>\n",
              "      <td>-0.244291</td>\n",
              "      <td>0.130200</td>\n",
              "      <td>0.034243</td>\n",
              "      <td>...</td>\n",
              "      <td>0.049387</td>\n",
              "      <td>-0.296686</td>\n",
              "      <td>-0.074006</td>\n",
              "      <td>226</td>\n",
              "      <td>1</td>\n",
              "      <td>32</td>\n",
              "      <td>32.0</td>\n",
              "      <td>7.062500</td>\n",
              "      <td>16</td>\n",
              "      <td>16</td>\n",
              "    </tr>\n",
              "    <tr>\n",
              "      <th>4799</th>\n",
              "      <td>0.016725</td>\n",
              "      <td>0.020349</td>\n",
              "      <td>0.135337</td>\n",
              "      <td>0.110984</td>\n",
              "      <td>0.109713</td>\n",
              "      <td>-0.155793</td>\n",
              "      <td>0.157186</td>\n",
              "      <td>-0.067303</td>\n",
              "      <td>-0.063967</td>\n",
              "      <td>-0.015142</td>\n",
              "      <td>...</td>\n",
              "      <td>0.195342</td>\n",
              "      <td>0.131729</td>\n",
              "      <td>0.214055</td>\n",
              "      <td>95</td>\n",
              "      <td>1</td>\n",
              "      <td>17</td>\n",
              "      <td>17.0</td>\n",
              "      <td>5.588235</td>\n",
              "      <td>8</td>\n",
              "      <td>11</td>\n",
              "    </tr>\n",
              "  </tbody>\n",
              "</table>\n",
              "<p>4800 rows × 519 columns</p>\n",
              "</div>\n",
              "      <button class=\"colab-df-convert\" onclick=\"convertToInteractive('df-729412bd-104a-445d-9503-8d03d96a4fd0')\"\n",
              "              title=\"Convert this dataframe to an interactive table.\"\n",
              "              style=\"display:none;\">\n",
              "        \n",
              "  <svg xmlns=\"http://www.w3.org/2000/svg\" height=\"24px\"viewBox=\"0 0 24 24\"\n",
              "       width=\"24px\">\n",
              "    <path d=\"M0 0h24v24H0V0z\" fill=\"none\"/>\n",
              "    <path d=\"M18.56 5.44l.94 2.06.94-2.06 2.06-.94-2.06-.94-.94-2.06-.94 2.06-2.06.94zm-11 1L8.5 8.5l.94-2.06 2.06-.94-2.06-.94L8.5 2.5l-.94 2.06-2.06.94zm10 10l.94 2.06.94-2.06 2.06-.94-2.06-.94-.94-2.06-.94 2.06-2.06.94z\"/><path d=\"M17.41 7.96l-1.37-1.37c-.4-.4-.92-.59-1.43-.59-.52 0-1.04.2-1.43.59L10.3 9.45l-7.72 7.72c-.78.78-.78 2.05 0 2.83L4 21.41c.39.39.9.59 1.41.59.51 0 1.02-.2 1.41-.59l7.78-7.78 2.81-2.81c.8-.78.8-2.07 0-2.86zM5.41 20L4 18.59l7.72-7.72 1.47 1.35L5.41 20z\"/>\n",
              "  </svg>\n",
              "      </button>\n",
              "      \n",
              "  <style>\n",
              "    .colab-df-container {\n",
              "      display:flex;\n",
              "      flex-wrap:wrap;\n",
              "      gap: 12px;\n",
              "    }\n",
              "\n",
              "    .colab-df-convert {\n",
              "      background-color: #E8F0FE;\n",
              "      border: none;\n",
              "      border-radius: 50%;\n",
              "      cursor: pointer;\n",
              "      display: none;\n",
              "      fill: #1967D2;\n",
              "      height: 32px;\n",
              "      padding: 0 0 0 0;\n",
              "      width: 32px;\n",
              "    }\n",
              "\n",
              "    .colab-df-convert:hover {\n",
              "      background-color: #E2EBFA;\n",
              "      box-shadow: 0px 1px 2px rgba(60, 64, 67, 0.3), 0px 1px 3px 1px rgba(60, 64, 67, 0.15);\n",
              "      fill: #174EA6;\n",
              "    }\n",
              "\n",
              "    [theme=dark] .colab-df-convert {\n",
              "      background-color: #3B4455;\n",
              "      fill: #D2E3FC;\n",
              "    }\n",
              "\n",
              "    [theme=dark] .colab-df-convert:hover {\n",
              "      background-color: #434B5C;\n",
              "      box-shadow: 0px 1px 3px 1px rgba(0, 0, 0, 0.15);\n",
              "      filter: drop-shadow(0px 1px 2px rgba(0, 0, 0, 0.3));\n",
              "      fill: #FFFFFF;\n",
              "    }\n",
              "  </style>\n",
              "\n",
              "      <script>\n",
              "        const buttonEl =\n",
              "          document.querySelector('#df-729412bd-104a-445d-9503-8d03d96a4fd0 button.colab-df-convert');\n",
              "        buttonEl.style.display =\n",
              "          google.colab.kernel.accessAllowed ? 'block' : 'none';\n",
              "\n",
              "        async function convertToInteractive(key) {\n",
              "          const element = document.querySelector('#df-729412bd-104a-445d-9503-8d03d96a4fd0');\n",
              "          const dataTable =\n",
              "            await google.colab.kernel.invokeFunction('convertToInteractive',\n",
              "                                                     [key], {});\n",
              "          if (!dataTable) return;\n",
              "\n",
              "          const docLinkHtml = 'Like what you see? Visit the ' +\n",
              "            '<a target=\"_blank\" href=https://colab.research.google.com/notebooks/data_table.ipynb>data table notebook</a>'\n",
              "            + ' to learn more about interactive tables.';\n",
              "          element.innerHTML = '';\n",
              "          dataTable['output_type'] = 'display_data';\n",
              "          await google.colab.output.renderOutput(dataTable, element);\n",
              "          const docLink = document.createElement('div');\n",
              "          docLink.innerHTML = docLinkHtml;\n",
              "          element.appendChild(docLink);\n",
              "        }\n",
              "      </script>\n",
              "    </div>\n",
              "  </div>\n",
              "  "
            ],
            "text/plain": [
              "             0         1         2         3         4         5         6  \\\n",
              "0    -0.264702 -0.054860  0.008756 -0.019533 -0.098331  0.196590 -0.306934   \n",
              "1    -0.264473 -0.216078 -0.027391 -0.047066 -0.198998  0.532014  0.274604   \n",
              "2    -0.239763  0.159461  0.030382  0.116563 -0.261869  0.347780 -0.384190   \n",
              "3     0.258340  0.209802 -0.105560  0.037034 -0.341441  0.300095 -0.178567   \n",
              "4     0.071009 -0.090257 -0.456437  0.306881 -0.253829  0.368368 -0.001610   \n",
              "...        ...       ...       ...       ...       ...       ...       ...   \n",
              "4795 -0.087123  0.071570  0.229351 -0.109172  0.217795  0.272276  0.023175   \n",
              "4796  0.072282  0.075880  0.139354  0.131627  0.079980  0.326707  0.241352   \n",
              "4797  0.211027  0.076704  0.090963 -0.079126  0.100133  0.395611  0.196953   \n",
              "4798 -0.440582 -0.002045 -0.135184  0.026540 -0.060260  0.174795  0.117925   \n",
              "4799  0.016725  0.020349  0.135337  0.110984  0.109713 -0.155793  0.157186   \n",
              "\n",
              "             7         8         9  ...       509       510       511  \\\n",
              "0    -0.271492  0.299544 -0.026537  ...  0.260990 -0.077786  0.063096   \n",
              "1     0.385479 -0.096584  0.040077  ... -0.255355 -0.447171 -0.071805   \n",
              "2    -0.334554  0.470524  0.097451  ...  0.108303 -0.050763  0.125373   \n",
              "3    -0.065097 -0.003501  0.051051  ... -0.277259 -0.135898 -0.257274   \n",
              "4    -0.022038 -0.018982 -0.004057  ...  0.095305  0.129927 -0.002473   \n",
              "...        ...       ...       ...  ...       ...       ...       ...   \n",
              "4795 -0.324243  0.156078 -0.049463  ... -0.186852 -0.171943  0.052046   \n",
              "4796 -0.148232  0.090060 -0.264072  ... -0.051814 -0.041908  0.131595   \n",
              "4797  0.269708  0.222744  0.029607  ...  0.228088  0.054794  0.021562   \n",
              "4798 -0.244291  0.130200  0.034243  ...  0.049387 -0.296686 -0.074006   \n",
              "4799 -0.067303 -0.063967 -0.015142  ...  0.195342  0.131729  0.214055   \n",
              "\n",
              "      text_length  number_of_sentences  number_of_words  sent_length_avg  \\\n",
              "0             255                    1               38             38.0   \n",
              "1              62                    1               12             12.0   \n",
              "2              66                    1               13             13.0   \n",
              "3              40                    1                8              8.0   \n",
              "4             209                    1               36             36.0   \n",
              "...           ...                  ...              ...              ...   \n",
              "4795          165                    1               26             26.0   \n",
              "4796          118                    1               21             21.0   \n",
              "4797           80                    1               13             13.0   \n",
              "4798          226                    1               32             32.0   \n",
              "4799           95                    1               17             17.0   \n",
              "\n",
              "      words_length_avg  number_of_words_after_lemma_stop  longest_word_size  \n",
              "0             6.710526                                23                 16  \n",
              "1             5.166667                                 5                  8  \n",
              "2             5.076923                                 6                  8  \n",
              "3             5.000000                                 3                  6  \n",
              "4             5.805556                                19                 11  \n",
              "...                ...                               ...                ...  \n",
              "4795          6.346154                                12                 12  \n",
              "4796          5.619048                                 9                 10  \n",
              "4797          6.153846                                 6                 11  \n",
              "4798          7.062500                                16                 16  \n",
              "4799          5.588235                                 8                 11  \n",
              "\n",
              "[4800 rows x 519 columns]"
            ]
          },
          "execution_count": 34,
          "metadata": {},
          "output_type": "execute_result"
        }
      ],
      "source": [
        "dfFinal"
      ]
    },
    {
      "cell_type": "markdown",
      "metadata": {
        "id": "t1BHpPhJeEJ1"
      },
      "source": [
        "# 3. Training a model using Word2Vec and LogisticRegression"
      ]
    },
    {
      "cell_type": "code",
      "execution_count": null,
      "metadata": {
        "id": "TY9l9haZc4Ig"
      },
      "outputs": [],
      "source": [
        "from sklearn.linear_model import LogisticRegression"
      ]
    },
    {
      "cell_type": "code",
      "execution_count": null,
      "metadata": {
        "colab": {
          "base_uri": "https://localhost:8080/"
        },
        "id": "wqowG4sfc1KR",
        "outputId": "0b9fbb05-e101-4bf9-bc23-f0d1312c0e96"
      },
      "outputs": [
        {
          "name": "stderr",
          "output_type": "stream",
          "text": [
            "/usr/local/lib/python3.8/dist-packages/sklearn/utils/validation.py:1688: FutureWarning: Feature names only support names that are all strings. Got feature names with dtypes: ['int', 'str']. An error will be raised in 1.2.\n",
            "  warnings.warn(\n"
          ]
        },
        {
          "data": {
            "text/plain": [
              "LogisticRegression(max_iter=10000, random_state=0)"
            ]
          },
          "execution_count": 36,
          "metadata": {},
          "output_type": "execute_result"
        }
      ],
      "source": [
        "# train logistic regression model\n",
        "X = dfFinal\n",
        "y = dfTrain['difficulty']\n",
        "\n",
        "# Splitting the data\n",
        "X_train, X_test, y_train, y_test = train_test_split(X, y, test_size=0.2, random_state=0)\n",
        "\n",
        "# Fitting using a LogisticRegression\n",
        "clf = LogisticRegression(max_iter=10000, random_state = 0)\n",
        "clf.fit(X_train, y_train)"
      ]
    },
    {
      "cell_type": "code",
      "execution_count": null,
      "metadata": {
        "colab": {
          "base_uri": "https://localhost:8080/"
        },
        "id": "jZP4fs8qdN4k",
        "outputId": "e108ce32-151c-4ec5-e43f-38fa1352a499"
      },
      "outputs": [
        {
          "name": "stderr",
          "output_type": "stream",
          "text": [
            "/usr/local/lib/python3.8/dist-packages/sklearn/utils/validation.py:1688: FutureWarning: Feature names only support names that are all strings. Got feature names with dtypes: ['int', 'str']. An error will be raised in 1.2.\n",
            "  warnings.warn(\n"
          ]
        }
      ],
      "source": [
        "y_pred_w2vLR = clf.predict(X_test)"
      ]
    },
    {
      "cell_type": "code",
      "execution_count": null,
      "metadata": {
        "colab": {
          "base_uri": "https://localhost:8080/",
          "height": 329
        },
        "id": "2Ouch0WPc27d",
        "outputId": "61a20389-4113-4c2e-ce18-2abb62ade84b"
      },
      "outputs": [
        {
          "data": {
            "text/html": [
              "\n",
              "  <div id=\"df-7e9ee508-7ff8-4dcc-9127-371882880085\">\n",
              "    <div class=\"colab-df-container\">\n",
              "      <div>\n",
              "<style scoped>\n",
              "    .dataframe tbody tr th:only-of-type {\n",
              "        vertical-align: middle;\n",
              "    }\n",
              "\n",
              "    .dataframe tbody tr th {\n",
              "        vertical-align: top;\n",
              "    }\n",
              "\n",
              "    .dataframe thead th {\n",
              "        text-align: right;\n",
              "    }\n",
              "</style>\n",
              "<table border=\"1\" class=\"dataframe\">\n",
              "  <thead>\n",
              "    <tr style=\"text-align: right;\">\n",
              "      <th></th>\n",
              "      <th>accuracy</th>\n",
              "      <th>precision</th>\n",
              "      <th>recall</th>\n",
              "      <th>f1 score</th>\n",
              "    </tr>\n",
              "  </thead>\n",
              "  <tbody>\n",
              "    <tr>\n",
              "      <th>results</th>\n",
              "      <td>0.499</td>\n",
              "      <td>0.5017</td>\n",
              "      <td>0.499</td>\n",
              "      <td>0.4949</td>\n",
              "    </tr>\n",
              "  </tbody>\n",
              "</table>\n",
              "</div>\n",
              "      <button class=\"colab-df-convert\" onclick=\"convertToInteractive('df-7e9ee508-7ff8-4dcc-9127-371882880085')\"\n",
              "              title=\"Convert this dataframe to an interactive table.\"\n",
              "              style=\"display:none;\">\n",
              "        \n",
              "  <svg xmlns=\"http://www.w3.org/2000/svg\" height=\"24px\"viewBox=\"0 0 24 24\"\n",
              "       width=\"24px\">\n",
              "    <path d=\"M0 0h24v24H0V0z\" fill=\"none\"/>\n",
              "    <path d=\"M18.56 5.44l.94 2.06.94-2.06 2.06-.94-2.06-.94-.94-2.06-.94 2.06-2.06.94zm-11 1L8.5 8.5l.94-2.06 2.06-.94-2.06-.94L8.5 2.5l-.94 2.06-2.06.94zm10 10l.94 2.06.94-2.06 2.06-.94-2.06-.94-.94-2.06-.94 2.06-2.06.94z\"/><path d=\"M17.41 7.96l-1.37-1.37c-.4-.4-.92-.59-1.43-.59-.52 0-1.04.2-1.43.59L10.3 9.45l-7.72 7.72c-.78.78-.78 2.05 0 2.83L4 21.41c.39.39.9.59 1.41.59.51 0 1.02-.2 1.41-.59l7.78-7.78 2.81-2.81c.8-.78.8-2.07 0-2.86zM5.41 20L4 18.59l7.72-7.72 1.47 1.35L5.41 20z\"/>\n",
              "  </svg>\n",
              "      </button>\n",
              "      \n",
              "  <style>\n",
              "    .colab-df-container {\n",
              "      display:flex;\n",
              "      flex-wrap:wrap;\n",
              "      gap: 12px;\n",
              "    }\n",
              "\n",
              "    .colab-df-convert {\n",
              "      background-color: #E8F0FE;\n",
              "      border: none;\n",
              "      border-radius: 50%;\n",
              "      cursor: pointer;\n",
              "      display: none;\n",
              "      fill: #1967D2;\n",
              "      height: 32px;\n",
              "      padding: 0 0 0 0;\n",
              "      width: 32px;\n",
              "    }\n",
              "\n",
              "    .colab-df-convert:hover {\n",
              "      background-color: #E2EBFA;\n",
              "      box-shadow: 0px 1px 2px rgba(60, 64, 67, 0.3), 0px 1px 3px 1px rgba(60, 64, 67, 0.15);\n",
              "      fill: #174EA6;\n",
              "    }\n",
              "\n",
              "    [theme=dark] .colab-df-convert {\n",
              "      background-color: #3B4455;\n",
              "      fill: #D2E3FC;\n",
              "    }\n",
              "\n",
              "    [theme=dark] .colab-df-convert:hover {\n",
              "      background-color: #434B5C;\n",
              "      box-shadow: 0px 1px 3px 1px rgba(0, 0, 0, 0.15);\n",
              "      filter: drop-shadow(0px 1px 2px rgba(0, 0, 0, 0.3));\n",
              "      fill: #FFFFFF;\n",
              "    }\n",
              "  </style>\n",
              "\n",
              "      <script>\n",
              "        const buttonEl =\n",
              "          document.querySelector('#df-7e9ee508-7ff8-4dcc-9127-371882880085 button.colab-df-convert');\n",
              "        buttonEl.style.display =\n",
              "          google.colab.kernel.accessAllowed ? 'block' : 'none';\n",
              "\n",
              "        async function convertToInteractive(key) {\n",
              "          const element = document.querySelector('#df-7e9ee508-7ff8-4dcc-9127-371882880085');\n",
              "          const dataTable =\n",
              "            await google.colab.kernel.invokeFunction('convertToInteractive',\n",
              "                                                     [key], {});\n",
              "          if (!dataTable) return;\n",
              "\n",
              "          const docLinkHtml = 'Like what you see? Visit the ' +\n",
              "            '<a target=\"_blank\" href=https://colab.research.google.com/notebooks/data_table.ipynb>data table notebook</a>'\n",
              "            + ' to learn more about interactive tables.';\n",
              "          element.innerHTML = '';\n",
              "          dataTable['output_type'] = 'display_data';\n",
              "          await google.colab.output.renderOutput(dataTable, element);\n",
              "          const docLink = document.createElement('div');\n",
              "          docLink.innerHTML = docLinkHtml;\n",
              "          element.appendChild(docLink);\n",
              "        }\n",
              "      </script>\n",
              "    </div>\n",
              "  </div>\n",
              "  "
            ],
            "text/plain": [
              "         accuracy  precision  recall  f1 score\n",
              "results     0.499     0.5017   0.499    0.4949"
            ]
          },
          "execution_count": 38,
          "metadata": {},
          "output_type": "execute_result"
        },
        {
          "data": {
            "image/png": "[encoded data removed]",
            "text/plain": [
              "<Figure size 432x288 with 2 Axes>"
            ]
          },
          "metadata": {},
          "output_type": "display_data"
        }
      ],
      "source": [
        "cfun.evaluate(y_test, y_pred_w2vLR)"
      ]
    },
    {
      "cell_type": "code",
      "execution_count": null,
      "metadata": {
        "colab": {
          "base_uri": "https://localhost:8080/"
        },
        "id": "A7lZLbThrwDW",
        "outputId": "e0837cbf-923f-4cf6-b84e-439b955cd35b"
      },
      "outputs": [
        {
          "name": "stdout",
          "output_type": "stream",
          "text": [
            "A1: 0.71%\n",
            "A2: 0.41%\n",
            "B1: 0.55%\n",
            "B2: 0.47%\n",
            "C1: 0.35%\n",
            "C2: 0.50%\n"
          ]
        }
      ],
      "source": [
        "cfun.class_accuracy(y_test, y_pred_w2vLR)"
      ]
    },
    {
      "cell_type": "markdown",
      "source": [
        "> This model performed slightly better than the simple Logistic Regression, but it could be improved by tuning the Word2Vec parameters. "
      ],
      "metadata": {
        "id": "nCE5lVd3p-9c"
      }
    },
    {
      "cell_type": "markdown",
      "metadata": {
        "id": "4muNVDCSgJn6"
      },
      "source": [
        "# 4. Searching Best Word2Vec Parameters with Logistic Regression"
      ]
    },
    {
      "cell_type": "markdown",
      "metadata": {
        "id": "yV8iqh_agUOE"
      },
      "source": [
        "Creating a list of different parameters combinations for word2vec "
      ]
    },
    {
      "cell_type": "code",
      "execution_count": null,
      "metadata": {
        "id": "KyR-8wAQgRBt"
      },
      "outputs": [],
      "source": [
        "# Create list of configs\n",
        "def configs():\n",
        "\n",
        "    models = list()\n",
        "    \n",
        "    # Define config lists\n",
        "    size = [32,128,256,512]\n",
        "    window = [10,50,100]\n",
        "    epochs = [10,50,100,300]\n",
        "\n",
        "    \n",
        "    # Create config instances\n",
        "    for n in size:\n",
        "        for i in window:\n",
        "            for j in epochs:\n",
        "                cfg = [n, i, j]\n",
        "                models.append(cfg)\n",
        "    return models\n",
        "configs = configs()\n",
        "configs"
      ]
    },
    {
      "cell_type": "code",
      "execution_count": null,
      "metadata": {
        "id": "6E8WqqY7g-pj"
      },
      "outputs": [],
      "source": [
        "# Looping through every Word2Vec configuration set by configs, and train the data with a Logistic Regression\n",
        "\n",
        "result = []\n",
        "for config in tqdm(configs):\n",
        "\n",
        "\n",
        "    model = gensim.models.Word2Vec(size=config[0], window=config[1], min_count=1, workers=1, seed = 0, hashfxn=hash)\n",
        "    model.build_vocab(processed_texts_both)\n",
        "    # train model on preprocessed sentences\n",
        "    model.train(processed_texts_both, total_examples=len(processed_texts_both), epochs=config[2])\n",
        "\n",
        "    #vectorize using word2vec\n",
        "    vectors = []\n",
        "    for sent in processed_texts:\n",
        "        if len(sent) == 0:\n",
        "          vectors.append(np.zeros(config[0]))\n",
        "        else:\n",
        "          vectors.append(sum(model[token] for token in sent)/len(sent))\n",
        "\n",
        "    #final dataframe\n",
        "    dfVectors = pd.DataFrame(vectors)\n",
        "    dfFinal = pd.concat([dfVectors, dfTrainInfo], axis = 1)\n",
        "\n",
        "    #Logistic Regression\n",
        "    # train logistic regression model\n",
        "    X = dfFinal\n",
        "    y = dfTrain['difficulty']\n",
        "    X_train, X_test, y_train, y_test = train_test_split(X, y, test_size=0.2, random_state=0)\n",
        "    clf = LogisticRegression(max_iter=10000, random_state = 0)\n",
        "    clf.fit(X_train, y_train)\n",
        "\n",
        "    #predictions\n",
        "    y_pred = clf.predict(X_test)\n",
        "    print(\"CONFIG: \", config)\n",
        "    print(accuracy_score(y_test, y_pred))\n",
        "    print(\"\\n-----------------------\")\n",
        "    result.append([config, accuracy_score(y_test, y_pred)])"
      ]
    },
    {
      "cell_type": "code",
      "execution_count": null,
      "metadata": {
        "id": "f3lHFjtOlJOi"
      },
      "outputs": [],
      "source": [
        "result.sort(key=lambda x: x[1], reverse=True)\n",
        "word2vecTuningDF = (pd.DataFrame(result)).rename(columns = {0:'config', 1: 'accuracy'})"
      ]
    },
    {
      "cell_type": "markdown",
      "metadata": {
        "id": "s3LUgEBKnX4j"
      },
      "source": [
        "Taking a look at the best results in terms of accuracy:"
      ]
    },
    {
      "cell_type": "code",
      "execution_count": null,
      "metadata": {
        "colab": {
          "base_uri": "https://localhost:8080/",
          "height": 206
        },
        "id": "EjyDducGnbiD",
        "outputId": "f46e2be6-219d-4aad-f700-c8d386697be6"
      },
      "outputs": [
        {
          "data": {
            "text/html": [
              "\n",
              "  <div id=\"df-819d6b08-d374-4da2-968a-b6a6fd9164de\">\n",
              "    <div class=\"colab-df-container\">\n",
              "      <div>\n",
              "<style scoped>\n",
              "    .dataframe tbody tr th:only-of-type {\n",
              "        vertical-align: middle;\n",
              "    }\n",
              "\n",
              "    .dataframe tbody tr th {\n",
              "        vertical-align: top;\n",
              "    }\n",
              "\n",
              "    .dataframe thead th {\n",
              "        text-align: right;\n",
              "    }\n",
              "</style>\n",
              "<table border=\"1\" class=\"dataframe\">\n",
              "  <thead>\n",
              "    <tr style=\"text-align: right;\">\n",
              "      <th></th>\n",
              "      <th>config</th>\n",
              "      <th>accuracy</th>\n",
              "    </tr>\n",
              "  </thead>\n",
              "  <tbody>\n",
              "    <tr>\n",
              "      <th>0</th>\n",
              "      <td>[128, 50, 300]</td>\n",
              "      <td>0.521875</td>\n",
              "    </tr>\n",
              "    <tr>\n",
              "      <th>1</th>\n",
              "      <td>[256, 10, 300]</td>\n",
              "      <td>0.510417</td>\n",
              "    </tr>\n",
              "    <tr>\n",
              "      <th>2</th>\n",
              "      <td>[32, 10, 300]</td>\n",
              "      <td>0.507292</td>\n",
              "    </tr>\n",
              "    <tr>\n",
              "      <th>3</th>\n",
              "      <td>[512, 10, 300]</td>\n",
              "      <td>0.503125</td>\n",
              "    </tr>\n",
              "    <tr>\n",
              "      <th>4</th>\n",
              "      <td>[128, 10, 300]</td>\n",
              "      <td>0.500000</td>\n",
              "    </tr>\n",
              "  </tbody>\n",
              "</table>\n",
              "</div>\n",
              "      <button class=\"colab-df-convert\" onclick=\"convertToInteractive('df-819d6b08-d374-4da2-968a-b6a6fd9164de')\"\n",
              "              title=\"Convert this dataframe to an interactive table.\"\n",
              "              style=\"display:none;\">\n",
              "        \n",
              "  <svg xmlns=\"http://www.w3.org/2000/svg\" height=\"24px\"viewBox=\"0 0 24 24\"\n",
              "       width=\"24px\">\n",
              "    <path d=\"M0 0h24v24H0V0z\" fill=\"none\"/>\n",
              "    <path d=\"M18.56 5.44l.94 2.06.94-2.06 2.06-.94-2.06-.94-.94-2.06-.94 2.06-2.06.94zm-11 1L8.5 8.5l.94-2.06 2.06-.94-2.06-.94L8.5 2.5l-.94 2.06-2.06.94zm10 10l.94 2.06.94-2.06 2.06-.94-2.06-.94-.94-2.06-.94 2.06-2.06.94z\"/><path d=\"M17.41 7.96l-1.37-1.37c-.4-.4-.92-.59-1.43-.59-.52 0-1.04.2-1.43.59L10.3 9.45l-7.72 7.72c-.78.78-.78 2.05 0 2.83L4 21.41c.39.39.9.59 1.41.59.51 0 1.02-.2 1.41-.59l7.78-7.78 2.81-2.81c.8-.78.8-2.07 0-2.86zM5.41 20L4 18.59l7.72-7.72 1.47 1.35L5.41 20z\"/>\n",
              "  </svg>\n",
              "      </button>\n",
              "      \n",
              "  <style>\n",
              "    .colab-df-container {\n",
              "      display:flex;\n",
              "      flex-wrap:wrap;\n",
              "      gap: 12px;\n",
              "    }\n",
              "\n",
              "    .colab-df-convert {\n",
              "      background-color: #E8F0FE;\n",
              "      border: none;\n",
              "      border-radius: 50%;\n",
              "      cursor: pointer;\n",
              "      display: none;\n",
              "      fill: #1967D2;\n",
              "      height: 32px;\n",
              "      padding: 0 0 0 0;\n",
              "      width: 32px;\n",
              "    }\n",
              "\n",
              "    .colab-df-convert:hover {\n",
              "      background-color: #E2EBFA;\n",
              "      box-shadow: 0px 1px 2px rgba(60, 64, 67, 0.3), 0px 1px 3px 1px rgba(60, 64, 67, 0.15);\n",
              "      fill: #174EA6;\n",
              "    }\n",
              "\n",
              "    [theme=dark] .colab-df-convert {\n",
              "      background-color: #3B4455;\n",
              "      fill: #D2E3FC;\n",
              "    }\n",
              "\n",
              "    [theme=dark] .colab-df-convert:hover {\n",
              "      background-color: #434B5C;\n",
              "      box-shadow: 0px 1px 3px 1px rgba(0, 0, 0, 0.15);\n",
              "      filter: drop-shadow(0px 1px 2px rgba(0, 0, 0, 0.3));\n",
              "      fill: #FFFFFF;\n",
              "    }\n",
              "  </style>\n",
              "\n",
              "      <script>\n",
              "        const buttonEl =\n",
              "          document.querySelector('#df-819d6b08-d374-4da2-968a-b6a6fd9164de button.colab-df-convert');\n",
              "        buttonEl.style.display =\n",
              "          google.colab.kernel.accessAllowed ? 'block' : 'none';\n",
              "\n",
              "        async function convertToInteractive(key) {\n",
              "          const element = document.querySelector('#df-819d6b08-d374-4da2-968a-b6a6fd9164de');\n",
              "          const dataTable =\n",
              "            await google.colab.kernel.invokeFunction('convertToInteractive',\n",
              "                                                     [key], {});\n",
              "          if (!dataTable) return;\n",
              "\n",
              "          const docLinkHtml = 'Like what you see? Visit the ' +\n",
              "            '<a target=\"_blank\" href=https://colab.research.google.com/notebooks/data_table.ipynb>data table notebook</a>'\n",
              "            + ' to learn more about interactive tables.';\n",
              "          element.innerHTML = '';\n",
              "          dataTable['output_type'] = 'display_data';\n",
              "          await google.colab.output.renderOutput(dataTable, element);\n",
              "          const docLink = document.createElement('div');\n",
              "          docLink.innerHTML = docLinkHtml;\n",
              "          element.appendChild(docLink);\n",
              "        }\n",
              "      </script>\n",
              "    </div>\n",
              "  </div>\n",
              "  "
            ],
            "text/plain": [
              "           config  accuracy\n",
              "0  [128, 50, 300]  0.521875\n",
              "1  [256, 10, 300]  0.510417\n",
              "2   [32, 10, 300]  0.507292\n",
              "3  [512, 10, 300]  0.503125\n",
              "4  [128, 10, 300]  0.500000"
            ]
          },
          "execution_count": 43,
          "metadata": {},
          "output_type": "execute_result"
        }
      ],
      "source": [
        "word2vecTuningDF.head()"
      ]
    },
    {
      "cell_type": "markdown",
      "metadata": {
        "id": "1AR_pXSblE_J"
      },
      "source": [
        "**Fitting the model once more with the best word2vec parameters**"
      ]
    },
    {
      "cell_type": "code",
      "execution_count": null,
      "metadata": {
        "colab": {
          "base_uri": "https://localhost:8080/"
        },
        "id": "Ie2TlgyWCMVQ",
        "outputId": "da96969e-e4f4-4574-e09c-f529e9bae34a"
      },
      "outputs": [
        {
          "output_type": "stream",
          "name": "stderr",
          "text": [
            "<ipython-input-75-80ae33e827aa>:12: DeprecationWarning: Call to deprecated `__getitem__` (Method will be removed in 4.0.0, use self.wv.__getitem__() instead).\n",
            "  vectors.append(sum(model[token] for token in sent)/len(sent))\n",
            "/usr/local/lib/python3.8/dist-packages/sklearn/utils/validation.py:1688: FutureWarning: Feature names only support names that are all strings. Got feature names with dtypes: ['int', 'str']. An error will be raised in 1.2.\n",
            "  warnings.warn(\n"
          ]
        },
        {
          "output_type": "execute_result",
          "data": {
            "text/plain": [
              "LogisticRegression(max_iter=10000, random_state=0)"
            ]
          },
          "metadata": {},
          "execution_count": 75
        }
      ],
      "source": [
        "model = gensim.models.Word2Vec(size=128, window=50, min_count=1, workers=1, seed = 0, hashfxn=hash)\n",
        "model.build_vocab(processed_texts_both)\n",
        "# train model on preprocessed sentences\n",
        "model.train(processed_texts_both, total_examples=len(processed_texts_both), epochs=300)\n",
        "\n",
        "#vectorize using word2vec\n",
        "vectors = []\n",
        "for sent in processed_texts:\n",
        "    if len(sent) == 0:\n",
        "      vectors.append(np.zeros(config[0]))\n",
        "    else:\n",
        "      vectors.append(sum(model[token] for token in sent)/len(sent))\n",
        "\n",
        "#final dataframe\n",
        "dfVectors = pd.DataFrame(vectors)\n",
        "dfFinal = pd.concat([dfVectors, dfTrainInfo], axis = 1)\n",
        "\n",
        "#Logistic Regression\n",
        "# train logistic regression model\n",
        "X = dfFinal\n",
        "y = dfTrain['difficulty']\n",
        "X_train, X_test, y_train, y_test = train_test_split(X, y, test_size=0.2, random_state=0)\n",
        "clf = LogisticRegression(max_iter=10000, random_state = 0)\n",
        "clf.fit(X_train, y_train)"
      ]
    },
    {
      "cell_type": "code",
      "execution_count": null,
      "metadata": {
        "colab": {
          "base_uri": "https://localhost:8080/"
        },
        "id": "jKkKtjvRDmwB",
        "outputId": "0107fb17-0bea-404b-fbdd-1c1bd87fb31d"
      },
      "outputs": [
        {
          "output_type": "stream",
          "name": "stderr",
          "text": [
            "/usr/local/lib/python3.8/dist-packages/sklearn/utils/validation.py:1688: FutureWarning: Feature names only support names that are all strings. Got feature names with dtypes: ['int', 'str']. An error will be raised in 1.2.\n",
            "  warnings.warn(\n"
          ]
        }
      ],
      "source": [
        "y_pred_w2v = clf.predict(X_test)"
      ]
    },
    {
      "cell_type": "code",
      "execution_count": null,
      "metadata": {
        "colab": {
          "base_uri": "https://localhost:8080/",
          "height": 329
        },
        "id": "5BmwHbXdDvan",
        "outputId": "d6117b80-fa47-4a08-9c76-29aab44724cc"
      },
      "outputs": [
        {
          "output_type": "execute_result",
          "data": {
            "text/plain": [
              "         accuracy  precision  recall  f1 score\n",
              "results    0.5219     0.5218  0.5219    0.5205"
            ],
            "text/html": [
              "\n",
              "  <div id=\"df-93be270e-df09-414b-978b-d91241cd4a72\">\n",
              "    <div class=\"colab-df-container\">\n",
              "      <div>\n",
              "<style scoped>\n",
              "    .dataframe tbody tr th:only-of-type {\n",
              "        vertical-align: middle;\n",
              "    }\n",
              "\n",
              "    .dataframe tbody tr th {\n",
              "        vertical-align: top;\n",
              "    }\n",
              "\n",
              "    .dataframe thead th {\n",
              "        text-align: right;\n",
              "    }\n",
              "</style>\n",
              "<table border=\"1\" class=\"dataframe\">\n",
              "  <thead>\n",
              "    <tr style=\"text-align: right;\">\n",
              "      <th></th>\n",
              "      <th>accuracy</th>\n",
              "      <th>precision</th>\n",
              "      <th>recall</th>\n",
              "      <th>f1 score</th>\n",
              "    </tr>\n",
              "  </thead>\n",
              "  <tbody>\n",
              "    <tr>\n",
              "      <th>results</th>\n",
              "      <td>0.5219</td>\n",
              "      <td>0.5218</td>\n",
              "      <td>0.5219</td>\n",
              "      <td>0.5205</td>\n",
              "    </tr>\n",
              "  </tbody>\n",
              "</table>\n",
              "</div>\n",
              "      <button class=\"colab-df-convert\" onclick=\"convertToInteractive('df-93be270e-df09-414b-978b-d91241cd4a72')\"\n",
              "              title=\"Convert this dataframe to an interactive table.\"\n",
              "              style=\"display:none;\">\n",
              "        \n",
              "  <svg xmlns=\"http://www.w3.org/2000/svg\" height=\"24px\"viewBox=\"0 0 24 24\"\n",
              "       width=\"24px\">\n",
              "    <path d=\"M0 0h24v24H0V0z\" fill=\"none\"/>\n",
              "    <path d=\"M18.56 5.44l.94 2.06.94-2.06 2.06-.94-2.06-.94-.94-2.06-.94 2.06-2.06.94zm-11 1L8.5 8.5l.94-2.06 2.06-.94-2.06-.94L8.5 2.5l-.94 2.06-2.06.94zm10 10l.94 2.06.94-2.06 2.06-.94-2.06-.94-.94-2.06-.94 2.06-2.06.94z\"/><path d=\"M17.41 7.96l-1.37-1.37c-.4-.4-.92-.59-1.43-.59-.52 0-1.04.2-1.43.59L10.3 9.45l-7.72 7.72c-.78.78-.78 2.05 0 2.83L4 21.41c.39.39.9.59 1.41.59.51 0 1.02-.2 1.41-.59l7.78-7.78 2.81-2.81c.8-.78.8-2.07 0-2.86zM5.41 20L4 18.59l7.72-7.72 1.47 1.35L5.41 20z\"/>\n",
              "  </svg>\n",
              "      </button>\n",
              "      \n",
              "  <style>\n",
              "    .colab-df-container {\n",
              "      display:flex;\n",
              "      flex-wrap:wrap;\n",
              "      gap: 12px;\n",
              "    }\n",
              "\n",
              "    .colab-df-convert {\n",
              "      background-color: #E8F0FE;\n",
              "      border: none;\n",
              "      border-radius: 50%;\n",
              "      cursor: pointer;\n",
              "      display: none;\n",
              "      fill: #1967D2;\n",
              "      height: 32px;\n",
              "      padding: 0 0 0 0;\n",
              "      width: 32px;\n",
              "    }\n",
              "\n",
              "    .colab-df-convert:hover {\n",
              "      background-color: #E2EBFA;\n",
              "      box-shadow: 0px 1px 2px rgba(60, 64, 67, 0.3), 0px 1px 3px 1px rgba(60, 64, 67, 0.15);\n",
              "      fill: #174EA6;\n",
              "    }\n",
              "\n",
              "    [theme=dark] .colab-df-convert {\n",
              "      background-color: #3B4455;\n",
              "      fill: #D2E3FC;\n",
              "    }\n",
              "\n",
              "    [theme=dark] .colab-df-convert:hover {\n",
              "      background-color: #434B5C;\n",
              "      box-shadow: 0px 1px 3px 1px rgba(0, 0, 0, 0.15);\n",
              "      filter: drop-shadow(0px 1px 2px rgba(0, 0, 0, 0.3));\n",
              "      fill: #FFFFFF;\n",
              "    }\n",
              "  </style>\n",
              "\n",
              "      <script>\n",
              "        const buttonEl =\n",
              "          document.querySelector('#df-93be270e-df09-414b-978b-d91241cd4a72 button.colab-df-convert');\n",
              "        buttonEl.style.display =\n",
              "          google.colab.kernel.accessAllowed ? 'block' : 'none';\n",
              "\n",
              "        async function convertToInteractive(key) {\n",
              "          const element = document.querySelector('#df-93be270e-df09-414b-978b-d91241cd4a72');\n",
              "          const dataTable =\n",
              "            await google.colab.kernel.invokeFunction('convertToInteractive',\n",
              "                                                     [key], {});\n",
              "          if (!dataTable) return;\n",
              "\n",
              "          const docLinkHtml = 'Like what you see? Visit the ' +\n",
              "            '<a target=\"_blank\" href=https://colab.research.google.com/notebooks/data_table.ipynb>data table notebook</a>'\n",
              "            + ' to learn more about interactive tables.';\n",
              "          element.innerHTML = '';\n",
              "          dataTable['output_type'] = 'display_data';\n",
              "          await google.colab.output.renderOutput(dataTable, element);\n",
              "          const docLink = document.createElement('div');\n",
              "          docLink.innerHTML = docLinkHtml;\n",
              "          element.appendChild(docLink);\n",
              "        }\n",
              "      </script>\n",
              "    </div>\n",
              "  </div>\n",
              "  "
            ]
          },
          "metadata": {},
          "execution_count": 77
        },
        {
          "output_type": "display_data",
          "data": {
            "text/plain": [
              "<Figure size 432x288 with 2 Axes>"
            ],
            "image/png": "[encoded data removed]"
          },
          "metadata": {}
        }
      ],
      "source": [
        "cfun.evaluate(y_test, y_pred_w2v)"
      ]
    },
    {
      "cell_type": "code",
      "execution_count": null,
      "metadata": {
        "colab": {
          "base_uri": "https://localhost:8080/"
        },
        "id": "heOUfe_kDygz",
        "outputId": "7a2ee827-743d-4991-ae51-f14d89b879b0"
      },
      "outputs": [
        {
          "output_type": "stream",
          "name": "stdout",
          "text": [
            "A1: 0.67%\n",
            "A2: 0.51%\n",
            "B1: 0.57%\n",
            "B2: 0.43%\n",
            "C1: 0.42%\n",
            "C2: 0.54%\n"
          ]
        }
      ],
      "source": [
        "cfun.class_accuracy(y_test, y_pred_w2v)"
      ]
    },
    {
      "cell_type": "markdown",
      "metadata": {
        "id": "FF55mpih-cPw"
      },
      "source": [
        "Tuning the word2vec parameters improved the accuracy by around 2%"
      ]
    },
    {
      "cell_type": "markdown",
      "metadata": {
        "id": "G6u8GysYNOH5"
      },
      "source": [
        "**Predictions on** `unlabelled_test_data.csv` **(dfTest)**\n",
        "\n",
        "First, let's the fit on the whole data"
      ]
    },
    {
      "cell_type": "code",
      "source": [
        "clf.fit(X, y)"
      ],
      "metadata": {
        "colab": {
          "base_uri": "https://localhost:8080/"
        },
        "id": "CoUCKj6ErwT6",
        "outputId": "436c9ac9-a13b-4f17-f1bf-fa30e83559c0"
      },
      "execution_count": null,
      "outputs": [
        {
          "output_type": "stream",
          "name": "stderr",
          "text": [
            "/usr/local/lib/python3.8/dist-packages/sklearn/utils/validation.py:1688: FutureWarning: Feature names only support names that are all strings. Got feature names with dtypes: ['int', 'str']. An error will be raised in 1.2.\n",
            "  warnings.warn(\n"
          ]
        },
        {
          "output_type": "execute_result",
          "data": {
            "text/plain": [
              "LogisticRegression(max_iter=10000, random_state=0)"
            ]
          },
          "metadata": {},
          "execution_count": 96
        }
      ]
    },
    {
      "cell_type": "markdown",
      "source": [
        "Next, we have to apply on dfTest the same transformations we applied on dfTrain"
      ],
      "metadata": {
        "id": "5tJjxT6drrzO"
      }
    },
    {
      "cell_type": "code",
      "execution_count": null,
      "metadata": {
        "colab": {
          "base_uri": "https://localhost:8080/"
        },
        "id": "Za-9-oz7Okp8",
        "outputId": "d217c5bb-983c-41ff-beda-8d98e4082862"
      },
      "outputs": [
        {
          "output_type": "stream",
          "name": "stderr",
          "text": [
            "<ipython-input-85-3f032bda1e60>:6: DeprecationWarning: Call to deprecated `__getitem__` (Method will be removed in 4.0.0, use self.wv.__getitem__() instead).\n",
            "  vectors_test.append(sum(model[token] for token in sent)/len(sent))\n"
          ]
        }
      ],
      "source": [
        "# Vectorizing dfTest sentences\n",
        "vectors_test = []\n",
        "for sent in processed_texts_test:\n",
        "    if len(sent) == 0:\n",
        "      vectors_test.append(np.zeros(128))\n",
        "    else:\n",
        "      vectors_test.append(sum(model[token] for token in sent)/len(sent))"
      ]
    },
    {
      "cell_type": "code",
      "execution_count": null,
      "metadata": {
        "id": "s1kuSfaVOsIn"
      },
      "outputs": [],
      "source": [
        "# Vectors to dataframe\n",
        "dfVectorsTest = pd.DataFrame(vectors_test)"
      ]
    },
    {
      "cell_type": "code",
      "execution_count": null,
      "metadata": {
        "colab": {
          "base_uri": "https://localhost:8080/"
        },
        "id": "VW4C39CwOx1x",
        "outputId": "0ca2609f-f944-4dec-a2f7-c4c3b4be8cb5"
      },
      "outputs": [
        {
          "output_type": "stream",
          "name": "stderr",
          "text": [
            "100%|██████████| 1200/1200 [00:11<00:00, 105.68it/s]\n"
          ]
        }
      ],
      "source": [
        "# Getting additional information on dfTest using our custom function\n",
        "dfTestInfo = cfun.get_info(dfTest)"
      ]
    },
    {
      "cell_type": "code",
      "execution_count": null,
      "metadata": {
        "id": "NC9bZGeeO1LA"
      },
      "outputs": [],
      "source": [
        "# Concatenating the 2 dataframes\n",
        "dfFinalTest = pd.concat([dfVectorsTest, dfTestInfo], axis = 1)"
      ]
    },
    {
      "cell_type": "markdown",
      "source": [
        "Predicting the difficulty"
      ],
      "metadata": {
        "id": "UlnzldZ1sBi9"
      }
    },
    {
      "cell_type": "code",
      "execution_count": null,
      "metadata": {
        "colab": {
          "base_uri": "https://localhost:8080/"
        },
        "id": "20fqANmMO5Fz",
        "outputId": "86becfb8-1801-4ece-aec1-5501a2c4783b"
      },
      "outputs": [
        {
          "output_type": "stream",
          "name": "stderr",
          "text": [
            "/usr/local/lib/python3.8/dist-packages/sklearn/utils/validation.py:1688: FutureWarning: Feature names only support names that are all strings. Got feature names with dtypes: ['int', 'str']. An error will be raised in 1.2.\n",
            "  warnings.warn(\n"
          ]
        }
      ],
      "source": [
        "# Predicting dfTest sentences difficulty\n",
        "y_pred_test = clf.predict(dfFinalTest)\n"
      ]
    },
    {
      "cell_type": "code",
      "execution_count": null,
      "metadata": {
        "colab": {
          "base_uri": "https://localhost:8080/",
          "height": 237
        },
        "id": "trQuDibBO64Z",
        "outputId": "dbb67339-b227-48e6-bdd4-01e6af3de708"
      },
      "outputs": [
        {
          "output_type": "execute_result",
          "data": {
            "text/plain": [
              "   difficulty\n",
              "id           \n",
              "0          C2\n",
              "1          A2\n",
              "2          B1\n",
              "3          B1\n",
              "4          C2"
            ],
            "text/html": [
              "\n",
              "  <div id=\"df-52012402-7105-4f8c-8048-029e74d37c9b\">\n",
              "    <div class=\"colab-df-container\">\n",
              "      <div>\n",
              "<style scoped>\n",
              "    .dataframe tbody tr th:only-of-type {\n",
              "        vertical-align: middle;\n",
              "    }\n",
              "\n",
              "    .dataframe tbody tr th {\n",
              "        vertical-align: top;\n",
              "    }\n",
              "\n",
              "    .dataframe thead th {\n",
              "        text-align: right;\n",
              "    }\n",
              "</style>\n",
              "<table border=\"1\" class=\"dataframe\">\n",
              "  <thead>\n",
              "    <tr style=\"text-align: right;\">\n",
              "      <th></th>\n",
              "      <th>difficulty</th>\n",
              "    </tr>\n",
              "    <tr>\n",
              "      <th>id</th>\n",
              "      <th></th>\n",
              "    </tr>\n",
              "  </thead>\n",
              "  <tbody>\n",
              "    <tr>\n",
              "      <th>0</th>\n",
              "      <td>C2</td>\n",
              "    </tr>\n",
              "    <tr>\n",
              "      <th>1</th>\n",
              "      <td>A2</td>\n",
              "    </tr>\n",
              "    <tr>\n",
              "      <th>2</th>\n",
              "      <td>B1</td>\n",
              "    </tr>\n",
              "    <tr>\n",
              "      <th>3</th>\n",
              "      <td>B1</td>\n",
              "    </tr>\n",
              "    <tr>\n",
              "      <th>4</th>\n",
              "      <td>C2</td>\n",
              "    </tr>\n",
              "  </tbody>\n",
              "</table>\n",
              "</div>\n",
              "      <button class=\"colab-df-convert\" onclick=\"convertToInteractive('df-52012402-7105-4f8c-8048-029e74d37c9b')\"\n",
              "              title=\"Convert this dataframe to an interactive table.\"\n",
              "              style=\"display:none;\">\n",
              "        \n",
              "  <svg xmlns=\"http://www.w3.org/2000/svg\" height=\"24px\"viewBox=\"0 0 24 24\"\n",
              "       width=\"24px\">\n",
              "    <path d=\"M0 0h24v24H0V0z\" fill=\"none\"/>\n",
              "    <path d=\"M18.56 5.44l.94 2.06.94-2.06 2.06-.94-2.06-.94-.94-2.06-.94 2.06-2.06.94zm-11 1L8.5 8.5l.94-2.06 2.06-.94-2.06-.94L8.5 2.5l-.94 2.06-2.06.94zm10 10l.94 2.06.94-2.06 2.06-.94-2.06-.94-.94-2.06-.94 2.06-2.06.94z\"/><path d=\"M17.41 7.96l-1.37-1.37c-.4-.4-.92-.59-1.43-.59-.52 0-1.04.2-1.43.59L10.3 9.45l-7.72 7.72c-.78.78-.78 2.05 0 2.83L4 21.41c.39.39.9.59 1.41.59.51 0 1.02-.2 1.41-.59l7.78-7.78 2.81-2.81c.8-.78.8-2.07 0-2.86zM5.41 20L4 18.59l7.72-7.72 1.47 1.35L5.41 20z\"/>\n",
              "  </svg>\n",
              "      </button>\n",
              "      \n",
              "  <style>\n",
              "    .colab-df-container {\n",
              "      display:flex;\n",
              "      flex-wrap:wrap;\n",
              "      gap: 12px;\n",
              "    }\n",
              "\n",
              "    .colab-df-convert {\n",
              "      background-color: #E8F0FE;\n",
              "      border: none;\n",
              "      border-radius: 50%;\n",
              "      cursor: pointer;\n",
              "      display: none;\n",
              "      fill: #1967D2;\n",
              "      height: 32px;\n",
              "      padding: 0 0 0 0;\n",
              "      width: 32px;\n",
              "    }\n",
              "\n",
              "    .colab-df-convert:hover {\n",
              "      background-color: #E2EBFA;\n",
              "      box-shadow: 0px 1px 2px rgba(60, 64, 67, 0.3), 0px 1px 3px 1px rgba(60, 64, 67, 0.15);\n",
              "      fill: #174EA6;\n",
              "    }\n",
              "\n",
              "    [theme=dark] .colab-df-convert {\n",
              "      background-color: #3B4455;\n",
              "      fill: #D2E3FC;\n",
              "    }\n",
              "\n",
              "    [theme=dark] .colab-df-convert:hover {\n",
              "      background-color: #434B5C;\n",
              "      box-shadow: 0px 1px 3px 1px rgba(0, 0, 0, 0.15);\n",
              "      filter: drop-shadow(0px 1px 2px rgba(0, 0, 0, 0.3));\n",
              "      fill: #FFFFFF;\n",
              "    }\n",
              "  </style>\n",
              "\n",
              "      <script>\n",
              "        const buttonEl =\n",
              "          document.querySelector('#df-52012402-7105-4f8c-8048-029e74d37c9b button.colab-df-convert');\n",
              "        buttonEl.style.display =\n",
              "          google.colab.kernel.accessAllowed ? 'block' : 'none';\n",
              "\n",
              "        async function convertToInteractive(key) {\n",
              "          const element = document.querySelector('#df-52012402-7105-4f8c-8048-029e74d37c9b');\n",
              "          const dataTable =\n",
              "            await google.colab.kernel.invokeFunction('convertToInteractive',\n",
              "                                                     [key], {});\n",
              "          if (!dataTable) return;\n",
              "\n",
              "          const docLinkHtml = 'Like what you see? Visit the ' +\n",
              "            '<a target=\"_blank\" href=https://colab.research.google.com/notebooks/data_table.ipynb>data table notebook</a>'\n",
              "            + ' to learn more about interactive tables.';\n",
              "          element.innerHTML = '';\n",
              "          dataTable['output_type'] = 'display_data';\n",
              "          await google.colab.output.renderOutput(dataTable, element);\n",
              "          const docLink = document.createElement('div');\n",
              "          docLink.innerHTML = docLinkHtml;\n",
              "          element.appendChild(docLink);\n",
              "        }\n",
              "      </script>\n",
              "    </div>\n",
              "  </div>\n",
              "  "
            ]
          },
          "metadata": {},
          "execution_count": 98
        }
      ],
      "source": [
        "# custom function to set inputted predicted difficulties in correct format for submission\n",
        "# set download to True to download the .csv\n",
        "cfun.prediction(y_pred_test, \"w2v_tuned_LR\", False)"
      ]
    },
    {
      "cell_type": "markdown",
      "source": [
        "**Submission score: 0.46416**"
      ],
      "metadata": {
        "id": "ssz2FpzMsZW7"
      }
    },
    {
      "cell_type": "markdown",
      "source": [
        "> The submission accuracy is around 6% lower than the accuracy on the test set. \n",
        "\n",
        "> This could indicate that the model is overfitting to the test set and is not generalizing well to unseen data. A possible solution would be to use ensemble classifiers. Ensemble models are a type of model that combines the predictions of multiple individual models to make a final prediction. Ensemble models can often improve the generalization performance of a model by reducing overfitting. \n",
        "\n",
        "> We tried using ensemble classifiers in [this notebook.](https://github.com/danieldovale/DMML2022_Tissot/blob/main/code/Ensemble_W2V.ipynb)\n"
      ],
      "metadata": {
        "id": "_BmFUeYhsyrG"
      }
    }
  ],
  "metadata": {
    "colab": {
      "provenance": []
    },
    "kernelspec": {
      "display_name": "Python 3",
      "name": "python3"
    },
    "language_info": {
      "name": "python"
    }
  },
  "nbformat": 4,
  "nbformat_minor": 0
}
