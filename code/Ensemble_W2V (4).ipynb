{
  "cells": [
    {
      "cell_type": "markdown",
      "metadata": {
        "id": "iGszTUFX-Ggv"
      },
      "source": [
        "# Data Mining and Machine Learning - Team Tissot \n",
        "## Ensemble Voting Classifier with TfifdVectorizer and with Word2Vec\n",
        "\n",
        "\n",
        "***Detecting the difficulty level of French texts***\n",
        "\n",
        "In this notebook we attempted to achieve greater accuracy by using the Ensemble Voting Classifier with TfifdVectorizer and then with Word2Vec."
      ]
    },
    {
      "cell_type": "markdown",
      "source": [
        "**Plan :**\n",
        "\n",
        "1. Importing necessary packages, functions and the data\n",
        "\n",
        "2. Ensemble models with TfidfVector\n",
        "\n",
        "3. Ensemble model with Word2Vec"
      ],
      "metadata": {
        "id": "z-8YKe5MgOjA"
      }
    },
    {
      "cell_type": "markdown",
      "metadata": {
        "id": "Irntam5RYGM4"
      },
      "source": [
        "# 1. Importing necessary packages, functions and the data\n"
      ]
    },
    {
      "cell_type": "code",
      "source": [
        "# Download and update spaCy\n",
        "!pip install -U spacy\n",
        "\n",
        "# Download and update the french language model\n",
        "!python -m spacy download fr\n",
        "\n",
        "# Download and update mlrose (for the ensemble model)\n",
        "!pip install mlrose"
      ],
      "metadata": {
        "id": "AaZJ_WhNPQWp"
      },
      "execution_count": null,
      "outputs": []
    },
    {
      "cell_type": "code",
      "execution_count": null,
      "metadata": {
        "id": "YYA-L9joAGhl"
      },
      "outputs": [],
      "source": [
        "# Import required packages\n",
        "%matplotlib inline\n",
        "import numpy as np\n",
        "import pandas as pd \n",
        "import seaborn as sns\n",
        "sns.set_style(\"whitegrid\")\n",
        "import string\n",
        "import gensim\n",
        "import six\n",
        "import sys\n",
        "sys.modules['sklearn.externals.six'] = six\n",
        "import mlrose\n",
        "\n",
        "# Import required packages\n",
        "import spacy\n",
        "from spacy import displacy\n",
        "\n",
        "# Load French language model\n",
        "sp = spacy.load(\"fr_core_news_sm\")\n",
        "\n",
        "# Import and load the required packages for the Word2Vec\n",
        "import nltk\n",
        "from nltk.corpus import stopwords\n",
        "from nltk.tokenize import word_tokenize, sent_tokenize \n",
        "nltk.download('stopwords')\n",
        "nltk.download('punkt')\n",
        "nltk.download('wordnet')\n",
        "nltk.download('omw-1.4')\n",
        "\n",
        "# Import some additional packages\n",
        "from sklearn.model_selection import train_test_split\n",
        "from sklearn.metrics import confusion_matrix, accuracy_score, precision_score, recall_score, f1_score\n",
        "from sklearn.pipeline import Pipeline\n",
        "from sklearn.feature_extraction.text import TfidfVectorizer\n",
        "from tqdm import tqdm\n",
        "from google.colab import files"
      ]
    },
    {
      "cell_type": "markdown",
      "metadata": {
        "id": "bfLh3L5wmf2W"
      },
      "source": [
        "> Import our custom functions from our github repo"
      ]
    },
    {
      "cell_type": "code",
      "source": [
        "!pip install requests\n",
        "import requests\n",
        "\n",
        "url = \"https://raw.githubusercontent.com/danieldovale/DMML2022_Tissot/main/code/custom_functions.py\"\n",
        "r = requests.get(url)\n",
        "\n",
        "# Make sure your filename is the same as how you want to import \n",
        "with open('custom_functions.py', 'w') as f:\n",
        "    f.write(r.text)\n",
        "print(r.text)\n",
        "\n",
        "# Now we can import\n",
        "import custom_functions as cfun"
      ],
      "metadata": {
        "id": "T-ph6ODDOtQ6"
      },
      "execution_count": null,
      "outputs": []
    },
    {
      "cell_type": "markdown",
      "metadata": {
        "id": "SL6ksdh9AI5I"
      },
      "source": [
        "> Loading the data and setting \"id\" as the index column"
      ]
    },
    {
      "cell_type": "code",
      "execution_count": null,
      "metadata": {
        "id": "atnHlvh1AYVS"
      },
      "outputs": [],
      "source": [
        "# Training data:\n",
        "dfTrain = pd.read_csv(\"https://raw.githubusercontent.com/danieldovale/DMML2022_Tissot/main/data/training_data.csv\", index_col='id')\n",
        "\n",
        "# Unlabeled test data:\n",
        "dfTest = pd.read_csv(\"https://raw.githubusercontent.com/danieldovale/DMML2022_Tissot/main/data/unlabelled_test_data.csv\", index_col='id')"
      ]
    },
    {
      "cell_type": "markdown",
      "metadata": {
        "id": "CaF8OKeHBD2I"
      },
      "source": [
        "> Split the dataset of dfTrain to train and test our models\n",
        ">\n",
        ">*   80% to train\n",
        ">*   20% to test"
      ]
    },
    {
      "cell_type": "code",
      "execution_count": null,
      "metadata": {
        "id": "8PoKBaVLkDgz"
      },
      "outputs": [],
      "source": [
        "X = dfTrain[\"sentence\"]\n",
        "y = dfTrain[\"difficulty\"]\n",
        "\n",
        "# Train test split\n",
        "X_train, X_test, y_train, y_test = train_test_split(X, y, test_size=0.2, random_state=0, stratify=y)"
      ]
    },
    {
      "cell_type": "markdown",
      "metadata": {
        "id": "OLe42jR0LmgO"
      },
      "source": [
        "# 2. Ensemble models with TfidfVector"
      ]
    },
    {
      "cell_type": "markdown",
      "metadata": {
        "id": "sP28gqyoFrrk"
      },
      "source": [
        "## 2.1 An example of an ensemble model with the TfidfVecotizer. "
      ]
    },
    {
      "cell_type": "markdown",
      "metadata": {
        "id": "P0ijcqjPGFH3"
      },
      "source": [
        "\n",
        "> First, we define a spacy tokenizer to clean the data we lowercase and lemmatize all the words. "
      ]
    },
    {
      "cell_type": "code",
      "execution_count": null,
      "metadata": {
        "id": "Ki1iQpGHPF-A"
      },
      "outputs": [],
      "source": [
        "def spacy_tokenizer(sentence):\n",
        "    # Create token object, which is used to create documents with linguistic annotations\n",
        "    mytokens = sp(sentence)\n",
        "    # Lemmatize each token and convert each token into lowercase\n",
        "    mytokens = [ word.lower_.strip() for word in mytokens] \n",
        "    # Return preprocessed list of tokens\n",
        "    return mytokens"
      ]
    },
    {
      "cell_type": "markdown",
      "source": [
        "> The token for the TfidfVector with the spacy toknizer define above"
      ],
      "metadata": {
        "id": "JChAbs5j0gMN"
      }
    },
    {
      "cell_type": "code",
      "execution_count": null,
      "metadata": {
        "id": "l-DCthU7POnv"
      },
      "outputs": [],
      "source": [
        "tfidf_vector = TfidfVectorizer(tokenizer=spacy_tokenizer, ngram_range=(1,2)) "
      ]
    },
    {
      "cell_type": "markdown",
      "metadata": {
        "id": "2FKmTWECGNkB"
      },
      "source": [
        "> The 3 classifiers that will be use in the ensemble model :\n",
        ">\n",
        "> 1.   Logistic Regression (logclf)\n",
        "2.   Decision Tree Classifier (dtclf)\n",
        "3.   K-Nearest Neighbors (knnclf)\n"
      ]
    },
    {
      "cell_type": "code",
      "execution_count": null,
      "metadata": {
        "id": "ostP5fkRMBM0"
      },
      "outputs": [],
      "source": [
        "# Import some the packages of all the models that we will use here\n",
        "from sklearn.linear_model import LogisticRegression\n",
        "from sklearn.tree import DecisionTreeClassifier\n",
        "from sklearn.neighbors import KNeighborsClassifier\n",
        "\n",
        "# Set up the classifiers with some parameters\n",
        "logclf = LogisticRegression(C=10, max_iter=20000, random_state=0)\n",
        "dtclf = DecisionTreeClassifier(criterion='entropy', max_depth=3, random_state=0)\n",
        "knnclf = KNeighborsClassifier()"
      ]
    },
    {
      "cell_type": "markdown",
      "metadata": {
        "id": "KRRkmQL2VAST"
      },
      "source": [
        "> The EnsembleVoteClassifier with the 3 classifiers \n",
        " \n",
        "The parameters :\n",
        "* clfs = list of classifiers (logclf, dtclf, knnclf)\n",
        "* weights = [2, 1.5, 1] (2 for the logclf, 1.5 for the dtclf, 1 for the knnclf)\n",
        "\n",
        "*The others parameters set with the defaults values (like voting='hard', it predicts the class labels (A1,...C2) with the majority rule voting).*"
      ]
    },
    {
      "cell_type": "code",
      "execution_count": null,
      "metadata": {
        "id": "jVfYO7LULrTO",
        "colab": {
          "base_uri": "https://localhost:8080/"
        },
        "outputId": "f7527f21-70b5-459f-ea72-f2f8cf87454c"
      },
      "outputs": [
        {
          "output_type": "execute_result",
          "data": {
            "text/plain": [
              "Pipeline(steps=[('vectorizer',\n",
              "                 TfidfVectorizer(ngram_range=(1, 2),\n",
              "                                 tokenizer=<function spacy_tokenizer at 0x7f29e0093940>)),\n",
              "                ('classifier',\n",
              "                 EnsembleVoteClassifier(clfs=[LogisticRegression(C=10,\n",
              "                                                                 max_iter=20000,\n",
              "                                                                 random_state=0),\n",
              "                                              DecisionTreeClassifier(criterion='entropy',\n",
              "                                                                     max_depth=3,\n",
              "                                                                     random_state=0),\n",
              "                                              KNeighborsClassifier()],\n",
              "                                        weights=[2, 1.5, 1]))])"
            ]
          },
          "metadata": {},
          "execution_count": 10
        }
      ],
      "source": [
        "# Import the package for the Ensemble\n",
        "from mlxtend.classifier import EnsembleVoteClassifier\n",
        "\n",
        "# Set up the ensemble classifier\n",
        "clf_ens = EnsembleVoteClassifier(clfs=[logclf, dtclf, knnclf], weights=[2, 1.5, 1])\n",
        "\n",
        "# Vectorizer and train the dataset (X_train)\n",
        "pipe = Pipeline([('vectorizer', tfidf_vector),\n",
        "                 ('classifier', clf_ens)])\n",
        "\n",
        "# Train the model\n",
        "pipe.fit(X_train, y_train)"
      ]
    },
    {
      "cell_type": "markdown",
      "metadata": {
        "id": "lgSHVVu3f8g8"
      },
      "source": [
        "> Evaluate the fitted model"
      ]
    },
    {
      "cell_type": "code",
      "source": [
        "# Predict the y of the X_test dataset\n",
        "y_pred = pipe.predict(X_test)\n",
        "\n",
        "# Evaluate the model (confusion matrix)\n",
        "cfun.evaluate(y_test, y_pred)"
      ],
      "metadata": {
        "colab": {
          "base_uri": "https://localhost:8080/",
          "height": 329
        },
        "id": "geSQa3vaXUZ2",
        "outputId": "0bcb0e5a-4a7f-4672-bbaa-d9f4bedf6080"
      },
      "execution_count": null,
      "outputs": [
        {
          "output_type": "execute_result",
          "data": {
            "text/plain": [
              "         accuracy  precision  recall  f1 score\n",
              "results      0.45     0.4625    0.45    0.4357"
            ],
            "text/html": [
              "\n",
              "  <div id=\"df-4e8c0ae2-2506-4385-a05b-a3c39c0e63f4\">\n",
              "    <div class=\"colab-df-container\">\n",
              "      <div>\n",
              "<style scoped>\n",
              "    .dataframe tbody tr th:only-of-type {\n",
              "        vertical-align: middle;\n",
              "    }\n",
              "\n",
              "    .dataframe tbody tr th {\n",
              "        vertical-align: top;\n",
              "    }\n",
              "\n",
              "    .dataframe thead th {\n",
              "        text-align: right;\n",
              "    }\n",
              "</style>\n",
              "<table border=\"1\" class=\"dataframe\">\n",
              "  <thead>\n",
              "    <tr style=\"text-align: right;\">\n",
              "      <th></th>\n",
              "      <th>accuracy</th>\n",
              "      <th>precision</th>\n",
              "      <th>recall</th>\n",
              "      <th>f1 score</th>\n",
              "    </tr>\n",
              "  </thead>\n",
              "  <tbody>\n",
              "    <tr>\n",
              "      <th>results</th>\n",
              "      <td>0.45</td>\n",
              "      <td>0.4625</td>\n",
              "      <td>0.45</td>\n",
              "      <td>0.4357</td>\n",
              "    </tr>\n",
              "  </tbody>\n",
              "</table>\n",
              "</div>\n",
              "      <button class=\"colab-df-convert\" onclick=\"convertToInteractive('df-4e8c0ae2-2506-4385-a05b-a3c39c0e63f4')\"\n",
              "              title=\"Convert this dataframe to an interactive table.\"\n",
              "              style=\"display:none;\">\n",
              "        \n",
              "  <svg xmlns=\"http://www.w3.org/2000/svg\" height=\"24px\"viewBox=\"0 0 24 24\"\n",
              "       width=\"24px\">\n",
              "    <path d=\"M0 0h24v24H0V0z\" fill=\"none\"/>\n",
              "    <path d=\"M18.56 5.44l.94 2.06.94-2.06 2.06-.94-2.06-.94-.94-2.06-.94 2.06-2.06.94zm-11 1L8.5 8.5l.94-2.06 2.06-.94-2.06-.94L8.5 2.5l-.94 2.06-2.06.94zm10 10l.94 2.06.94-2.06 2.06-.94-2.06-.94-.94-2.06-.94 2.06-2.06.94z\"/><path d=\"M17.41 7.96l-1.37-1.37c-.4-.4-.92-.59-1.43-.59-.52 0-1.04.2-1.43.59L10.3 9.45l-7.72 7.72c-.78.78-.78 2.05 0 2.83L4 21.41c.39.39.9.59 1.41.59.51 0 1.02-.2 1.41-.59l7.78-7.78 2.81-2.81c.8-.78.8-2.07 0-2.86zM5.41 20L4 18.59l7.72-7.72 1.47 1.35L5.41 20z\"/>\n",
              "  </svg>\n",
              "      </button>\n",
              "      \n",
              "  <style>\n",
              "    .colab-df-container {\n",
              "      display:flex;\n",
              "      flex-wrap:wrap;\n",
              "      gap: 12px;\n",
              "    }\n",
              "\n",
              "    .colab-df-convert {\n",
              "      background-color: #E8F0FE;\n",
              "      border: none;\n",
              "      border-radius: 50%;\n",
              "      cursor: pointer;\n",
              "      display: none;\n",
              "      fill: #1967D2;\n",
              "      height: 32px;\n",
              "      padding: 0 0 0 0;\n",
              "      width: 32px;\n",
              "    }\n",
              "\n",
              "    .colab-df-convert:hover {\n",
              "      background-color: #E2EBFA;\n",
              "      box-shadow: 0px 1px 2px rgba(60, 64, 67, 0.3), 0px 1px 3px 1px rgba(60, 64, 67, 0.15);\n",
              "      fill: #174EA6;\n",
              "    }\n",
              "\n",
              "    [theme=dark] .colab-df-convert {\n",
              "      background-color: #3B4455;\n",
              "      fill: #D2E3FC;\n",
              "    }\n",
              "\n",
              "    [theme=dark] .colab-df-convert:hover {\n",
              "      background-color: #434B5C;\n",
              "      box-shadow: 0px 1px 3px 1px rgba(0, 0, 0, 0.15);\n",
              "      filter: drop-shadow(0px 1px 2px rgba(0, 0, 0, 0.3));\n",
              "      fill: #FFFFFF;\n",
              "    }\n",
              "  </style>\n",
              "\n",
              "      <script>\n",
              "        const buttonEl =\n",
              "          document.querySelector('#df-4e8c0ae2-2506-4385-a05b-a3c39c0e63f4 button.colab-df-convert');\n",
              "        buttonEl.style.display =\n",
              "          google.colab.kernel.accessAllowed ? 'block' : 'none';\n",
              "\n",
              "        async function convertToInteractive(key) {\n",
              "          const element = document.querySelector('#df-4e8c0ae2-2506-4385-a05b-a3c39c0e63f4');\n",
              "          const dataTable =\n",
              "            await google.colab.kernel.invokeFunction('convertToInteractive',\n",
              "                                                     [key], {});\n",
              "          if (!dataTable) return;\n",
              "\n",
              "          const docLinkHtml = 'Like what you see? Visit the ' +\n",
              "            '<a target=\"_blank\" href=https://colab.research.google.com/notebooks/data_table.ipynb>data table notebook</a>'\n",
              "            + ' to learn more about interactive tables.';\n",
              "          element.innerHTML = '';\n",
              "          dataTable['output_type'] = 'display_data';\n",
              "          await google.colab.output.renderOutput(dataTable, element);\n",
              "          const docLink = document.createElement('div');\n",
              "          docLink.innerHTML = docLinkHtml;\n",
              "          element.appendChild(docLink);\n",
              "        }\n",
              "      </script>\n",
              "    </div>\n",
              "  </div>\n",
              "  "
            ]
          },
          "metadata": {},
          "execution_count": 11
        },
        {
          "output_type": "display_data",
          "data": {
            "text/plain": [
              "<Figure size 432x288 with 2 Axes>"
            ],
            "image/png": "[encoded data removed]"
          },
          "metadata": {}
        }
      ]
    },
    {
      "cell_type": "code",
      "source": [
        "cfun.class_accuracy(y_test, y_pred)"
      ],
      "metadata": {
        "colab": {
          "base_uri": "https://localhost:8080/"
        },
        "id": "VAX0rLa4JDQH",
        "outputId": "545e5c6b-3bf5-46c2-ac9c-072fabe632ea"
      },
      "execution_count": null,
      "outputs": [
        {
          "output_type": "stream",
          "name": "stdout",
          "text": [
            "A1: 0.79%\n",
            "A2: 0.37%\n",
            "B1: 0.32%\n",
            "B2: 0.31%\n",
            "C1: 0.32%\n",
            "C2: 0.58%\n"
          ]
        }
      ]
    },
    {
      "cell_type": "markdown",
      "source": [
        "As we can see, the accuracy of this model is only 0.45, which is not a significant improvement. When compared to the basic Logistic Regression with the same parameters, this model has lower accuracy, precision, recall, and f1 score.\n",
        "\n",
        "Examining the diagonal of the confusion matrix, we observe that, similar to the other models we have tried, the A1 (top-left cell) and the C2 (bottom-right cell) are the best-predicted levels. Finally, by looking at the left column, we can see that there is a problem with this ensemble because a lot of sentences are misclassified as A1. "
      ],
      "metadata": {
        "id": "0f4feU-UE1xk"
      }
    },
    {
      "cell_type": "markdown",
      "source": [
        "> Submit the model to see the final score."
      ],
      "metadata": {
        "id": "q3HijzTFVKVM"
      }
    },
    {
      "cell_type": "code",
      "source": [
        "# Submit the model train with X_train (the train part of dfTrain)\n",
        "predDifficulty = pipe.predict(dfTest['sentence'])\n",
        "\n",
        "cfun.prediction(predDifficulty, 'Ensemble_tfidf_example')"
      ],
      "metadata": {
        "colab": {
          "base_uri": "https://localhost:8080/",
          "height": 237
        },
        "id": "FsIupU1nTqR9",
        "outputId": "b8a6ae9d-ad2d-42bf-8d36-7179237bc9f7"
      },
      "execution_count": null,
      "outputs": [
        {
          "output_type": "execute_result",
          "data": {
            "text/plain": [
              "   difficulty\n",
              "id           \n",
              "0          C2\n",
              "1          B1\n",
              "2          A1\n",
              "3          B1\n",
              "4          C2"
            ],
            "text/html": [
              "\n",
              "  <div id=\"df-079782c0-5c94-4f0c-956e-fe3726c3d5ac\">\n",
              "    <div class=\"colab-df-container\">\n",
              "      <div>\n",
              "<style scoped>\n",
              "    .dataframe tbody tr th:only-of-type {\n",
              "        vertical-align: middle;\n",
              "    }\n",
              "\n",
              "    .dataframe tbody tr th {\n",
              "        vertical-align: top;\n",
              "    }\n",
              "\n",
              "    .dataframe thead th {\n",
              "        text-align: right;\n",
              "    }\n",
              "</style>\n",
              "<table border=\"1\" class=\"dataframe\">\n",
              "  <thead>\n",
              "    <tr style=\"text-align: right;\">\n",
              "      <th></th>\n",
              "      <th>difficulty</th>\n",
              "    </tr>\n",
              "    <tr>\n",
              "      <th>id</th>\n",
              "      <th></th>\n",
              "    </tr>\n",
              "  </thead>\n",
              "  <tbody>\n",
              "    <tr>\n",
              "      <th>0</th>\n",
              "      <td>C2</td>\n",
              "    </tr>\n",
              "    <tr>\n",
              "      <th>1</th>\n",
              "      <td>B1</td>\n",
              "    </tr>\n",
              "    <tr>\n",
              "      <th>2</th>\n",
              "      <td>A1</td>\n",
              "    </tr>\n",
              "    <tr>\n",
              "      <th>3</th>\n",
              "      <td>B1</td>\n",
              "    </tr>\n",
              "    <tr>\n",
              "      <th>4</th>\n",
              "      <td>C2</td>\n",
              "    </tr>\n",
              "  </tbody>\n",
              "</table>\n",
              "</div>\n",
              "      <button class=\"colab-df-convert\" onclick=\"convertToInteractive('df-079782c0-5c94-4f0c-956e-fe3726c3d5ac')\"\n",
              "              title=\"Convert this dataframe to an interactive table.\"\n",
              "              style=\"display:none;\">\n",
              "        \n",
              "  <svg xmlns=\"http://www.w3.org/2000/svg\" height=\"24px\"viewBox=\"0 0 24 24\"\n",
              "       width=\"24px\">\n",
              "    <path d=\"M0 0h24v24H0V0z\" fill=\"none\"/>\n",
              "    <path d=\"M18.56 5.44l.94 2.06.94-2.06 2.06-.94-2.06-.94-.94-2.06-.94 2.06-2.06.94zm-11 1L8.5 8.5l.94-2.06 2.06-.94-2.06-.94L8.5 2.5l-.94 2.06-2.06.94zm10 10l.94 2.06.94-2.06 2.06-.94-2.06-.94-.94-2.06-.94 2.06-2.06.94z\"/><path d=\"M17.41 7.96l-1.37-1.37c-.4-.4-.92-.59-1.43-.59-.52 0-1.04.2-1.43.59L10.3 9.45l-7.72 7.72c-.78.78-.78 2.05 0 2.83L4 21.41c.39.39.9.59 1.41.59.51 0 1.02-.2 1.41-.59l7.78-7.78 2.81-2.81c.8-.78.8-2.07 0-2.86zM5.41 20L4 18.59l7.72-7.72 1.47 1.35L5.41 20z\"/>\n",
              "  </svg>\n",
              "      </button>\n",
              "      \n",
              "  <style>\n",
              "    .colab-df-container {\n",
              "      display:flex;\n",
              "      flex-wrap:wrap;\n",
              "      gap: 12px;\n",
              "    }\n",
              "\n",
              "    .colab-df-convert {\n",
              "      background-color: #E8F0FE;\n",
              "      border: none;\n",
              "      border-radius: 50%;\n",
              "      cursor: pointer;\n",
              "      display: none;\n",
              "      fill: #1967D2;\n",
              "      height: 32px;\n",
              "      padding: 0 0 0 0;\n",
              "      width: 32px;\n",
              "    }\n",
              "\n",
              "    .colab-df-convert:hover {\n",
              "      background-color: #E2EBFA;\n",
              "      box-shadow: 0px 1px 2px rgba(60, 64, 67, 0.3), 0px 1px 3px 1px rgba(60, 64, 67, 0.15);\n",
              "      fill: #174EA6;\n",
              "    }\n",
              "\n",
              "    [theme=dark] .colab-df-convert {\n",
              "      background-color: #3B4455;\n",
              "      fill: #D2E3FC;\n",
              "    }\n",
              "\n",
              "    [theme=dark] .colab-df-convert:hover {\n",
              "      background-color: #434B5C;\n",
              "      box-shadow: 0px 1px 3px 1px rgba(0, 0, 0, 0.15);\n",
              "      filter: drop-shadow(0px 1px 2px rgba(0, 0, 0, 0.3));\n",
              "      fill: #FFFFFF;\n",
              "    }\n",
              "  </style>\n",
              "\n",
              "      <script>\n",
              "        const buttonEl =\n",
              "          document.querySelector('#df-079782c0-5c94-4f0c-956e-fe3726c3d5ac button.colab-df-convert');\n",
              "        buttonEl.style.display =\n",
              "          google.colab.kernel.accessAllowed ? 'block' : 'none';\n",
              "\n",
              "        async function convertToInteractive(key) {\n",
              "          const element = document.querySelector('#df-079782c0-5c94-4f0c-956e-fe3726c3d5ac');\n",
              "          const dataTable =\n",
              "            await google.colab.kernel.invokeFunction('convertToInteractive',\n",
              "                                                     [key], {});\n",
              "          if (!dataTable) return;\n",
              "\n",
              "          const docLinkHtml = 'Like what you see? Visit the ' +\n",
              "            '<a target=\"_blank\" href=https://colab.research.google.com/notebooks/data_table.ipynb>data table notebook</a>'\n",
              "            + ' to learn more about interactive tables.';\n",
              "          element.innerHTML = '';\n",
              "          dataTable['output_type'] = 'display_data';\n",
              "          await google.colab.output.renderOutput(dataTable, element);\n",
              "          const docLink = document.createElement('div');\n",
              "          docLink.innerHTML = docLinkHtml;\n",
              "          element.appendChild(docLink);\n",
              "        }\n",
              "      </script>\n",
              "    </div>\n",
              "  </div>\n",
              "  "
            ]
          },
          "metadata": {},
          "execution_count": 13
        }
      ]
    },
    {
      "cell_type": "markdown",
      "source": [
        "The score of the submission is 0.4458. \n",
        "\n",
        "It is a bit lower but still close to the accuracy computed with the test dataset from dfTrain.\n"
      ],
      "metadata": {
        "id": "BvfhDY2BcpOO"
      }
    },
    {
      "cell_type": "markdown",
      "metadata": {
        "id": "ao2dO8lyjxrG"
      },
      "source": [
        "## 2.2 The best model found with the TfidfVectorizer"
      ]
    },
    {
      "cell_type": "markdown",
      "metadata": {
        "id": "eNp2IE10k0Tv"
      },
      "source": [
        "> We use the same tokenizer that will lowercase all the word.  "
      ]
    },
    {
      "cell_type": "code",
      "source": [
        "def spacy_tokenizer(sentence):\n",
        "    # Create token object, which is used to create documents with linguistic annotations.\n",
        "    mytokens = sp(sentence)\n",
        "    # Lemmatize each token and convert each token into lowercase\n",
        "    mytokens = [ word.lower_.strip() for word in mytokens ] \n",
        "    # Return preprocessed list of tokens\n",
        "    return mytokens\n",
        "\n",
        "\n",
        "tfidf_vector = TfidfVectorizer(tokenizer=spacy_tokenizer, ngram_range=(1,2)) "
      ],
      "metadata": {
        "id": "Vwhd3qa6e4Tf"
      },
      "execution_count": null,
      "outputs": []
    },
    {
      "cell_type": "markdown",
      "metadata": {
        "id": "vadP6kaEkyfZ"
      },
      "source": [
        "> The 3 classifiers that will be use in the ensemble model :\n",
        ">\n",
        "> 1.   Logistic Regression (logclf)\n",
        "2.   Multi-layer Perceptron classifier (mlpclf)\n",
        "3.   Decision Tree Classifier (dtclf)"
      ]
    },
    {
      "cell_type": "code",
      "execution_count": null,
      "metadata": {
        "id": "U4Vm0X58lk3J"
      },
      "outputs": [],
      "source": [
        "# Import some the packages of all the models that we will use here\n",
        "from sklearn.ensemble import RandomForestClassifier\n",
        "from sklearn.neural_network import MLPClassifier\n",
        "\n",
        "logclf = LogisticRegression(max_iter=5000, random_state=0)\n",
        "mlpclf = MLPClassifier(max_iter=1000, random_state=0)\n",
        "rfclf = RandomForestClassifier(n_estimators=350, random_state=0)"
      ]
    },
    {
      "cell_type": "markdown",
      "metadata": {
        "id": "NHpyqAb8kIx2"
      },
      "source": [
        "> The EnsembleVoteClassifier with the 3 classifiers \n",
        " \n",
        "The parameters :\n",
        "* clfs = list of classifiers (logclf, mlpclf, rfclf)\n",
        "* weights = [1.5, 2, 1.5] (1.5 for the Logistic Regression, 2 for the MLP and 1.5 for the Random Forest) \n",
        "\n",
        "*The others parameters set with the defaults values.*"
      ]
    },
    {
      "cell_type": "code",
      "execution_count": null,
      "metadata": {
        "id": "iLoqhuELmKfX",
        "colab": {
          "base_uri": "https://localhost:8080/"
        },
        "outputId": "54dc7f25-27a5-4974-e0bc-5c18583aff53"
      },
      "outputs": [
        {
          "output_type": "execute_result",
          "data": {
            "text/plain": [
              "Pipeline(steps=[('vectorizer',\n",
              "                 TfidfVectorizer(ngram_range=(1, 2),\n",
              "                                 tokenizer=<function spacy_tokenizer at 0x7f29db6791f0>)),\n",
              "                ('classifier',\n",
              "                 EnsembleVoteClassifier(clfs=[LogisticRegression(max_iter=5000,\n",
              "                                                                 random_state=0),\n",
              "                                              MLPClassifier(max_iter=1000,\n",
              "                                                            random_state=0),\n",
              "                                              RandomForestClassifier(n_estimators=350,\n",
              "                                                                     random_state=0)],\n",
              "                                        weights=[1.5, 2, 1.5]))])"
            ]
          },
          "metadata": {},
          "execution_count": 17
        }
      ],
      "source": [
        "clf_ens = EnsembleVoteClassifier(clfs=[logclf, mlpclf, rfclf], weights=[1.5, 2, 1.5])\n",
        "\n",
        "# Vectorizer and train the dataset (X_train)\n",
        "pipe = Pipeline([('vectorizer', tfidf_vector),\n",
        "                 ('classifier', clf_ens)])\n",
        "\n",
        "pipe.fit(X_train, y_train)"
      ]
    },
    {
      "cell_type": "markdown",
      "metadata": {
        "id": "N6XoCQ05mRat"
      },
      "source": [
        "> Evaluate the fitted model"
      ]
    },
    {
      "cell_type": "code",
      "source": [
        "# Predict the y of the X_test dataset\n",
        "y_pred = pipe.predict(X_test)\n",
        "\n",
        "# Evaluate the model (confusion matrix)\n",
        "cfun.evaluate(y_test, y_pred)"
      ],
      "metadata": {
        "id": "9SQP6tqeb6Bd",
        "colab": {
          "base_uri": "https://localhost:8080/",
          "height": 332
        },
        "outputId": "029b0064-d6b4-4268-9835-9b73675d8a81"
      },
      "execution_count": null,
      "outputs": [
        {
          "output_type": "execute_result",
          "data": {
            "text/plain": [
              "         accuracy  precision  recall  f1 score\n",
              "results    0.4812     0.4809  0.4812    0.4736"
            ],
            "text/html": [
              "\n",
              "  <div id=\"df-20c1f2c8-d692-48d1-9de8-d9addb8a52cf\">\n",
              "    <div class=\"colab-df-container\">\n",
              "      <div>\n",
              "<style scoped>\n",
              "    .dataframe tbody tr th:only-of-type {\n",
              "        vertical-align: middle;\n",
              "    }\n",
              "\n",
              "    .dataframe tbody tr th {\n",
              "        vertical-align: top;\n",
              "    }\n",
              "\n",
              "    .dataframe thead th {\n",
              "        text-align: right;\n",
              "    }\n",
              "</style>\n",
              "<table border=\"1\" class=\"dataframe\">\n",
              "  <thead>\n",
              "    <tr style=\"text-align: right;\">\n",
              "      <th></th>\n",
              "      <th>accuracy</th>\n",
              "      <th>precision</th>\n",
              "      <th>recall</th>\n",
              "      <th>f1 score</th>\n",
              "    </tr>\n",
              "  </thead>\n",
              "  <tbody>\n",
              "    <tr>\n",
              "      <th>results</th>\n",
              "      <td>0.4812</td>\n",
              "      <td>0.4809</td>\n",
              "      <td>0.4812</td>\n",
              "      <td>0.4736</td>\n",
              "    </tr>\n",
              "  </tbody>\n",
              "</table>\n",
              "</div>\n",
              "      <button class=\"colab-df-convert\" onclick=\"convertToInteractive('df-20c1f2c8-d692-48d1-9de8-d9addb8a52cf')\"\n",
              "              title=\"Convert this dataframe to an interactive table.\"\n",
              "              style=\"display:none;\">\n",
              "        \n",
              "  <svg xmlns=\"http://www.w3.org/2000/svg\" height=\"24px\"viewBox=\"0 0 24 24\"\n",
              "       width=\"24px\">\n",
              "    <path d=\"M0 0h24v24H0V0z\" fill=\"none\"/>\n",
              "    <path d=\"M18.56 5.44l.94 2.06.94-2.06 2.06-.94-2.06-.94-.94-2.06-.94 2.06-2.06.94zm-11 1L8.5 8.5l.94-2.06 2.06-.94-2.06-.94L8.5 2.5l-.94 2.06-2.06.94zm10 10l.94 2.06.94-2.06 2.06-.94-2.06-.94-.94-2.06-.94 2.06-2.06.94z\"/><path d=\"M17.41 7.96l-1.37-1.37c-.4-.4-.92-.59-1.43-.59-.52 0-1.04.2-1.43.59L10.3 9.45l-7.72 7.72c-.78.78-.78 2.05 0 2.83L4 21.41c.39.39.9.59 1.41.59.51 0 1.02-.2 1.41-.59l7.78-7.78 2.81-2.81c.8-.78.8-2.07 0-2.86zM5.41 20L4 18.59l7.72-7.72 1.47 1.35L5.41 20z\"/>\n",
              "  </svg>\n",
              "      </button>\n",
              "      \n",
              "  <style>\n",
              "    .colab-df-container {\n",
              "      display:flex;\n",
              "      flex-wrap:wrap;\n",
              "      gap: 12px;\n",
              "    }\n",
              "\n",
              "    .colab-df-convert {\n",
              "      background-color: #E8F0FE;\n",
              "      border: none;\n",
              "      border-radius: 50%;\n",
              "      cursor: pointer;\n",
              "      display: none;\n",
              "      fill: #1967D2;\n",
              "      height: 32px;\n",
              "      padding: 0 0 0 0;\n",
              "      width: 32px;\n",
              "    }\n",
              "\n",
              "    .colab-df-convert:hover {\n",
              "      background-color: #E2EBFA;\n",
              "      box-shadow: 0px 1px 2px rgba(60, 64, 67, 0.3), 0px 1px 3px 1px rgba(60, 64, 67, 0.15);\n",
              "      fill: #174EA6;\n",
              "    }\n",
              "\n",
              "    [theme=dark] .colab-df-convert {\n",
              "      background-color: #3B4455;\n",
              "      fill: #D2E3FC;\n",
              "    }\n",
              "\n",
              "    [theme=dark] .colab-df-convert:hover {\n",
              "      background-color: #434B5C;\n",
              "      box-shadow: 0px 1px 3px 1px rgba(0, 0, 0, 0.15);\n",
              "      filter: drop-shadow(0px 1px 2px rgba(0, 0, 0, 0.3));\n",
              "      fill: #FFFFFF;\n",
              "    }\n",
              "  </style>\n",
              "\n",
              "      <script>\n",
              "        const buttonEl =\n",
              "          document.querySelector('#df-20c1f2c8-d692-48d1-9de8-d9addb8a52cf button.colab-df-convert');\n",
              "        buttonEl.style.display =\n",
              "          google.colab.kernel.accessAllowed ? 'block' : 'none';\n",
              "\n",
              "        async function convertToInteractive(key) {\n",
              "          const element = document.querySelector('#df-20c1f2c8-d692-48d1-9de8-d9addb8a52cf');\n",
              "          const dataTable =\n",
              "            await google.colab.kernel.invokeFunction('convertToInteractive',\n",
              "                                                     [key], {});\n",
              "          if (!dataTable) return;\n",
              "\n",
              "          const docLinkHtml = 'Like what you see? Visit the ' +\n",
              "            '<a target=\"_blank\" href=https://colab.research.google.com/notebooks/data_table.ipynb>data table notebook</a>'\n",
              "            + ' to learn more about interactive tables.';\n",
              "          element.innerHTML = '';\n",
              "          dataTable['output_type'] = 'display_data';\n",
              "          await google.colab.output.renderOutput(dataTable, element);\n",
              "          const docLink = document.createElement('div');\n",
              "          docLink.innerHTML = docLinkHtml;\n",
              "          element.appendChild(docLink);\n",
              "        }\n",
              "      </script>\n",
              "    </div>\n",
              "  </div>\n",
              "  "
            ]
          },
          "metadata": {},
          "execution_count": 18
        },
        {
          "output_type": "display_data",
          "data": {
            "text/plain": [
              "<Figure size 432x288 with 2 Axes>"
            ],
            "image/png": "[encoded data removed]"
          },
          "metadata": {}
        }
      ]
    },
    {
      "cell_type": "markdown",
      "source": [
        "To improve the model, we have use other classifiers with better parameters. The accuracy has encrease and is now close to 0.48 for all the metrics. \n",
        "\n",
        "The confusion matrix also shows that more sentences have been correctly predicted by the model, and there are fewer instances of significant misclassification (e.g., predicting A1 but the correct label is C2)."
      ],
      "metadata": {
        "id": "0uV4yF6aFTBE"
      }
    },
    {
      "cell_type": "markdown",
      "source": [
        "> Submit the model to see the final score."
      ],
      "metadata": {
        "id": "fk4PeY7ocIww"
      }
    },
    {
      "cell_type": "code",
      "source": [
        "# Submit the model train with X_train (the train part of dfTrain)\n",
        "predDifficulty = pipe.predict(dfTest['sentence'])\n",
        "\n",
        "cfun.prediction(predDifficulty, 'Ensemble_tfidf')"
      ],
      "metadata": {
        "id": "JFD0thX2UvBN",
        "colab": {
          "base_uri": "https://localhost:8080/",
          "height": 237
        },
        "outputId": "8c5dd794-ccf2-4ea5-dce0-d92ea01a3c71"
      },
      "execution_count": null,
      "outputs": [
        {
          "output_type": "execute_result",
          "data": {
            "text/plain": [
              "   difficulty\n",
              "id           \n",
              "0          C2\n",
              "1          B1\n",
              "2          A1\n",
              "3          A1\n",
              "4          C2"
            ],
            "text/html": [
              "\n",
              "  <div id=\"df-b544892a-704c-405b-8a09-1704696c5394\">\n",
              "    <div class=\"colab-df-container\">\n",
              "      <div>\n",
              "<style scoped>\n",
              "    .dataframe tbody tr th:only-of-type {\n",
              "        vertical-align: middle;\n",
              "    }\n",
              "\n",
              "    .dataframe tbody tr th {\n",
              "        vertical-align: top;\n",
              "    }\n",
              "\n",
              "    .dataframe thead th {\n",
              "        text-align: right;\n",
              "    }\n",
              "</style>\n",
              "<table border=\"1\" class=\"dataframe\">\n",
              "  <thead>\n",
              "    <tr style=\"text-align: right;\">\n",
              "      <th></th>\n",
              "      <th>difficulty</th>\n",
              "    </tr>\n",
              "    <tr>\n",
              "      <th>id</th>\n",
              "      <th></th>\n",
              "    </tr>\n",
              "  </thead>\n",
              "  <tbody>\n",
              "    <tr>\n",
              "      <th>0</th>\n",
              "      <td>C2</td>\n",
              "    </tr>\n",
              "    <tr>\n",
              "      <th>1</th>\n",
              "      <td>B1</td>\n",
              "    </tr>\n",
              "    <tr>\n",
              "      <th>2</th>\n",
              "      <td>A1</td>\n",
              "    </tr>\n",
              "    <tr>\n",
              "      <th>3</th>\n",
              "      <td>A1</td>\n",
              "    </tr>\n",
              "    <tr>\n",
              "      <th>4</th>\n",
              "      <td>C2</td>\n",
              "    </tr>\n",
              "  </tbody>\n",
              "</table>\n",
              "</div>\n",
              "      <button class=\"colab-df-convert\" onclick=\"convertToInteractive('df-b544892a-704c-405b-8a09-1704696c5394')\"\n",
              "              title=\"Convert this dataframe to an interactive table.\"\n",
              "              style=\"display:none;\">\n",
              "        \n",
              "  <svg xmlns=\"http://www.w3.org/2000/svg\" height=\"24px\"viewBox=\"0 0 24 24\"\n",
              "       width=\"24px\">\n",
              "    <path d=\"M0 0h24v24H0V0z\" fill=\"none\"/>\n",
              "    <path d=\"M18.56 5.44l.94 2.06.94-2.06 2.06-.94-2.06-.94-.94-2.06-.94 2.06-2.06.94zm-11 1L8.5 8.5l.94-2.06 2.06-.94-2.06-.94L8.5 2.5l-.94 2.06-2.06.94zm10 10l.94 2.06.94-2.06 2.06-.94-2.06-.94-.94-2.06-.94 2.06-2.06.94z\"/><path d=\"M17.41 7.96l-1.37-1.37c-.4-.4-.92-.59-1.43-.59-.52 0-1.04.2-1.43.59L10.3 9.45l-7.72 7.72c-.78.78-.78 2.05 0 2.83L4 21.41c.39.39.9.59 1.41.59.51 0 1.02-.2 1.41-.59l7.78-7.78 2.81-2.81c.8-.78.8-2.07 0-2.86zM5.41 20L4 18.59l7.72-7.72 1.47 1.35L5.41 20z\"/>\n",
              "  </svg>\n",
              "      </button>\n",
              "      \n",
              "  <style>\n",
              "    .colab-df-container {\n",
              "      display:flex;\n",
              "      flex-wrap:wrap;\n",
              "      gap: 12px;\n",
              "    }\n",
              "\n",
              "    .colab-df-convert {\n",
              "      background-color: #E8F0FE;\n",
              "      border: none;\n",
              "      border-radius: 50%;\n",
              "      cursor: pointer;\n",
              "      display: none;\n",
              "      fill: #1967D2;\n",
              "      height: 32px;\n",
              "      padding: 0 0 0 0;\n",
              "      width: 32px;\n",
              "    }\n",
              "\n",
              "    .colab-df-convert:hover {\n",
              "      background-color: #E2EBFA;\n",
              "      box-shadow: 0px 1px 2px rgba(60, 64, 67, 0.3), 0px 1px 3px 1px rgba(60, 64, 67, 0.15);\n",
              "      fill: #174EA6;\n",
              "    }\n",
              "\n",
              "    [theme=dark] .colab-df-convert {\n",
              "      background-color: #3B4455;\n",
              "      fill: #D2E3FC;\n",
              "    }\n",
              "\n",
              "    [theme=dark] .colab-df-convert:hover {\n",
              "      background-color: #434B5C;\n",
              "      box-shadow: 0px 1px 3px 1px rgba(0, 0, 0, 0.15);\n",
              "      filter: drop-shadow(0px 1px 2px rgba(0, 0, 0, 0.3));\n",
              "      fill: #FFFFFF;\n",
              "    }\n",
              "  </style>\n",
              "\n",
              "      <script>\n",
              "        const buttonEl =\n",
              "          document.querySelector('#df-b544892a-704c-405b-8a09-1704696c5394 button.colab-df-convert');\n",
              "        buttonEl.style.display =\n",
              "          google.colab.kernel.accessAllowed ? 'block' : 'none';\n",
              "\n",
              "        async function convertToInteractive(key) {\n",
              "          const element = document.querySelector('#df-b544892a-704c-405b-8a09-1704696c5394');\n",
              "          const dataTable =\n",
              "            await google.colab.kernel.invokeFunction('convertToInteractive',\n",
              "                                                     [key], {});\n",
              "          if (!dataTable) return;\n",
              "\n",
              "          const docLinkHtml = 'Like what you see? Visit the ' +\n",
              "            '<a target=\"_blank\" href=https://colab.research.google.com/notebooks/data_table.ipynb>data table notebook</a>'\n",
              "            + ' to learn more about interactive tables.';\n",
              "          element.innerHTML = '';\n",
              "          dataTable['output_type'] = 'display_data';\n",
              "          await google.colab.output.renderOutput(dataTable, element);\n",
              "          const docLink = document.createElement('div');\n",
              "          docLink.innerHTML = docLinkHtml;\n",
              "          element.appendChild(docLink);\n",
              "        }\n",
              "      </script>\n",
              "    </div>\n",
              "  </div>\n",
              "  "
            ]
          },
          "metadata": {},
          "execution_count": 19
        }
      ]
    },
    {
      "cell_type": "markdown",
      "source": [
        "The score of the submission is 0.4675.\n",
        "\n",
        "It's lower then accuracy that we have with the test dataset from dfTrain. However, we have still improved the accuracy of the predictions made with this new list of classifiers. The accuracy has increased from 0.446 to 0.468, representing an improvement of almost 2 percentage points."
      ],
      "metadata": {
        "id": "N8VzQlswcfw1"
      }
    },
    {
      "cell_type": "markdown",
      "metadata": {
        "id": "tSRZJoYELGQ4"
      },
      "source": [
        "# 3. Ensemble models with Word2Vec"
      ]
    },
    {
      "cell_type": "markdown",
      "source": [
        "## 3.1 Set up the base for the model"
      ],
      "metadata": {
        "id": "k3DLK1apUB1B"
      }
    },
    {
      "cell_type": "markdown",
      "source": [
        "### 3.1.1 Cleaning and tokenizing the sentences"
      ],
      "metadata": {
        "id": "47jyDv5577Z8"
      }
    },
    {
      "cell_type": "markdown",
      "source": [
        "> First, let's clean the sentences by removing the stop words and the punctuation, and also lowercase all the words."
      ],
      "metadata": {
        "id": "p3Om5NP2d0jK"
      }
    },
    {
      "cell_type": "code",
      "execution_count": null,
      "metadata": {
        "id": "mB_VlgydLqQw"
      },
      "outputs": [],
      "source": [
        "# Set the list of stop words and punctuation\n",
        "stop_words = spacy.lang.fr.stop_words.STOP_WORDS\n",
        "punctuations = string.punctuation"
      ]
    },
    {
      "cell_type": "markdown",
      "source": [
        "> We gather some additional information about the sentences using our [custom function](https://raw.githubusercontent.com/danieldovale/DMML2022_Tissot/main/code/custom_functions.py) get_info()."
      ],
      "metadata": {
        "id": "xpAN7KhyIHgv"
      }
    },
    {
      "cell_type": "code",
      "execution_count": null,
      "metadata": {
        "id": "RKBy_HcQLs3e",
        "colab": {
          "base_uri": "https://localhost:8080/"
        },
        "outputId": "f269e37f-c539-41bb-b5e6-20640d799fa5"
      },
      "outputs": [
        {
          "output_type": "stream",
          "name": "stderr",
          "text": [
            "100%|██████████| 4800/4800 [01:19<00:00, 60.21it/s]\n"
          ]
        }
      ],
      "source": [
        "# Get all the information about the dataset dfTrain\n",
        "dfTrainInfo = cfun.get_info(dfTrain)"
      ]
    },
    {
      "cell_type": "markdown",
      "source": [
        "\n",
        "> Next, we define a spacy tokenizer to clean the data we lowercase and lemmatize all the words. "
      ],
      "metadata": {
        "id": "4IufENwYzIOi"
      }
    },
    {
      "cell_type": "code",
      "execution_count": null,
      "metadata": {
        "id": "BPjGX4VaSztq"
      },
      "outputs": [],
      "source": [
        "def spacy_tokenizer(sentence):\n",
        "    # Create token object, which is used to create documents with linguistic annotations\n",
        "    mytokens = sp(sentence)\n",
        "\n",
        "    # Lemmatize each token and convert each token into lowercase\n",
        "    mytokens = [ word.lemma_.lower().strip() for word in mytokens ] \n",
        "    \n",
        "    # Return preprocessed list of tokens\n",
        "    return mytokens"
      ]
    },
    {
      "cell_type": "markdown",
      "source": [
        "> Tokenizing every words in dfTrain and dfTest to feed it as vocabulary to Word2Vec."
      ],
      "metadata": {
        "id": "R-Mo26fIzN7U"
      }
    },
    {
      "cell_type": "code",
      "execution_count": null,
      "metadata": {
        "id": "I5p7CheeMXhH",
        "colab": {
          "base_uri": "https://localhost:8080/"
        },
        "outputId": "4dc6605b-29ba-425f-92db-b30c676c0555"
      },
      "outputs": [
        {
          "output_type": "stream",
          "name": "stderr",
          "text": [
            "100%|██████████| 4800/4800 [01:06<00:00, 72.36it/s]\n"
          ]
        }
      ],
      "source": [
        "# Tokenize texts from the dataset dfTrain\n",
        "processed_texts = []\n",
        "for text in tqdm(dfTrain[\"sentence\"]):\n",
        "  processed_text = spacy_tokenizer(text)\n",
        "  processed_texts.append(processed_text)"
      ]
    },
    {
      "cell_type": "code",
      "execution_count": null,
      "metadata": {
        "id": "TIdcX7bNMhoq",
        "colab": {
          "base_uri": "https://localhost:8080/"
        },
        "outputId": "9a4e3f0d-a46c-43bb-dbac-ae972325dcaf"
      },
      "outputs": [
        {
          "output_type": "stream",
          "name": "stderr",
          "text": [
            "100%|██████████| 1200/1200 [00:13<00:00, 86.04it/s]\n"
          ]
        }
      ],
      "source": [
        "# Tokenize texts from the dataset dfTest\n",
        "processed_texts_test = []\n",
        "for text in tqdm(dfTest[\"sentence\"]):\n",
        "  processed_text_test = spacy_tokenizer(text)\n",
        "  processed_texts_test.append(processed_text_test)"
      ]
    },
    {
      "cell_type": "code",
      "execution_count": null,
      "metadata": {
        "id": "Y4TU6GjpMxb_"
      },
      "outputs": [],
      "source": [
        "# After Tokenize both dataset, we join the two processed dataset. \n",
        "processed_texts_both = processed_texts + processed_texts_test"
      ]
    },
    {
      "cell_type": "markdown",
      "source": [
        "### 3.1.2 Vectorize with Word2Vec"
      ],
      "metadata": {
        "id": "gs0jcbCTjeGy"
      }
    },
    {
      "cell_type": "code",
      "execution_count": null,
      "metadata": {
        "id": "t3755JFGM7Zc"
      },
      "outputs": [],
      "source": [
        "# Necessary function to set a fixed random state to Word2Vec\n",
        "def hash(astring):\n",
        "   return ord(astring[0])"
      ]
    },
    {
      "cell_type": "code",
      "execution_count": null,
      "metadata": {
        "id": "qgxvV-TTM9qX",
        "colab": {
          "base_uri": "https://localhost:8080/"
        },
        "outputId": "b8eb67b9-056f-4316-99f9-0ee9fd1b6b52"
      },
      "outputs": [
        {
          "output_type": "execute_result",
          "data": {
            "text/plain": [
              "(8323807, 12880800)"
            ]
          },
          "metadata": {},
          "execution_count": 13
        }
      ],
      "source": [
        "# Building Word2Vec model\n",
        "model = gensim.models.Word2Vec(size=512, window=50, min_count=1, workers=1, seed = 0, hashfxn=hash)\n",
        "model.build_vocab(processed_texts_both)\n",
        "\n",
        "# Train model on preprocessed sentences\n",
        "model.train(processed_texts_both, total_examples=len(processed_texts_both), epochs=100)"
      ]
    },
    {
      "cell_type": "markdown",
      "source": [
        ">Building dataframe with vectors"
      ],
      "metadata": {
        "id": "XO96mLQyzgg2"
      }
    },
    {
      "cell_type": "code",
      "execution_count": null,
      "metadata": {
        "id": "tjLhZ19kNFaY",
        "colab": {
          "base_uri": "https://localhost:8080/"
        },
        "outputId": "a861fd4e-b459-4e83-f5d5-c64eab49fba2"
      },
      "outputs": [
        {
          "output_type": "stream",
          "name": "stderr",
          "text": [
            "  0%|          | 0/4800 [00:00<?, ?it/s]<ipython-input-14-0ee4a6e1c4bd>:5: DeprecationWarning: Call to deprecated `__getitem__` (Method will be removed in 4.0.0, use self.wv.__getitem__() instead).\n",
            "  vectors.append(sum(model[token] for token in sent)/len(sent))\n",
            "100%|██████████| 4800/4800 [00:00<00:00, 7981.67it/s]\n"
          ]
        }
      ],
      "source": [
        "# Applying Word2Vec vectorizer to every sentence in dfTrain\n",
        "# Note that the result of the each token is divided by the len of the sentence.\n",
        "vectors = []\n",
        "for sent in tqdm(processed_texts):\n",
        "      vectors.append(sum(model[token] for token in sent)/len(sent))"
      ]
    },
    {
      "cell_type": "code",
      "execution_count": null,
      "metadata": {
        "id": "ge0_8NgJNOvw"
      },
      "outputs": [],
      "source": [
        "# Create a dataframe with all the vectors\n",
        "dfVectors = pd.DataFrame(vectors)\n",
        "\n",
        "# Concatenating vectors and info dataframes\n",
        "dfFinal = pd.concat([dfVectors, dfTrainInfo], axis = 1)"
      ]
    },
    {
      "cell_type": "markdown",
      "source": [
        "> Slip the processed sentences to train the model and test it. \n",
        ">\n",
        ">*   80% to train\n",
        ">*   20% to test"
      ],
      "metadata": {
        "id": "plIlrvh6o_0V"
      }
    },
    {
      "cell_type": "code",
      "execution_count": null,
      "metadata": {
        "id": "k2p5qpakNTw3"
      },
      "outputs": [],
      "source": [
        "X = dfFinal\n",
        "y = dfTrain['difficulty']\n",
        "\n",
        "X_train, X_test, y_train, y_test = train_test_split(X, y, test_size=0.2, random_state=0)"
      ]
    },
    {
      "cell_type": "markdown",
      "source": [
        "## 3.2 The Ensemble with Word2Vec "
      ],
      "metadata": {
        "id": "XTX-M8RwpeVU"
      }
    },
    {
      "cell_type": "markdown",
      "source": [
        "#### 3.2.1 An simple example of an Ensemble with Word2Vec"
      ],
      "metadata": {
        "id": "3qP0U7Ec2Pg3"
      }
    },
    {
      "cell_type": "markdown",
      "source": [
        "> The 3 classifiers that will be use in the ensemble model :\n",
        ">\n",
        "> 1.   Logistic Regression (logclf)\n",
        "2.   Decision Tree Classifier (dtclf)\n",
        "3.   Linear Support Vector Classifier (svcclf)"
      ],
      "metadata": {
        "id": "ZM6B4ABoxFGe"
      }
    },
    {
      "cell_type": "code",
      "source": [
        "# Import some additional packages \n",
        "from sklearn.svm import LinearSVC\n",
        "\n",
        "# Set up the classifiers with some parameters\n",
        "logclf = LogisticRegression(C=10, max_iter=15000, random_state=0)\n",
        "dtclf = DecisionTreeClassifier(criterion='entropy', max_depth=3, random_state=0)\n",
        "svcclf = LinearSVC(max_iter=2000, tol=0.001, random_state=0)"
      ],
      "metadata": {
        "id": "KmhQW-B7vQGE"
      },
      "execution_count": null,
      "outputs": []
    },
    {
      "cell_type": "markdown",
      "source": [
        "> The EnsembleVoteClassifier with the 3 classifiers \n",
        " \n",
        "The parameters :\n",
        "* clfs = list of classifiers (logclf, dtclf, svcclf)\n",
        "* weights = [2, 1.5, 1] (2 for the logclf, 1.5 for the dtclf, 1 for the svcclf)\n",
        "\n",
        "*The others parameters set with the defaults values (like voting='hard', it predicts the class labels (A1,...C2) with the majority rule voting).*"
      ],
      "metadata": {
        "id": "wBBsDKWS0dfE"
      }
    },
    {
      "cell_type": "code",
      "source": [
        "# Set up the ensemble classifier\n",
        "clf_ens = EnsembleVoteClassifier(clfs=[logclf, dtclf, svcclf],weights=[2,1.5,1])\n",
        "\n",
        "# Train the model\n",
        "clf_ens.fit(X_train, y_train)"
      ],
      "metadata": {
        "id": "_lQqiENhwclY",
        "colab": {
          "base_uri": "https://localhost:8080/"
        },
        "outputId": "5c2610d0-ce8e-438f-c651-683de71b9122"
      },
      "execution_count": null,
      "outputs": [
        {
          "output_type": "stream",
          "name": "stderr",
          "text": [
            "/usr/local/lib/python3.8/dist-packages/sklearn/utils/validation.py:1688: FutureWarning: Feature names only support names that are all strings. Got feature names with dtypes: ['int', 'str']. An error will be raised in 1.2.\n",
            "  warnings.warn(\n",
            "/usr/local/lib/python3.8/dist-packages/sklearn/utils/validation.py:1688: FutureWarning: Feature names only support names that are all strings. Got feature names with dtypes: ['int', 'str']. An error will be raised in 1.2.\n",
            "  warnings.warn(\n",
            "/usr/local/lib/python3.8/dist-packages/sklearn/utils/validation.py:1688: FutureWarning: Feature names only support names that are all strings. Got feature names with dtypes: ['int', 'str']. An error will be raised in 1.2.\n",
            "  warnings.warn(\n",
            "/usr/local/lib/python3.8/dist-packages/sklearn/svm/_base.py:1206: ConvergenceWarning: Liblinear failed to converge, increase the number of iterations.\n",
            "  warnings.warn(\n"
          ]
        },
        {
          "output_type": "execute_result",
          "data": {
            "text/plain": [
              "EnsembleVoteClassifier(clfs=[LogisticRegression(C=10, max_iter=15000,\n",
              "                                                random_state=0),\n",
              "                             DecisionTreeClassifier(criterion='entropy',\n",
              "                                                    max_depth=3,\n",
              "                                                    random_state=0),\n",
              "                             LinearSVC(max_iter=2000, random_state=0,\n",
              "                                       tol=0.001)],\n",
              "                       weights=[2, 1.5, 1])"
            ]
          },
          "metadata": {},
          "execution_count": 32
        }
      ]
    },
    {
      "cell_type": "markdown",
      "source": [
        "> Evaluate the fitted model"
      ],
      "metadata": {
        "id": "mLYfFGjl0scK"
      }
    },
    {
      "cell_type": "code",
      "execution_count": null,
      "metadata": {
        "id": "uNv1nYneCXgE",
        "colab": {
          "base_uri": "https://localhost:8080/",
          "height": 453
        },
        "outputId": "dbdf957d-0757-4cb8-b231-d01cf8dc245c"
      },
      "outputs": [
        {
          "output_type": "stream",
          "name": "stderr",
          "text": [
            "/usr/local/lib/python3.8/dist-packages/sklearn/utils/validation.py:1688: FutureWarning: Feature names only support names that are all strings. Got feature names with dtypes: ['int', 'str']. An error will be raised in 1.2.\n",
            "  warnings.warn(\n",
            "/usr/local/lib/python3.8/dist-packages/sklearn/utils/validation.py:1688: FutureWarning: Feature names only support names that are all strings. Got feature names with dtypes: ['int', 'str']. An error will be raised in 1.2.\n",
            "  warnings.warn(\n",
            "/usr/local/lib/python3.8/dist-packages/sklearn/utils/validation.py:1688: FutureWarning: Feature names only support names that are all strings. Got feature names with dtypes: ['int', 'str']. An error will be raised in 1.2.\n",
            "  warnings.warn(\n"
          ]
        },
        {
          "output_type": "execute_result",
          "data": {
            "text/plain": [
              "         accuracy  precision  recall  f1 score\n",
              "results    0.4385     0.4842  0.4385    0.4338"
            ],
            "text/html": [
              "\n",
              "  <div id=\"df-6b495eb0-f67f-4988-b9b3-82e7b107a87b\">\n",
              "    <div class=\"colab-df-container\">\n",
              "      <div>\n",
              "<style scoped>\n",
              "    .dataframe tbody tr th:only-of-type {\n",
              "        vertical-align: middle;\n",
              "    }\n",
              "\n",
              "    .dataframe tbody tr th {\n",
              "        vertical-align: top;\n",
              "    }\n",
              "\n",
              "    .dataframe thead th {\n",
              "        text-align: right;\n",
              "    }\n",
              "</style>\n",
              "<table border=\"1\" class=\"dataframe\">\n",
              "  <thead>\n",
              "    <tr style=\"text-align: right;\">\n",
              "      <th></th>\n",
              "      <th>accuracy</th>\n",
              "      <th>precision</th>\n",
              "      <th>recall</th>\n",
              "      <th>f1 score</th>\n",
              "    </tr>\n",
              "  </thead>\n",
              "  <tbody>\n",
              "    <tr>\n",
              "      <th>results</th>\n",
              "      <td>0.4385</td>\n",
              "      <td>0.4842</td>\n",
              "      <td>0.4385</td>\n",
              "      <td>0.4338</td>\n",
              "    </tr>\n",
              "  </tbody>\n",
              "</table>\n",
              "</div>\n",
              "      <button class=\"colab-df-convert\" onclick=\"convertToInteractive('df-6b495eb0-f67f-4988-b9b3-82e7b107a87b')\"\n",
              "              title=\"Convert this dataframe to an interactive table.\"\n",
              "              style=\"display:none;\">\n",
              "        \n",
              "  <svg xmlns=\"http://www.w3.org/2000/svg\" height=\"24px\"viewBox=\"0 0 24 24\"\n",
              "       width=\"24px\">\n",
              "    <path d=\"M0 0h24v24H0V0z\" fill=\"none\"/>\n",
              "    <path d=\"M18.56 5.44l.94 2.06.94-2.06 2.06-.94-2.06-.94-.94-2.06-.94 2.06-2.06.94zm-11 1L8.5 8.5l.94-2.06 2.06-.94-2.06-.94L8.5 2.5l-.94 2.06-2.06.94zm10 10l.94 2.06.94-2.06 2.06-.94-2.06-.94-.94-2.06-.94 2.06-2.06.94z\"/><path d=\"M17.41 7.96l-1.37-1.37c-.4-.4-.92-.59-1.43-.59-.52 0-1.04.2-1.43.59L10.3 9.45l-7.72 7.72c-.78.78-.78 2.05 0 2.83L4 21.41c.39.39.9.59 1.41.59.51 0 1.02-.2 1.41-.59l7.78-7.78 2.81-2.81c.8-.78.8-2.07 0-2.86zM5.41 20L4 18.59l7.72-7.72 1.47 1.35L5.41 20z\"/>\n",
              "  </svg>\n",
              "      </button>\n",
              "      \n",
              "  <style>\n",
              "    .colab-df-container {\n",
              "      display:flex;\n",
              "      flex-wrap:wrap;\n",
              "      gap: 12px;\n",
              "    }\n",
              "\n",
              "    .colab-df-convert {\n",
              "      background-color: #E8F0FE;\n",
              "      border: none;\n",
              "      border-radius: 50%;\n",
              "      cursor: pointer;\n",
              "      display: none;\n",
              "      fill: #1967D2;\n",
              "      height: 32px;\n",
              "      padding: 0 0 0 0;\n",
              "      width: 32px;\n",
              "    }\n",
              "\n",
              "    .colab-df-convert:hover {\n",
              "      background-color: #E2EBFA;\n",
              "      box-shadow: 0px 1px 2px rgba(60, 64, 67, 0.3), 0px 1px 3px 1px rgba(60, 64, 67, 0.15);\n",
              "      fill: #174EA6;\n",
              "    }\n",
              "\n",
              "    [theme=dark] .colab-df-convert {\n",
              "      background-color: #3B4455;\n",
              "      fill: #D2E3FC;\n",
              "    }\n",
              "\n",
              "    [theme=dark] .colab-df-convert:hover {\n",
              "      background-color: #434B5C;\n",
              "      box-shadow: 0px 1px 3px 1px rgba(0, 0, 0, 0.15);\n",
              "      filter: drop-shadow(0px 1px 2px rgba(0, 0, 0, 0.3));\n",
              "      fill: #FFFFFF;\n",
              "    }\n",
              "  </style>\n",
              "\n",
              "      <script>\n",
              "        const buttonEl =\n",
              "          document.querySelector('#df-6b495eb0-f67f-4988-b9b3-82e7b107a87b button.colab-df-convert');\n",
              "        buttonEl.style.display =\n",
              "          google.colab.kernel.accessAllowed ? 'block' : 'none';\n",
              "\n",
              "        async function convertToInteractive(key) {\n",
              "          const element = document.querySelector('#df-6b495eb0-f67f-4988-b9b3-82e7b107a87b');\n",
              "          const dataTable =\n",
              "            await google.colab.kernel.invokeFunction('convertToInteractive',\n",
              "                                                     [key], {});\n",
              "          if (!dataTable) return;\n",
              "\n",
              "          const docLinkHtml = 'Like what you see? Visit the ' +\n",
              "            '<a target=\"_blank\" href=https://colab.research.google.com/notebooks/data_table.ipynb>data table notebook</a>'\n",
              "            + ' to learn more about interactive tables.';\n",
              "          element.innerHTML = '';\n",
              "          dataTable['output_type'] = 'display_data';\n",
              "          await google.colab.output.renderOutput(dataTable, element);\n",
              "          const docLink = document.createElement('div');\n",
              "          docLink.innerHTML = docLinkHtml;\n",
              "          element.appendChild(docLink);\n",
              "        }\n",
              "      </script>\n",
              "    </div>\n",
              "  </div>\n",
              "  "
            ]
          },
          "metadata": {},
          "execution_count": 33
        },
        {
          "output_type": "display_data",
          "data": {
            "text/plain": [
              "<Figure size 432x288 with 2 Axes>"
            ],
            "image/png": "[encoded data removed]"
          },
          "metadata": {}
        }
      ],
      "source": [
        "# Predict the y of the X_test dataset\n",
        "y_pred = clf_ens.predict(X_test)\n",
        "\n",
        "# Evaluate the prediction\n",
        "cfun.evaluate(y_test, y_pred)"
      ]
    },
    {
      "cell_type": "markdown",
      "source": [
        "For this example, we randomly selected 3 classifiers that we had previously tested individually. We found that the combination of logistic regression, decision tree, and linear SVC resulted in a more accurate model overall. However, all metrics are still below 0.5.\n",
        "\n",
        "Analysing the confusion matrix, we can see that there are even fewer misclassified sentences, and the A1 sentences are the ones that are most accurately classified."
      ],
      "metadata": {
        "id": "ql8I0PGmCFxJ"
      }
    },
    {
      "cell_type": "markdown",
      "source": [
        "> Submit the model to see the final score."
      ],
      "metadata": {
        "id": "VF7CVkFg0yWG"
      }
    },
    {
      "cell_type": "code",
      "source": [
        "# Vectorize the dfTest to predict the values with the train model\n",
        "vectors_test = []\n",
        "for sent in processed_texts_test:\n",
        "    vectors_test.append(sum(model[token] for token in sent)/len(sent))\n",
        "\n",
        "dfVectorsTest = pd.DataFrame(vectors_test)\n",
        "dfTestInfo = cfun.get_info(dfTest)\n",
        "dfFinalTest = pd.concat([dfVectorsTest, dfTestInfo], axis = 1)"
      ],
      "metadata": {
        "id": "nPTaIXuh9vEB",
        "colab": {
          "base_uri": "https://localhost:8080/"
        },
        "outputId": "6a462ee2-2443-4f85-b130-21e6adce2bf1"
      },
      "execution_count": null,
      "outputs": [
        {
          "output_type": "stream",
          "name": "stderr",
          "text": [
            "<ipython-input-34-e305cfd863fa>:4: DeprecationWarning: Call to deprecated `__getitem__` (Method will be removed in 4.0.0, use self.wv.__getitem__() instead).\n",
            "  vectors_test.append(sum(model[token] for token in sent)/len(sent))\n",
            "100%|██████████| 1200/1200 [00:13<00:00, 89.64it/s]\n"
          ]
        }
      ]
    },
    {
      "cell_type": "code",
      "execution_count": null,
      "metadata": {
        "id": "EIk4HdqZ5THk",
        "colab": {
          "base_uri": "https://localhost:8080/",
          "height": 362
        },
        "outputId": "4b8af454-4811-40da-a277-a285bb49796e"
      },
      "outputs": [
        {
          "output_type": "stream",
          "name": "stderr",
          "text": [
            "/usr/local/lib/python3.8/dist-packages/sklearn/utils/validation.py:1688: FutureWarning: Feature names only support names that are all strings. Got feature names with dtypes: ['int', 'str']. An error will be raised in 1.2.\n",
            "  warnings.warn(\n",
            "/usr/local/lib/python3.8/dist-packages/sklearn/utils/validation.py:1688: FutureWarning: Feature names only support names that are all strings. Got feature names with dtypes: ['int', 'str']. An error will be raised in 1.2.\n",
            "  warnings.warn(\n",
            "/usr/local/lib/python3.8/dist-packages/sklearn/utils/validation.py:1688: FutureWarning: Feature names only support names that are all strings. Got feature names with dtypes: ['int', 'str']. An error will be raised in 1.2.\n",
            "  warnings.warn(\n"
          ]
        },
        {
          "output_type": "execute_result",
          "data": {
            "text/plain": [
              "   difficulty\n",
              "id           \n",
              "0          C2\n",
              "1          A2\n",
              "2          B2\n",
              "3          B2\n",
              "4          C2"
            ],
            "text/html": [
              "\n",
              "  <div id=\"df-ae0658df-6a35-4956-8095-f76a836d4d75\">\n",
              "    <div class=\"colab-df-container\">\n",
              "      <div>\n",
              "<style scoped>\n",
              "    .dataframe tbody tr th:only-of-type {\n",
              "        vertical-align: middle;\n",
              "    }\n",
              "\n",
              "    .dataframe tbody tr th {\n",
              "        vertical-align: top;\n",
              "    }\n",
              "\n",
              "    .dataframe thead th {\n",
              "        text-align: right;\n",
              "    }\n",
              "</style>\n",
              "<table border=\"1\" class=\"dataframe\">\n",
              "  <thead>\n",
              "    <tr style=\"text-align: right;\">\n",
              "      <th></th>\n",
              "      <th>difficulty</th>\n",
              "    </tr>\n",
              "    <tr>\n",
              "      <th>id</th>\n",
              "      <th></th>\n",
              "    </tr>\n",
              "  </thead>\n",
              "  <tbody>\n",
              "    <tr>\n",
              "      <th>0</th>\n",
              "      <td>C2</td>\n",
              "    </tr>\n",
              "    <tr>\n",
              "      <th>1</th>\n",
              "      <td>A2</td>\n",
              "    </tr>\n",
              "    <tr>\n",
              "      <th>2</th>\n",
              "      <td>B2</td>\n",
              "    </tr>\n",
              "    <tr>\n",
              "      <th>3</th>\n",
              "      <td>B2</td>\n",
              "    </tr>\n",
              "    <tr>\n",
              "      <th>4</th>\n",
              "      <td>C2</td>\n",
              "    </tr>\n",
              "  </tbody>\n",
              "</table>\n",
              "</div>\n",
              "      <button class=\"colab-df-convert\" onclick=\"convertToInteractive('df-ae0658df-6a35-4956-8095-f76a836d4d75')\"\n",
              "              title=\"Convert this dataframe to an interactive table.\"\n",
              "              style=\"display:none;\">\n",
              "        \n",
              "  <svg xmlns=\"http://www.w3.org/2000/svg\" height=\"24px\"viewBox=\"0 0 24 24\"\n",
              "       width=\"24px\">\n",
              "    <path d=\"M0 0h24v24H0V0z\" fill=\"none\"/>\n",
              "    <path d=\"M18.56 5.44l.94 2.06.94-2.06 2.06-.94-2.06-.94-.94-2.06-.94 2.06-2.06.94zm-11 1L8.5 8.5l.94-2.06 2.06-.94-2.06-.94L8.5 2.5l-.94 2.06-2.06.94zm10 10l.94 2.06.94-2.06 2.06-.94-2.06-.94-.94-2.06-.94 2.06-2.06.94z\"/><path d=\"M17.41 7.96l-1.37-1.37c-.4-.4-.92-.59-1.43-.59-.52 0-1.04.2-1.43.59L10.3 9.45l-7.72 7.72c-.78.78-.78 2.05 0 2.83L4 21.41c.39.39.9.59 1.41.59.51 0 1.02-.2 1.41-.59l7.78-7.78 2.81-2.81c.8-.78.8-2.07 0-2.86zM5.41 20L4 18.59l7.72-7.72 1.47 1.35L5.41 20z\"/>\n",
              "  </svg>\n",
              "      </button>\n",
              "      \n",
              "  <style>\n",
              "    .colab-df-container {\n",
              "      display:flex;\n",
              "      flex-wrap:wrap;\n",
              "      gap: 12px;\n",
              "    }\n",
              "\n",
              "    .colab-df-convert {\n",
              "      background-color: #E8F0FE;\n",
              "      border: none;\n",
              "      border-radius: 50%;\n",
              "      cursor: pointer;\n",
              "      display: none;\n",
              "      fill: #1967D2;\n",
              "      height: 32px;\n",
              "      padding: 0 0 0 0;\n",
              "      width: 32px;\n",
              "    }\n",
              "\n",
              "    .colab-df-convert:hover {\n",
              "      background-color: #E2EBFA;\n",
              "      box-shadow: 0px 1px 2px rgba(60, 64, 67, 0.3), 0px 1px 3px 1px rgba(60, 64, 67, 0.15);\n",
              "      fill: #174EA6;\n",
              "    }\n",
              "\n",
              "    [theme=dark] .colab-df-convert {\n",
              "      background-color: #3B4455;\n",
              "      fill: #D2E3FC;\n",
              "    }\n",
              "\n",
              "    [theme=dark] .colab-df-convert:hover {\n",
              "      background-color: #434B5C;\n",
              "      box-shadow: 0px 1px 3px 1px rgba(0, 0, 0, 0.15);\n",
              "      filter: drop-shadow(0px 1px 2px rgba(0, 0, 0, 0.3));\n",
              "      fill: #FFFFFF;\n",
              "    }\n",
              "  </style>\n",
              "\n",
              "      <script>\n",
              "        const buttonEl =\n",
              "          document.querySelector('#df-ae0658df-6a35-4956-8095-f76a836d4d75 button.colab-df-convert');\n",
              "        buttonEl.style.display =\n",
              "          google.colab.kernel.accessAllowed ? 'block' : 'none';\n",
              "\n",
              "        async function convertToInteractive(key) {\n",
              "          const element = document.querySelector('#df-ae0658df-6a35-4956-8095-f76a836d4d75');\n",
              "          const dataTable =\n",
              "            await google.colab.kernel.invokeFunction('convertToInteractive',\n",
              "                                                     [key], {});\n",
              "          if (!dataTable) return;\n",
              "\n",
              "          const docLinkHtml = 'Like what you see? Visit the ' +\n",
              "            '<a target=\"_blank\" href=https://colab.research.google.com/notebooks/data_table.ipynb>data table notebook</a>'\n",
              "            + ' to learn more about interactive tables.';\n",
              "          element.innerHTML = '';\n",
              "          dataTable['output_type'] = 'display_data';\n",
              "          await google.colab.output.renderOutput(dataTable, element);\n",
              "          const docLink = document.createElement('div');\n",
              "          docLink.innerHTML = docLinkHtml;\n",
              "          element.appendChild(docLink);\n",
              "        }\n",
              "      </script>\n",
              "    </div>\n",
              "  </div>\n",
              "  "
            ]
          },
          "metadata": {},
          "execution_count": 35
        }
      ],
      "source": [
        "# Submit the model train with X_train (the train part of dfTrain)\n",
        "predDifficulty = clf_ens.predict(dfFinalTest)\n",
        "\n",
        "cfun.prediction(predDifficulty, 'Ensemble_w2v_example_1')"
      ]
    },
    {
      "cell_type": "code",
      "execution_count": null,
      "metadata": {
        "id": "xvrjaqAm5ccW",
        "colab": {
          "base_uri": "https://localhost:8080/"
        },
        "outputId": "a629331c-139e-4c1d-f5db-cdf5cc26d48e"
      },
      "outputs": [
        {
          "output_type": "stream",
          "name": "stderr",
          "text": [
            "/usr/local/lib/python3.8/dist-packages/sklearn/utils/validation.py:1688: FutureWarning: Feature names only support names that are all strings. Got feature names with dtypes: ['int', 'str']. An error will be raised in 1.2.\n",
            "  warnings.warn(\n"
          ]
        }
      ],
      "source": [
        "# Submit the model train on the whole dfTrain\n",
        "clf_ens.fit(X, y)\n",
        "\n",
        "predDifficulty = clf_ens.predict(dfFinalTest)\n",
        "\n",
        "cfun.prediction(predDifficulty, 'Ensemble_w2v_example_2')"
      ]
    },
    {
      "cell_type": "markdown",
      "metadata": {
        "id": "-eq7e7j05eZd"
      },
      "source": [
        "Score of the submissions : \n",
        "\n",
        "*   Train on the split dfTrain (X_train) : 0.45333\n",
        "*   Train on the whole dfTrain : 0.4525\n",
        "\n",
        "Unfortunately, the results are not as promising as we had hoped. Despite having a higher accuracy with Word2Vec than with TfidfVector for the test dataset of dfTrain, the model performed worse when making predictions on the sentences that we submitted. "
      ]
    },
    {
      "cell_type": "markdown",
      "source": [
        "#### 3.2.2 The best model found with an Ensemble and Word2Vec"
      ],
      "metadata": {
        "id": "dZFumS1p2LX2"
      }
    },
    {
      "cell_type": "markdown",
      "source": [
        "> The 3 classifiers that will be use in the ensemble model :\n",
        ">\n",
        "> 1.   Logistic Regression (logclf)\n",
        "2.   Random Forest Classifier (rfclf)\n",
        "3.   Multi-layer Perceptron classifier (mlpclf)\n"
      ],
      "metadata": {
        "id": "daxRnydU24hJ"
      }
    },
    {
      "cell_type": "code",
      "source": [
        "# Set up the classifiers with some parameters\n",
        "logclf = LogisticRegression(C = 10, max_iter = 20000, random_state = 0)\n",
        "mlpclf = MLPClassifier(max_iter=1000, random_state=0)\n",
        "rfclf = RandomForestClassifier(n_estimators=350, random_state=0)"
      ],
      "metadata": {
        "id": "1t7AL49n3Ffy"
      },
      "execution_count": null,
      "outputs": []
    },
    {
      "cell_type": "markdown",
      "source": [
        "> The EnsembleVoteClassifier with the 3 classifiers \n",
        " \n",
        "The parameters :\n",
        "* clfs = list of classifiers (logclf, rfclf, mlpclf)\n",
        "* weights = [1.5, 1, 1] (1.5 for the logclf, 1 for the mlpclf, 1 for the rfclf)\n",
        "\n",
        "*The others parameters set with the defaults values (like voting='hard', it predicts the class labels (A1,...C2) with the majority rule voting).*"
      ],
      "metadata": {
        "id": "ZTw79IN-24hJ"
      }
    },
    {
      "cell_type": "code",
      "source": [
        "# Set up the ensemble classifier\n",
        "clf_ens = EnsembleVoteClassifier(clfs=[logclf, mlpclf, rfclf],weights=[2,1.5,1])\n",
        "\n",
        "# Train the model\n",
        "clf_ens.fit(X_train, y_train)"
      ],
      "metadata": {
        "id": "_vuLhtlMImDy"
      },
      "execution_count": null,
      "outputs": []
    },
    {
      "cell_type": "markdown",
      "source": [
        "> Evaluate the fitted model"
      ],
      "metadata": {
        "id": "FcFYSRLv24hK"
      }
    },
    {
      "cell_type": "code",
      "execution_count": null,
      "metadata": {
        "id": "3leCylXP24hK"
      },
      "outputs": [],
      "source": [
        "# Predict the y of the X_test dataset\n",
        "y_pred = clf_ens.predict(X_test)\n",
        "\n",
        "# Evaluate the prediction\n",
        "cfun.evaluate(y_test, y_pred)"
      ]
    },
    {
      "cell_type": "code",
      "source": [
        "cfun.class_accuracy(y_test, y_pred)"
      ],
      "metadata": {
        "id": "1A28HiuTpDG7"
      },
      "execution_count": null,
      "outputs": []
    },
    {
      "cell_type": "markdown",
      "source": [
        "We have again surpassed the threshold of 0.5 for all evaluation metrics. With a score close to 0.52, this is the one of the best model that we have found for predicting the class of each sentence. In addition, we can note that we have the exact same results as the metrics found in the Word2Vec model. \n",
        "\n",
        "Examing the confusion matrix, we can see that some sentences are still completely misclassified. However, the error of classification is lower, as more and more sentences are closer to the correct class."
      ],
      "metadata": {
        "id": "cWlQrKhuAcP3"
      }
    },
    {
      "cell_type": "markdown",
      "source": [
        "> Submit the model to see the final score."
      ],
      "metadata": {
        "id": "NT7IV3V424hK"
      }
    },
    {
      "cell_type": "code",
      "source": [
        "# Vectorize the dfTest to predict the values with the train model\n",
        "vectors_test = []\n",
        "for sent in processed_texts_test:\n",
        "    vectors_test.append(sum(model[token] for token in sent)/len(sent))\n",
        "\n",
        "dfVectorsTest = pd.DataFrame(vectors_test)\n",
        "dfTestInfo = cfun.get_info(dfTest)\n",
        "dfFinalTest = pd.concat([dfVectorsTest, dfTestInfo], axis = 1)"
      ],
      "metadata": {
        "id": "Nm90afNW7DZx"
      },
      "execution_count": null,
      "outputs": []
    },
    {
      "cell_type": "code",
      "execution_count": null,
      "metadata": {
        "id": "w4BHlDGs24hK"
      },
      "outputs": [],
      "source": [
        "# Submit the model train with X_train (the train part of dfTrain)\n",
        "predDifficulty = clf_ens.predict(dfFinalTest)\n",
        "\n",
        "cfun.prediction(predDifficulty, 'Ensemble_w2v_best_1')"
      ]
    },
    {
      "cell_type": "code",
      "execution_count": null,
      "metadata": {
        "id": "9-jkR7Ny24hK"
      },
      "outputs": [],
      "source": [
        "# Submit the model train on the whole dfTrain\n",
        "clf_ens.fit(X, y)\n",
        "\n",
        "predDifficulty = clf_ens.predict(dfFinalTest)\n",
        "\n",
        "cfun.prediction(predDifficulty, 'ensemble_w2v_best_2')"
      ]
    },
    {
      "cell_type": "markdown",
      "metadata": {
        "id": "oxQVEtq724hK"
      },
      "source": [
        "Score of the submissions : \n",
        "\n",
        "\n",
        "*   Train on the split dfTrain (X_train) : 0.4825\n",
        "*   Train on the whole dfTrain : 0.50083"
      ]
    },
    {
      "cell_type": "markdown",
      "source": [
        "**Eureka !**\n",
        "\n",
        "We finally obten a score above 0.4999. As said in the analysis of the confusion matrix, we have another model that uses Word2Vec vectorization with Logistic Regression with hyperparameterse and has a similar level of accuracy. However, when predicting sentences for submission, this model has significantly lower accuracy, with a score of 0.464 compared to our score of 0.50. This suggests that the Logistic Regression model with Word2Vec had a significant issue with overfitting.\n",
        "\n",
        "So one of the solution in case of overfitting is to use an ensemble method. We start by testing the ensemble with the Tfidf vectorizer and show some interesting results. Then, we have try with the Word2Vec vectorizer and with a combination of different classifiers such as Decision Tree, Linear SVC and K-Nearest Neighbors. Additional, we tried to improve the predictions by removing stopwords, numbers, and punctuations, but this actually decreased the quality of the predictions.\n",
        "\n",
        "After testing a variety of classifiers with different parameters, we found this combination that had a score of 0.500083 when prediction the level of each sentence. This indicates that the model predicts correctly the level at the probability of 50%. And it seems that it partialy solve the overfitting issu. \n",
        "\n",
        "To conclude, we believe that the Ensemble model with Word2Vec can still be slightly improved with further fine-tuning. However, there are other, more effective models such as Bert or camemBert that are pretrained and could potentially achieve a higher prediction accuracy."
      ],
      "metadata": {
        "id": "MsIZhr6eZcO9"
      }
    },
    {
      "cell_type": "code",
      "source": [
        "X_test"
      ],
      "metadata": {
        "id": "MM44piB4d0at"
      },
      "execution_count": null,
      "outputs": []
    },
    {
      "cell_type": "markdown",
      "source": [
        "# 3. Discussion and conclusion"
      ],
      "metadata": {
        "id": "KiHOdPedfa_6"
      }
    },
    {
      "cell_type": "markdown",
      "source": [
        "|       | Example Ensemble (Tfidf) | Better Ensemble (Tfidf) |  Example Ensemble (W2V) | Better Ensemble (W2V) \n",
        "| :---       |   :----:   |  :----: |  :----:   |  :----: |\n",
        "| *Precision*| 0.4556 | 0.4192 | 0.3158 | 0.4228 |\n",
        "| *Recall*   | 0.4667 | 0.3594 | 0.3156 | 0.4135 |\n",
        "| *F1-score* | 0.4640 | 0.3501 | 0.3008 | 0.4000 |\n",
        "| *Accuracy* | 0.4667 | 0.3594 | 0.3156 | 0.4135 |\n",
        "| *Submission Score| **0.46583* | *0.34083* | *0.31833* | *0.39500*|"
      ],
      "metadata": {
        "id": "fmN9OzJOfh48"
      }
    },
    {
      "cell_type": "code",
      "source": [
        "# Use the intersection of the two indexes to select the rows you want to keep\n",
        "common_index = X_test.index.intersection(dfTrain.index)\n",
        "df1 = dfTrain.loc[common_index]\n",
        "df2 = X_test.loc[common_index]\n",
        "\n",
        "# Concatenate the two dataframes using the `concat` function\n",
        "result = pd.concat([df1, df2], axis=1)"
      ],
      "metadata": {
        "id": "FBaBy30uca5F"
      },
      "execution_count": null,
      "outputs": []
    },
    {
      "cell_type": "code",
      "source": [
        "result.drop()"
      ],
      "metadata": {
        "id": "YAz0W5XNleCH"
      },
      "execution_count": null,
      "outputs": []
    },
    {
      "cell_type": "code",
      "source": [
        "y_test"
      ],
      "metadata": {
        "id": "taVQ7AOsmCIu"
      },
      "execution_count": null,
      "outputs": []
    },
    {
      "cell_type": "code",
      "source": [
        "compare_df = cfun.pred_compare_df(result, y_test, y_pred)"
      ],
      "metadata": {
        "id": "jefwibUzlM_e"
      },
      "execution_count": null,
      "outputs": []
    }
  ],
  "metadata": {
    "accelerator": "GPU",
    "colab": {
      "provenance": []
    },
    "gpuClass": "standard",
    "kernelspec": {
      "display_name": "Python 3",
      "name": "python3"
    },
    "language_info": {
      "name": "python"
    }
  },
  "nbformat": 4,
  "nbformat_minor": 0
}