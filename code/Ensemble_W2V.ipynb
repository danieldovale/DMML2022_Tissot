{
  "cells": [
    {
      "cell_type": "markdown",
      "metadata": {
        "id": "iGszTUFX-Ggv"
      },
      "source": [
        "# Data Mining and Machine Learning - Team Tissot \n",
        "## Ensemble Voting Classifier \n",
        "*With TfifdVectorizer and With Word2Vec*\n",
        "\n",
        "\n",
        "***Detecting the difficulty level of French texts***\n"
      ]
    },
    {
      "cell_type": "markdown",
      "metadata": {
        "id": "Irntam5RYGM4"
      },
      "source": [
        "# Import the required packages and download the data"
      ]
    },
    {
      "cell_type": "markdown",
      "metadata": {
        "id": "y9MJCGtfAJN8"
      },
      "source": [
        "To get started, let's import the required packages"
      ]
    },
    {
      "cell_type": "code",
      "execution_count": null,
      "metadata": {
        "id": "YYA-L9joAGhl"
      },
      "outputs": [],
      "source": [
        "# Import required packages\n",
        "\n",
        "%matplotlib inline\n",
        "import numpy as np\n",
        "import matplotlib.pyplot as plt\n",
        "import pandas as pd \n",
        "import seaborn as sns\n",
        "import string\n",
        "sns.set_style(\"whitegrid\")\n",
        "\n",
        "# Import some additional packages\n",
        "from sklearn.model_selection import train_test_split\n",
        "from sklearn.metrics import confusion_matrix, accuracy_score, precision_score, recall_score, f1_score\n",
        "from sklearn.pipeline import Pipeline\n",
        "from sklearn.feature_extraction.text import CountVectorizer, TfidfVectorizer\n",
        "from tqdm import tqdm\n",
        "from google.colab import files"
      ]
    },
    {
      "cell_type": "code",
      "execution_count": null,
      "metadata": {
        "id": "rfJS4WofF9k1",
        "colab": {
          "base_uri": "https://localhost:8080/"
        },
        "outputId": "9020259f-a389-4269-bcfd-d8888c93ff7d"
      },
      "outputs": [
        {
          "output_type": "stream",
          "name": "stdout",
          "text": [
            "Looking in indexes: https://pypi.org/simple, https://us-python.pkg.dev/colab-wheels/public/simple/\n",
            "Requirement already satisfied: spacy in /usr/local/lib/python3.8/dist-packages (3.4.4)\n",
            "Requirement already satisfied: smart-open<7.0.0,>=5.2.1 in /usr/local/lib/python3.8/dist-packages (from spacy) (6.3.0)\n",
            "Requirement already satisfied: tqdm<5.0.0,>=4.38.0 in /usr/local/lib/python3.8/dist-packages (from spacy) (4.64.1)\n",
            "Requirement already satisfied: wasabi<1.1.0,>=0.9.1 in /usr/local/lib/python3.8/dist-packages (from spacy) (0.10.1)\n",
            "Requirement already satisfied: numpy>=1.15.0 in /usr/local/lib/python3.8/dist-packages (from spacy) (1.21.6)\n",
            "Requirement already satisfied: catalogue<2.1.0,>=2.0.6 in /usr/local/lib/python3.8/dist-packages (from spacy) (2.0.8)\n",
            "Requirement already satisfied: jinja2 in /usr/local/lib/python3.8/dist-packages (from spacy) (2.11.3)\n",
            "Requirement already satisfied: murmurhash<1.1.0,>=0.28.0 in /usr/local/lib/python3.8/dist-packages (from spacy) (1.0.9)\n",
            "Requirement already satisfied: pydantic!=1.8,!=1.8.1,<1.11.0,>=1.7.4 in /usr/local/lib/python3.8/dist-packages (from spacy) (1.10.2)\n",
            "Requirement already satisfied: setuptools in /usr/local/lib/python3.8/dist-packages (from spacy) (57.4.0)\n",
            "Requirement already satisfied: langcodes<4.0.0,>=3.2.0 in /usr/local/lib/python3.8/dist-packages (from spacy) (3.3.0)\n",
            "Requirement already satisfied: spacy-legacy<3.1.0,>=3.0.10 in /usr/local/lib/python3.8/dist-packages (from spacy) (3.0.10)\n",
            "Requirement already satisfied: spacy-loggers<2.0.0,>=1.0.0 in /usr/local/lib/python3.8/dist-packages (from spacy) (1.0.4)\n",
            "Requirement already satisfied: typer<0.8.0,>=0.3.0 in /usr/local/lib/python3.8/dist-packages (from spacy) (0.7.0)\n",
            "Requirement already satisfied: packaging>=20.0 in /usr/local/lib/python3.8/dist-packages (from spacy) (21.3)\n",
            "Requirement already satisfied: srsly<3.0.0,>=2.4.3 in /usr/local/lib/python3.8/dist-packages (from spacy) (2.4.5)\n",
            "Requirement already satisfied: cymem<2.1.0,>=2.0.2 in /usr/local/lib/python3.8/dist-packages (from spacy) (2.0.7)\n",
            "Requirement already satisfied: requests<3.0.0,>=2.13.0 in /usr/local/lib/python3.8/dist-packages (from spacy) (2.23.0)\n",
            "Requirement already satisfied: preshed<3.1.0,>=3.0.2 in /usr/local/lib/python3.8/dist-packages (from spacy) (3.0.8)\n",
            "Requirement already satisfied: thinc<8.2.0,>=8.1.0 in /usr/local/lib/python3.8/dist-packages (from spacy) (8.1.5)\n",
            "Requirement already satisfied: pathy>=0.3.5 in /usr/local/lib/python3.8/dist-packages (from spacy) (0.10.1)\n",
            "Requirement already satisfied: pyparsing!=3.0.5,>=2.0.2 in /usr/local/lib/python3.8/dist-packages (from packaging>=20.0->spacy) (3.0.9)\n",
            "Requirement already satisfied: typing-extensions>=4.1.0 in /usr/local/lib/python3.8/dist-packages (from pydantic!=1.8,!=1.8.1,<1.11.0,>=1.7.4->spacy) (4.4.0)\n",
            "Requirement already satisfied: urllib3!=1.25.0,!=1.25.1,<1.26,>=1.21.1 in /usr/local/lib/python3.8/dist-packages (from requests<3.0.0,>=2.13.0->spacy) (1.24.3)\n",
            "Requirement already satisfied: idna<3,>=2.5 in /usr/local/lib/python3.8/dist-packages (from requests<3.0.0,>=2.13.0->spacy) (2.10)\n",
            "Requirement already satisfied: certifi>=2017.4.17 in /usr/local/lib/python3.8/dist-packages (from requests<3.0.0,>=2.13.0->spacy) (2022.12.7)\n",
            "Requirement already satisfied: chardet<4,>=3.0.2 in /usr/local/lib/python3.8/dist-packages (from requests<3.0.0,>=2.13.0->spacy) (3.0.4)\n",
            "Requirement already satisfied: blis<0.8.0,>=0.7.8 in /usr/local/lib/python3.8/dist-packages (from thinc<8.2.0,>=8.1.0->spacy) (0.7.9)\n",
            "Requirement already satisfied: confection<1.0.0,>=0.0.1 in /usr/local/lib/python3.8/dist-packages (from thinc<8.2.0,>=8.1.0->spacy) (0.0.3)\n",
            "Requirement already satisfied: click<9.0.0,>=7.1.1 in /usr/local/lib/python3.8/dist-packages (from typer<0.8.0,>=0.3.0->spacy) (7.1.2)\n",
            "Requirement already satisfied: MarkupSafe>=0.23 in /usr/local/lib/python3.8/dist-packages (from jinja2->spacy) (2.0.1)\n",
            "\u001b[38;5;3m⚠ As of spaCy v3.0, shortcuts like 'fr' are deprecated. Please use the\n",
            "full pipeline package name 'fr_core_news_sm' instead.\u001b[0m\n",
            "Looking in indexes: https://pypi.org/simple, https://us-python.pkg.dev/colab-wheels/public/simple/\n",
            "Collecting fr-core-news-sm==3.4.0\n",
            "  Downloading https://github.com/explosion/spacy-models/releases/download/fr_core_news_sm-3.4.0/fr_core_news_sm-3.4.0-py3-none-any.whl (16.3 MB)\n",
            "\u001b[K     |████████████████████████████████| 16.3 MB 536 kB/s \n",
            "\u001b[?25hRequirement already satisfied: spacy<3.5.0,>=3.4.0 in /usr/local/lib/python3.8/dist-packages (from fr-core-news-sm==3.4.0) (3.4.4)\n",
            "Requirement already satisfied: pydantic!=1.8,!=1.8.1,<1.11.0,>=1.7.4 in /usr/local/lib/python3.8/dist-packages (from spacy<3.5.0,>=3.4.0->fr-core-news-sm==3.4.0) (1.10.2)\n",
            "Requirement already satisfied: jinja2 in /usr/local/lib/python3.8/dist-packages (from spacy<3.5.0,>=3.4.0->fr-core-news-sm==3.4.0) (2.11.3)\n",
            "Requirement already satisfied: numpy>=1.15.0 in /usr/local/lib/python3.8/dist-packages (from spacy<3.5.0,>=3.4.0->fr-core-news-sm==3.4.0) (1.21.6)\n",
            "Requirement already satisfied: cymem<2.1.0,>=2.0.2 in /usr/local/lib/python3.8/dist-packages (from spacy<3.5.0,>=3.4.0->fr-core-news-sm==3.4.0) (2.0.7)\n",
            "Requirement already satisfied: wasabi<1.1.0,>=0.9.1 in /usr/local/lib/python3.8/dist-packages (from spacy<3.5.0,>=3.4.0->fr-core-news-sm==3.4.0) (0.10.1)\n",
            "Requirement already satisfied: setuptools in /usr/local/lib/python3.8/dist-packages (from spacy<3.5.0,>=3.4.0->fr-core-news-sm==3.4.0) (57.4.0)\n",
            "Requirement already satisfied: pathy>=0.3.5 in /usr/local/lib/python3.8/dist-packages (from spacy<3.5.0,>=3.4.0->fr-core-news-sm==3.4.0) (0.10.1)\n",
            "Requirement already satisfied: spacy-legacy<3.1.0,>=3.0.10 in /usr/local/lib/python3.8/dist-packages (from spacy<3.5.0,>=3.4.0->fr-core-news-sm==3.4.0) (3.0.10)\n",
            "Requirement already satisfied: tqdm<5.0.0,>=4.38.0 in /usr/local/lib/python3.8/dist-packages (from spacy<3.5.0,>=3.4.0->fr-core-news-sm==3.4.0) (4.64.1)\n",
            "Requirement already satisfied: packaging>=20.0 in /usr/local/lib/python3.8/dist-packages (from spacy<3.5.0,>=3.4.0->fr-core-news-sm==3.4.0) (21.3)\n",
            "Requirement already satisfied: srsly<3.0.0,>=2.4.3 in /usr/local/lib/python3.8/dist-packages (from spacy<3.5.0,>=3.4.0->fr-core-news-sm==3.4.0) (2.4.5)\n",
            "Requirement already satisfied: langcodes<4.0.0,>=3.2.0 in /usr/local/lib/python3.8/dist-packages (from spacy<3.5.0,>=3.4.0->fr-core-news-sm==3.4.0) (3.3.0)\n",
            "Requirement already satisfied: typer<0.8.0,>=0.3.0 in /usr/local/lib/python3.8/dist-packages (from spacy<3.5.0,>=3.4.0->fr-core-news-sm==3.4.0) (0.7.0)\n",
            "Requirement already satisfied: spacy-loggers<2.0.0,>=1.0.0 in /usr/local/lib/python3.8/dist-packages (from spacy<3.5.0,>=3.4.0->fr-core-news-sm==3.4.0) (1.0.4)\n",
            "Requirement already satisfied: thinc<8.2.0,>=8.1.0 in /usr/local/lib/python3.8/dist-packages (from spacy<3.5.0,>=3.4.0->fr-core-news-sm==3.4.0) (8.1.5)\n",
            "Requirement already satisfied: requests<3.0.0,>=2.13.0 in /usr/local/lib/python3.8/dist-packages (from spacy<3.5.0,>=3.4.0->fr-core-news-sm==3.4.0) (2.23.0)\n",
            "Requirement already satisfied: murmurhash<1.1.0,>=0.28.0 in /usr/local/lib/python3.8/dist-packages (from spacy<3.5.0,>=3.4.0->fr-core-news-sm==3.4.0) (1.0.9)\n",
            "Requirement already satisfied: catalogue<2.1.0,>=2.0.6 in /usr/local/lib/python3.8/dist-packages (from spacy<3.5.0,>=3.4.0->fr-core-news-sm==3.4.0) (2.0.8)\n",
            "Requirement already satisfied: smart-open<7.0.0,>=5.2.1 in /usr/local/lib/python3.8/dist-packages (from spacy<3.5.0,>=3.4.0->fr-core-news-sm==3.4.0) (6.3.0)\n",
            "Requirement already satisfied: preshed<3.1.0,>=3.0.2 in /usr/local/lib/python3.8/dist-packages (from spacy<3.5.0,>=3.4.0->fr-core-news-sm==3.4.0) (3.0.8)\n",
            "Requirement already satisfied: pyparsing!=3.0.5,>=2.0.2 in /usr/local/lib/python3.8/dist-packages (from packaging>=20.0->spacy<3.5.0,>=3.4.0->fr-core-news-sm==3.4.0) (3.0.9)\n",
            "Requirement already satisfied: typing-extensions>=4.1.0 in /usr/local/lib/python3.8/dist-packages (from pydantic!=1.8,!=1.8.1,<1.11.0,>=1.7.4->spacy<3.5.0,>=3.4.0->fr-core-news-sm==3.4.0) (4.4.0)\n",
            "Requirement already satisfied: urllib3!=1.25.0,!=1.25.1,<1.26,>=1.21.1 in /usr/local/lib/python3.8/dist-packages (from requests<3.0.0,>=2.13.0->spacy<3.5.0,>=3.4.0->fr-core-news-sm==3.4.0) (1.24.3)\n",
            "Requirement already satisfied: certifi>=2017.4.17 in /usr/local/lib/python3.8/dist-packages (from requests<3.0.0,>=2.13.0->spacy<3.5.0,>=3.4.0->fr-core-news-sm==3.4.0) (2022.12.7)\n",
            "Requirement already satisfied: idna<3,>=2.5 in /usr/local/lib/python3.8/dist-packages (from requests<3.0.0,>=2.13.0->spacy<3.5.0,>=3.4.0->fr-core-news-sm==3.4.0) (2.10)\n",
            "Requirement already satisfied: chardet<4,>=3.0.2 in /usr/local/lib/python3.8/dist-packages (from requests<3.0.0,>=2.13.0->spacy<3.5.0,>=3.4.0->fr-core-news-sm==3.4.0) (3.0.4)\n",
            "Requirement already satisfied: blis<0.8.0,>=0.7.8 in /usr/local/lib/python3.8/dist-packages (from thinc<8.2.0,>=8.1.0->spacy<3.5.0,>=3.4.0->fr-core-news-sm==3.4.0) (0.7.9)\n",
            "Requirement already satisfied: confection<1.0.0,>=0.0.1 in /usr/local/lib/python3.8/dist-packages (from thinc<8.2.0,>=8.1.0->spacy<3.5.0,>=3.4.0->fr-core-news-sm==3.4.0) (0.0.3)\n",
            "Requirement already satisfied: click<9.0.0,>=7.1.1 in /usr/local/lib/python3.8/dist-packages (from typer<0.8.0,>=0.3.0->spacy<3.5.0,>=3.4.0->fr-core-news-sm==3.4.0) (7.1.2)\n",
            "Requirement already satisfied: MarkupSafe>=0.23 in /usr/local/lib/python3.8/dist-packages (from jinja2->spacy<3.5.0,>=3.4.0->fr-core-news-sm==3.4.0) (2.0.1)\n",
            "Installing collected packages: fr-core-news-sm\n",
            "Successfully installed fr-core-news-sm-3.4.0\n",
            "\u001b[38;5;2m✔ Download and installation successful\u001b[0m\n",
            "You can now load the package via spacy.load('fr_core_news_sm')\n",
            "Looking in indexes: https://pypi.org/simple, https://us-python.pkg.dev/colab-wheels/public/simple/\n",
            "Collecting mlrose\n",
            "  Downloading mlrose-1.3.0-py3-none-any.whl (27 kB)\n",
            "Collecting sklearn\n",
            "  Downloading sklearn-0.0.post1.tar.gz (3.6 kB)\n",
            "Requirement already satisfied: numpy in /usr/local/lib/python3.8/dist-packages (from mlrose) (1.21.6)\n",
            "Requirement already satisfied: scipy in /usr/local/lib/python3.8/dist-packages (from mlrose) (1.7.3)\n",
            "Building wheels for collected packages: sklearn\n",
            "  Building wheel for sklearn (setup.py) ... \u001b[?25l\u001b[?25hdone\n",
            "  Created wheel for sklearn: filename=sklearn-0.0.post1-py3-none-any.whl size=2344 sha256=110188cb9f87c0a085ca0a7222844c3cef2ba577d7509c0f2f11c9a5e3390728\n",
            "  Stored in directory: /root/.cache/pip/wheels/14/25/f7/1cc0956978ae479e75140219088deb7a36f60459df242b1a72\n",
            "Successfully built sklearn\n",
            "Installing collected packages: sklearn, mlrose\n",
            "Successfully installed mlrose-1.3.0 sklearn-0.0.post1\n"
          ]
        }
      ],
      "source": [
        "# Download and update spaCy\n",
        "!pip install -U spacy\n",
        "\n",
        "# Download and update the french language model\n",
        "!python -m spacy download fr\n",
        "\n",
        "# Download and update mlrose (for the ensemble model)\n",
        "!pip install mlrose"
      ]
    },
    {
      "cell_type": "code",
      "execution_count": null,
      "metadata": {
        "id": "tdU5uzpQGCwx"
      },
      "outputs": [],
      "source": [
        "# Import required packages\n",
        "import spacy\n",
        "from spacy import displacy\n",
        "\n",
        "# Load French language model\n",
        "sp = spacy.load(\"fr_core_news_sm\")"
      ]
    },
    {
      "cell_type": "code",
      "execution_count": null,
      "metadata": {
        "colab": {
          "base_uri": "https://localhost:8080/"
        },
        "id": "jXBqeW5kc9ud",
        "outputId": "56428aec-c963-49c5-d9b4-5808f1680823"
      },
      "outputs": [
        {
          "output_type": "stream",
          "name": "stderr",
          "text": [
            "[nltk_data] Downloading package stopwords to /root/nltk_data...\n",
            "[nltk_data]   Unzipping corpora/stopwords.zip.\n",
            "[nltk_data] Downloading package punkt to /root/nltk_data...\n",
            "[nltk_data]   Unzipping tokenizers/punkt.zip.\n",
            "[nltk_data] Downloading package wordnet to /root/nltk_data...\n",
            "[nltk_data] Downloading package omw-1.4 to /root/nltk_data...\n"
          ]
        }
      ],
      "source": [
        "from nltk.corpus import stopwords        ##This is used to plot the number of stopwords \n",
        "from nltk.tokenize import word_tokenize, sent_tokenize \n",
        "import nltk\n",
        "nltk.download('stopwords')\n",
        "nltk.download('punkt')\n",
        "nltk.download('wordnet')\n",
        "nltk.download('omw-1.4')\n",
        "\n",
        "import gensim\n",
        "import re"
      ]
    },
    {
      "cell_type": "code",
      "execution_count": null,
      "metadata": {
        "id": "xI4XY7D1IBW7"
      },
      "outputs": [],
      "source": [
        "import six\n",
        "import sys\n",
        "sys.modules['sklearn.externals.six'] = six\n",
        "import mlrose"
      ]
    },
    {
      "cell_type": "markdown",
      "metadata": {
        "id": "bfLh3L5wmf2W"
      },
      "source": [
        "Some functions"
      ]
    },
    {
      "cell_type": "code",
      "source": [
        "def evaluate2(true, pred):\n",
        "    precision = precision_score(true, pred, average = 'weighted')\n",
        "    recall = recall_score(true, pred, average = 'weighted')\n",
        "    f1 = f1_score(true, pred, average = 'weighted')\n",
        "    acc = accuracy_score(true, pred)\n",
        "    index = 'result'\n",
        "    d = {'accuracy': round(acc,4), 'precision': round(precision,4), 'recall': round(recall,4), 'f1 score': round(f1,4) }\n",
        "    df = pd.DataFrame(d,index=[\"results\"])\n",
        "    sns.heatmap(pd.DataFrame(confusion_matrix(true, pred)), annot=True, cmap='Oranges', fmt='.7g');\n",
        "    return df"
      ],
      "metadata": {
        "id": "RCjx_gi_W1vi"
      },
      "execution_count": null,
      "outputs": []
    },
    {
      "cell_type": "markdown",
      "metadata": {
        "id": "SL6ksdh9AI5I"
      },
      "source": [
        "Then, let's load the data and set \"id\" as the index column"
      ]
    },
    {
      "cell_type": "code",
      "execution_count": null,
      "metadata": {
        "id": "atnHlvh1AYVS"
      },
      "outputs": [],
      "source": [
        "# Training data:\n",
        "dfTrain = pd.read_csv(\"https://raw.githubusercontent.com/danieldovale/DMML2022_Tissot/main/data/training_data.csv\", index_col='id')\n",
        "\n",
        "# Unlabeled test data:\n",
        "dfTest = pd.read_csv(\"https://raw.githubusercontent.com/danieldovale/DMML2022_Tissot/main/data/unlabelled_test_data.csv\", index_col='id')"
      ]
    },
    {
      "cell_type": "markdown",
      "metadata": {
        "id": "CaF8OKeHBD2I"
      },
      "source": [
        "Let's have a look on what it looks like:"
      ]
    },
    {
      "cell_type": "code",
      "execution_count": null,
      "metadata": {
        "id": "8PoKBaVLkDgz"
      },
      "outputs": [],
      "source": [
        "X = dfTrain[\"sentence\"]\n",
        "y = dfTrain[\"difficulty\"]\n",
        "\n",
        "# Train test split\n",
        "X_train, X_test, y_train, y_test = train_test_split(X, y, test_size=0.2, random_state=0, stratify=y)"
      ]
    },
    {
      "cell_type": "markdown",
      "metadata": {
        "id": "OLe42jR0LmgO"
      },
      "source": [
        "## 1. Ensemble models with TfidfVector"
      ]
    },
    {
      "cell_type": "markdown",
      "metadata": {
        "id": "sP28gqyoFrrk"
      },
      "source": [
        "### An example of an ensemble model with the TfidfVecotizer. "
      ]
    },
    {
      "cell_type": "markdown",
      "metadata": {
        "id": "P0ijcqjPGFH3"
      },
      "source": [
        "> The token for the TfidfVector \n",
        ">\n",
        ">*To clean the data we only lowercase all the words*"
      ]
    },
    {
      "cell_type": "code",
      "execution_count": null,
      "metadata": {
        "id": "Ki1iQpGHPF-A"
      },
      "outputs": [],
      "source": [
        "def spacy_tokenizer(sentence):\n",
        "    # Create token object, which is used to create documents with linguistic annotations\n",
        "    mytokens = sp(sentence)\n",
        "    # Lemmatize each token and convert each token into lowercase\n",
        "    mytokens = [ word.lower_.strip() for word in mytokens] \n",
        "    # Return preprocessed list of tokens\n",
        "    return mytokens"
      ]
    },
    {
      "cell_type": "code",
      "execution_count": null,
      "metadata": {
        "id": "l-DCthU7POnv"
      },
      "outputs": [],
      "source": [
        "tfidf_vector = TfidfVectorizer(tokenizer=spacy_tokenizer, ngram_range=(1,2)) "
      ]
    },
    {
      "cell_type": "markdown",
      "metadata": {
        "id": "2FKmTWECGNkB"
      },
      "source": [
        "> The 3 classifiers that will be use in the ensemble model :\n",
        ">\n",
        "> 1.   Logistic Regression (logclf)\n",
        "2.   Decision Tree Classifier (dtclf)\n",
        "3.   K-Nearest Neighbors (knnclf)\n"
      ]
    },
    {
      "cell_type": "code",
      "execution_count": null,
      "metadata": {
        "id": "HkN7riErMbTG"
      },
      "outputs": [],
      "source": [
        "# Import some the packages of all the models that we will use here\n",
        "from sklearn.linear_model import LogisticRegression\n",
        "from sklearn.tree import DecisionTreeClassifier\n",
        "from sklearn.neighbors import KNeighborsClassifier\n",
        "from mlxtend.classifier import EnsembleVoteClassifier"
      ]
    },
    {
      "cell_type": "code",
      "execution_count": null,
      "metadata": {
        "id": "ostP5fkRMBM0"
      },
      "outputs": [],
      "source": [
        "# Set up the classifiers with some parameters\n",
        "logclf = LogisticRegression(C=10, max_iter=20000, random_state=0)\n",
        "dtclf = DecisionTreeClassifier(criterion='entropy', max_depth=3, random_state=0)\n",
        "knnclf = KNeighborsClassifier()"
      ]
    },
    {
      "cell_type": "markdown",
      "metadata": {
        "id": "KRRkmQL2VAST"
      },
      "source": [
        "> The EnsembleVoteClassifier with the 3 classifiers \n",
        " \n",
        "The parameters :\n",
        "* clf = list of classifiers (logclf, dtclf, knnclf)\n",
        "* weights = [2, 1.5, 1] (2 for the logclf, 1.5 for the dtclf, 1 for the knnclf)\n",
        "\n",
        "*The others parameters set with the defaults values (like voting='hard', it predicts the class labels (A1,...C2) with the majority rule voting).*"
      ]
    },
    {
      "cell_type": "code",
      "execution_count": null,
      "metadata": {
        "id": "jVfYO7LULrTO"
      },
      "outputs": [],
      "source": [
        "clf_ens = EnsembleVoteClassifier(clfs=[logclf, dtclf, knnclf], weights=[2, 1.5, 1])"
      ]
    },
    {
      "cell_type": "code",
      "execution_count": null,
      "metadata": {
        "id": "vkeoxdJ1Un1X",
        "colab": {
          "base_uri": "https://localhost:8080/"
        },
        "outputId": "a04f89c0-0d1d-472b-c56e-83b9cc97c6b2"
      },
      "outputs": [
        {
          "output_type": "execute_result",
          "data": {
            "text/plain": [
              "Pipeline(steps=[('vectorizer',\n",
              "                 TfidfVectorizer(ngram_range=(1, 2),\n",
              "                                 tokenizer=<function spacy_tokenizer at 0x7f65bcc623a0>)),\n",
              "                ('classifier',\n",
              "                 EnsembleVoteClassifier(clfs=[LogisticRegression(C=10,\n",
              "                                                                 max_iter=20000,\n",
              "                                                                 random_state=0),\n",
              "                                              DecisionTreeClassifier(criterion='entropy',\n",
              "                                                                     max_depth=3,\n",
              "                                                                     random_state=0),\n",
              "                                              KNeighborsClassifier()],\n",
              "                                        weights=[2, 1.5, 1]))])"
            ]
          },
          "metadata": {},
          "execution_count": 15
        }
      ],
      "source": [
        "# Vectorizer and train the dataset (X_train)\n",
        "pipe = Pipeline([('vectorizer', tfidf_vector),\n",
        "                 ('classifier', clf_ens)])\n",
        "\n",
        "pipe.fit(X_train, y_train)"
      ]
    },
    {
      "cell_type": "markdown",
      "metadata": {
        "id": "lgSHVVu3f8g8"
      },
      "source": [
        "> Evaluate the fitted model"
      ]
    },
    {
      "cell_type": "code",
      "execution_count": null,
      "metadata": {
        "id": "XIbem61PSzbL"
      },
      "outputs": [],
      "source": [
        "# Predict the y of the X_test dataset\n",
        "y_pred = pipe.predict(X_test)"
      ]
    },
    {
      "cell_type": "code",
      "source": [
        "evaluate2(y_test, y_pred)"
      ],
      "metadata": {
        "colab": {
          "base_uri": "https://localhost:8080/",
          "height": 329
        },
        "id": "geSQa3vaXUZ2",
        "outputId": "ee3eabd2-3eed-43dc-945e-8241e5edcb36"
      },
      "execution_count": null,
      "outputs": [
        {
          "output_type": "execute_result",
          "data": {
            "text/plain": [
              "         accuracy  precision  recall  f1 score\n",
              "results      0.45     0.4625    0.45    0.4357"
            ],
            "text/html": [
              "\n",
              "  <div id=\"df-855e7ad8-15d4-49fc-8ff1-e0680f1e86ee\">\n",
              "    <div class=\"colab-df-container\">\n",
              "      <div>\n",
              "<style scoped>\n",
              "    .dataframe tbody tr th:only-of-type {\n",
              "        vertical-align: middle;\n",
              "    }\n",
              "\n",
              "    .dataframe tbody tr th {\n",
              "        vertical-align: top;\n",
              "    }\n",
              "\n",
              "    .dataframe thead th {\n",
              "        text-align: right;\n",
              "    }\n",
              "</style>\n",
              "<table border=\"1\" class=\"dataframe\">\n",
              "  <thead>\n",
              "    <tr style=\"text-align: right;\">\n",
              "      <th></th>\n",
              "      <th>accuracy</th>\n",
              "      <th>precision</th>\n",
              "      <th>recall</th>\n",
              "      <th>f1 score</th>\n",
              "    </tr>\n",
              "  </thead>\n",
              "  <tbody>\n",
              "    <tr>\n",
              "      <th>results</th>\n",
              "      <td>0.45</td>\n",
              "      <td>0.4625</td>\n",
              "      <td>0.45</td>\n",
              "      <td>0.4357</td>\n",
              "    </tr>\n",
              "  </tbody>\n",
              "</table>\n",
              "</div>\n",
              "      <button class=\"colab-df-convert\" onclick=\"convertToInteractive('df-855e7ad8-15d4-49fc-8ff1-e0680f1e86ee')\"\n",
              "              title=\"Convert this dataframe to an interactive table.\"\n",
              "              style=\"display:none;\">\n",
              "        \n",
              "  <svg xmlns=\"http://www.w3.org/2000/svg\" height=\"24px\"viewBox=\"0 0 24 24\"\n",
              "       width=\"24px\">\n",
              "    <path d=\"M0 0h24v24H0V0z\" fill=\"none\"/>\n",
              "    <path d=\"M18.56 5.44l.94 2.06.94-2.06 2.06-.94-2.06-.94-.94-2.06-.94 2.06-2.06.94zm-11 1L8.5 8.5l.94-2.06 2.06-.94-2.06-.94L8.5 2.5l-.94 2.06-2.06.94zm10 10l.94 2.06.94-2.06 2.06-.94-2.06-.94-.94-2.06-.94 2.06-2.06.94z\"/><path d=\"M17.41 7.96l-1.37-1.37c-.4-.4-.92-.59-1.43-.59-.52 0-1.04.2-1.43.59L10.3 9.45l-7.72 7.72c-.78.78-.78 2.05 0 2.83L4 21.41c.39.39.9.59 1.41.59.51 0 1.02-.2 1.41-.59l7.78-7.78 2.81-2.81c.8-.78.8-2.07 0-2.86zM5.41 20L4 18.59l7.72-7.72 1.47 1.35L5.41 20z\"/>\n",
              "  </svg>\n",
              "      </button>\n",
              "      \n",
              "  <style>\n",
              "    .colab-df-container {\n",
              "      display:flex;\n",
              "      flex-wrap:wrap;\n",
              "      gap: 12px;\n",
              "    }\n",
              "\n",
              "    .colab-df-convert {\n",
              "      background-color: #E8F0FE;\n",
              "      border: none;\n",
              "      border-radius: 50%;\n",
              "      cursor: pointer;\n",
              "      display: none;\n",
              "      fill: #1967D2;\n",
              "      height: 32px;\n",
              "      padding: 0 0 0 0;\n",
              "      width: 32px;\n",
              "    }\n",
              "\n",
              "    .colab-df-convert:hover {\n",
              "      background-color: #E2EBFA;\n",
              "      box-shadow: 0px 1px 2px rgba(60, 64, 67, 0.3), 0px 1px 3px 1px rgba(60, 64, 67, 0.15);\n",
              "      fill: #174EA6;\n",
              "    }\n",
              "\n",
              "    [theme=dark] .colab-df-convert {\n",
              "      background-color: #3B4455;\n",
              "      fill: #D2E3FC;\n",
              "    }\n",
              "\n",
              "    [theme=dark] .colab-df-convert:hover {\n",
              "      background-color: #434B5C;\n",
              "      box-shadow: 0px 1px 3px 1px rgba(0, 0, 0, 0.15);\n",
              "      filter: drop-shadow(0px 1px 2px rgba(0, 0, 0, 0.3));\n",
              "      fill: #FFFFFF;\n",
              "    }\n",
              "  </style>\n",
              "\n",
              "      <script>\n",
              "        const buttonEl =\n",
              "          document.querySelector('#df-855e7ad8-15d4-49fc-8ff1-e0680f1e86ee button.colab-df-convert');\n",
              "        buttonEl.style.display =\n",
              "          google.colab.kernel.accessAllowed ? 'block' : 'none';\n",
              "\n",
              "        async function convertToInteractive(key) {\n",
              "          const element = document.querySelector('#df-855e7ad8-15d4-49fc-8ff1-e0680f1e86ee');\n",
              "          const dataTable =\n",
              "            await google.colab.kernel.invokeFunction('convertToInteractive',\n",
              "                                                     [key], {});\n",
              "          if (!dataTable) return;\n",
              "\n",
              "          const docLinkHtml = 'Like what you see? Visit the ' +\n",
              "            '<a target=\"_blank\" href=https://colab.research.google.com/notebooks/data_table.ipynb>data table notebook</a>'\n",
              "            + ' to learn more about interactive tables.';\n",
              "          element.innerHTML = '';\n",
              "          dataTable['output_type'] = 'display_data';\n",
              "          await google.colab.output.renderOutput(dataTable, element);\n",
              "          const docLink = document.createElement('div');\n",
              "          docLink.innerHTML = docLinkHtml;\n",
              "          element.appendChild(docLink);\n",
              "        }\n",
              "      </script>\n",
              "    </div>\n",
              "  </div>\n",
              "  "
            ]
          },
          "metadata": {},
          "execution_count": 17
        },
        {
          "output_type": "display_data",
          "data": {
            "text/plain": [
              "<Figure size 432x288 with 2 Axes>"
            ],
            "image/png": "[encoded data removed]"
          },
          "metadata": {}
        }
      ]
    },
    {
      "cell_type": "markdown",
      "source": [
        "> commmenter les résultats"
      ],
      "metadata": {
        "id": "0f4feU-UE1xk"
      }
    },
    {
      "cell_type": "markdown",
      "source": [
        "> Submit the model to see the final score."
      ],
      "metadata": {
        "id": "q3HijzTFVKVM"
      }
    },
    {
      "cell_type": "code",
      "source": [
        "predDifficulty = pipe.predict(dfTest['sentence'])\n",
        "LogPred_DF = pd.DataFrame(data = predDifficulty)\n",
        "LogPred_DF.index.names = ['id']\n",
        "LogPred_DF.rename(columns = {0:'difficulty'}, inplace = True)\n",
        "LogPred_DF.to_csv('Ensemble_tfidf_example')"
      ],
      "metadata": {
        "id": "4yUsbCWVVUI9"
      },
      "execution_count": null,
      "outputs": []
    },
    {
      "cell_type": "markdown",
      "source": [
        "The score is 0.XXXX ."
      ],
      "metadata": {
        "id": "BvfhDY2BcpOO"
      }
    },
    {
      "cell_type": "markdown",
      "metadata": {
        "id": "ao2dO8lyjxrG"
      },
      "source": [
        "### The best model found with the TfidfVectorizer"
      ]
    },
    {
      "cell_type": "markdown",
      "metadata": {
        "id": "eNp2IE10k0Tv"
      },
      "source": [
        "We use the same tokenizer that will lowercase all the word.  "
      ]
    },
    {
      "cell_type": "code",
      "source": [
        "def spacy_tokenizer(sentence):\n",
        "    # Create token object, which is used to create documents with linguistic annotations.\n",
        "    mytokens = sp(sentence)\n",
        "    # Lemmatize each token and convert each token into lowercase\n",
        "    mytokens = [ word.lower_.strip() for word in mytokens ] \n",
        "    # Return preprocessed list of tokens\n",
        "    return mytokens"
      ],
      "metadata": {
        "id": "Vwhd3qa6e4Tf"
      },
      "execution_count": null,
      "outputs": []
    },
    {
      "cell_type": "code",
      "execution_count": null,
      "metadata": {
        "id": "Oyf-MMEhkAnE"
      },
      "outputs": [],
      "source": [
        "tfidf_vector = TfidfVectorizer(tokenizer=spacy_tokenizer, ngram_range=(1,2)) "
      ]
    },
    {
      "cell_type": "markdown",
      "metadata": {
        "id": "vadP6kaEkyfZ"
      },
      "source": [
        "> The 3 classifiers that will be use in the ensemble model :\n",
        ">\n",
        "> 1.   Logistic Regression (logclf)\n",
        "2.   Multi-layer Perceptron classifier (mlpclf)\n",
        "3.   Decision Tree Classifier (dtclf)"
      ]
    },
    {
      "cell_type": "code",
      "execution_count": null,
      "metadata": {
        "id": "OJ7rACObkIOr"
      },
      "outputs": [],
      "source": [
        "# Import some the packages of all the models that we will use here\n",
        "from sklearn.ensemble import RandomForestClassifier\n",
        "from sklearn.neural_network import MLPClassifier"
      ]
    },
    {
      "cell_type": "code",
      "execution_count": null,
      "metadata": {
        "id": "U4Vm0X58lk3J"
      },
      "outputs": [],
      "source": [
        "logclf = LogisticRegression(max_iter=5000, random_state=0)\n",
        "mlpclf = MLPClassifier(max_iter=1000, random_state=0)\n",
        "rfclf = RandomForestClassifier(n_estimators=350, random_state=0)"
      ]
    },
    {
      "cell_type": "markdown",
      "metadata": {
        "id": "NHpyqAb8kIx2"
      },
      "source": [
        "> The EnsembleVoteClassifier with the 3 classifiers \n",
        " \n",
        "The parameters :\n",
        "* clf = list of classifiers (logclf, mlpclf, rfclf)\n",
        "* weights = [1.5, 1.5, 1] (1.5 for the Logistic Regression, 2 for the MLP and 1.5 for the Random Forest) \n",
        "\n",
        "*The others parameters set with the defaults values.*"
      ]
    },
    {
      "cell_type": "code",
      "execution_count": null,
      "metadata": {
        "id": "9OqoGXW6ltXk"
      },
      "outputs": [],
      "source": [
        "clf_ens = EnsembleVoteClassifier(clfs=[logclf, mlpclf, rfclf], weights=[1.5, 2, 1.5])"
      ]
    },
    {
      "cell_type": "code",
      "execution_count": null,
      "metadata": {
        "colab": {
          "base_uri": "https://localhost:8080/"
        },
        "id": "iLoqhuELmKfX",
        "outputId": "9178e9ac-722d-43c9-8c79-0cd686b4730b"
      },
      "outputs": [
        {
          "output_type": "execute_result",
          "data": {
            "text/plain": [
              "Pipeline(steps=[('vectorizer',\n",
              "                 TfidfVectorizer(ngram_range=(1, 2),\n",
              "                                 tokenizer=<function spacy_tokenizer at 0x7f65bb9b48b0>)),\n",
              "                ('classifier',\n",
              "                 EnsembleVoteClassifier(clfs=[LogisticRegression(max_iter=5000,\n",
              "                                                                 random_state=0),\n",
              "                                              MLPClassifier(max_iter=1000,\n",
              "                                                            random_state=0),\n",
              "                                              RandomForestClassifier(n_estimators=350,\n",
              "                                                                     random_state=0)],\n",
              "                                        weights=[1.5, 2, 1.5]))])"
            ]
          },
          "metadata": {},
          "execution_count": 24
        }
      ],
      "source": [
        "# Vectorizer and train the dataset (X_train)\n",
        "pipe = Pipeline([('vectorizer', tfidf_vector),\n",
        "                 ('classifier', clf_ens)])\n",
        "\n",
        "pipe.fit(X_train, y_train)"
      ]
    },
    {
      "cell_type": "markdown",
      "metadata": {
        "id": "N6XoCQ05mRat"
      },
      "source": [
        "> Evaluate the fitted model"
      ]
    },
    {
      "cell_type": "code",
      "source": [
        "# Predict the y of the X_test dataset\n",
        "y_pred = pipe.predict(X_test)"
      ],
      "metadata": {
        "id": "x3NBG0iZb_mH"
      },
      "execution_count": null,
      "outputs": []
    },
    {
      "cell_type": "code",
      "source": [
        "evaluate2(y_test, y_pred)"
      ],
      "metadata": {
        "colab": {
          "base_uri": "https://localhost:8080/",
          "height": 332
        },
        "id": "9SQP6tqeb6Bd",
        "outputId": "8d531fe6-7aae-4000-bcaa-b92c0ef0455c"
      },
      "execution_count": null,
      "outputs": [
        {
          "output_type": "execute_result",
          "data": {
            "text/plain": [
              "         accuracy  precision  recall  f1 score\n",
              "results    0.4812     0.4809  0.4812    0.4736"
            ],
            "text/html": [
              "\n",
              "  <div id=\"df-2fd531d0-6e33-4461-9b75-cd40775e7c2e\">\n",
              "    <div class=\"colab-df-container\">\n",
              "      <div>\n",
              "<style scoped>\n",
              "    .dataframe tbody tr th:only-of-type {\n",
              "        vertical-align: middle;\n",
              "    }\n",
              "\n",
              "    .dataframe tbody tr th {\n",
              "        vertical-align: top;\n",
              "    }\n",
              "\n",
              "    .dataframe thead th {\n",
              "        text-align: right;\n",
              "    }\n",
              "</style>\n",
              "<table border=\"1\" class=\"dataframe\">\n",
              "  <thead>\n",
              "    <tr style=\"text-align: right;\">\n",
              "      <th></th>\n",
              "      <th>accuracy</th>\n",
              "      <th>precision</th>\n",
              "      <th>recall</th>\n",
              "      <th>f1 score</th>\n",
              "    </tr>\n",
              "  </thead>\n",
              "  <tbody>\n",
              "    <tr>\n",
              "      <th>results</th>\n",
              "      <td>0.4812</td>\n",
              "      <td>0.4809</td>\n",
              "      <td>0.4812</td>\n",
              "      <td>0.4736</td>\n",
              "    </tr>\n",
              "  </tbody>\n",
              "</table>\n",
              "</div>\n",
              "      <button class=\"colab-df-convert\" onclick=\"convertToInteractive('df-2fd531d0-6e33-4461-9b75-cd40775e7c2e')\"\n",
              "              title=\"Convert this dataframe to an interactive table.\"\n",
              "              style=\"display:none;\">\n",
              "        \n",
              "  <svg xmlns=\"http://www.w3.org/2000/svg\" height=\"24px\"viewBox=\"0 0 24 24\"\n",
              "       width=\"24px\">\n",
              "    <path d=\"M0 0h24v24H0V0z\" fill=\"none\"/>\n",
              "    <path d=\"M18.56 5.44l.94 2.06.94-2.06 2.06-.94-2.06-.94-.94-2.06-.94 2.06-2.06.94zm-11 1L8.5 8.5l.94-2.06 2.06-.94-2.06-.94L8.5 2.5l-.94 2.06-2.06.94zm10 10l.94 2.06.94-2.06 2.06-.94-2.06-.94-.94-2.06-.94 2.06-2.06.94z\"/><path d=\"M17.41 7.96l-1.37-1.37c-.4-.4-.92-.59-1.43-.59-.52 0-1.04.2-1.43.59L10.3 9.45l-7.72 7.72c-.78.78-.78 2.05 0 2.83L4 21.41c.39.39.9.59 1.41.59.51 0 1.02-.2 1.41-.59l7.78-7.78 2.81-2.81c.8-.78.8-2.07 0-2.86zM5.41 20L4 18.59l7.72-7.72 1.47 1.35L5.41 20z\"/>\n",
              "  </svg>\n",
              "      </button>\n",
              "      \n",
              "  <style>\n",
              "    .colab-df-container {\n",
              "      display:flex;\n",
              "      flex-wrap:wrap;\n",
              "      gap: 12px;\n",
              "    }\n",
              "\n",
              "    .colab-df-convert {\n",
              "      background-color: #E8F0FE;\n",
              "      border: none;\n",
              "      border-radius: 50%;\n",
              "      cursor: pointer;\n",
              "      display: none;\n",
              "      fill: #1967D2;\n",
              "      height: 32px;\n",
              "      padding: 0 0 0 0;\n",
              "      width: 32px;\n",
              "    }\n",
              "\n",
              "    .colab-df-convert:hover {\n",
              "      background-color: #E2EBFA;\n",
              "      box-shadow: 0px 1px 2px rgba(60, 64, 67, 0.3), 0px 1px 3px 1px rgba(60, 64, 67, 0.15);\n",
              "      fill: #174EA6;\n",
              "    }\n",
              "\n",
              "    [theme=dark] .colab-df-convert {\n",
              "      background-color: #3B4455;\n",
              "      fill: #D2E3FC;\n",
              "    }\n",
              "\n",
              "    [theme=dark] .colab-df-convert:hover {\n",
              "      background-color: #434B5C;\n",
              "      box-shadow: 0px 1px 3px 1px rgba(0, 0, 0, 0.15);\n",
              "      filter: drop-shadow(0px 1px 2px rgba(0, 0, 0, 0.3));\n",
              "      fill: #FFFFFF;\n",
              "    }\n",
              "  </style>\n",
              "\n",
              "      <script>\n",
              "        const buttonEl =\n",
              "          document.querySelector('#df-2fd531d0-6e33-4461-9b75-cd40775e7c2e button.colab-df-convert');\n",
              "        buttonEl.style.display =\n",
              "          google.colab.kernel.accessAllowed ? 'block' : 'none';\n",
              "\n",
              "        async function convertToInteractive(key) {\n",
              "          const element = document.querySelector('#df-2fd531d0-6e33-4461-9b75-cd40775e7c2e');\n",
              "          const dataTable =\n",
              "            await google.colab.kernel.invokeFunction('convertToInteractive',\n",
              "                                                     [key], {});\n",
              "          if (!dataTable) return;\n",
              "\n",
              "          const docLinkHtml = 'Like what you see? Visit the ' +\n",
              "            '<a target=\"_blank\" href=https://colab.research.google.com/notebooks/data_table.ipynb>data table notebook</a>'\n",
              "            + ' to learn more about interactive tables.';\n",
              "          element.innerHTML = '';\n",
              "          dataTable['output_type'] = 'display_data';\n",
              "          await google.colab.output.renderOutput(dataTable, element);\n",
              "          const docLink = document.createElement('div');\n",
              "          docLink.innerHTML = docLinkHtml;\n",
              "          element.appendChild(docLink);\n",
              "        }\n",
              "      </script>\n",
              "    </div>\n",
              "  </div>\n",
              "  "
            ]
          },
          "metadata": {},
          "execution_count": 26
        },
        {
          "output_type": "display_data",
          "data": {
            "text/plain": [
              "<Figure size 432x288 with 2 Axes>"
            ],
            "image/png": "[encoded data removed]"
          },
          "metadata": {}
        }
      ]
    },
    {
      "cell_type": "markdown",
      "source": [
        "> commmenter les résultats"
      ],
      "metadata": {
        "id": "0uV4yF6aFTBE"
      }
    },
    {
      "cell_type": "markdown",
      "source": [
        "> Submit the model to see the final score."
      ],
      "metadata": {
        "id": "fk4PeY7ocIww"
      }
    },
    {
      "cell_type": "code",
      "source": [
        "predDifficulty = pipe.predict(dfTest['sentence'])\n",
        "EnsPred_DF = pd.DataFrame(data = predDifficulty)\n",
        "EnsPred_DF.index.names = ['id']\n",
        "EnsPred_DF.rename(columns = {0:'difficulty'}, inplace = True)\n",
        "EnsPred_DF.to_csv('Ensemble_tfidf')"
      ],
      "metadata": {
        "id": "o6JZ9rNlcJp3"
      },
      "execution_count": null,
      "outputs": []
    },
    {
      "cell_type": "markdown",
      "source": [
        "The score is 0.XXXX ."
      ],
      "metadata": {
        "id": "N8VzQlswcfw1"
      }
    },
    {
      "cell_type": "markdown",
      "metadata": {
        "id": "tSRZJoYELGQ4"
      },
      "source": [
        "# 2. Ensemble models with Word2Vec"
      ]
    },
    {
      "cell_type": "markdown",
      "source": [
        "## Set up the base for the model"
      ],
      "metadata": {
        "id": "k3DLK1apUB1B"
      }
    },
    {
      "cell_type": "markdown",
      "source": [
        "### Cleaning and tokenizing the sentences"
      ],
      "metadata": {
        "id": "47jyDv5577Z8"
      }
    },
    {
      "cell_type": "markdown",
      "source": [
        "> Cleaning the sentences by removing the stop words and the punctuation, and also lowercase all the words."
      ],
      "metadata": {
        "id": "p3Om5NP2d0jK"
      }
    },
    {
      "cell_type": "code",
      "execution_count": null,
      "metadata": {
        "id": "mB_VlgydLqQw"
      },
      "outputs": [],
      "source": [
        "# Set the list of stop words and punctuation\n",
        "stop_words = spacy.lang.fr.stop_words.STOP_WORDS\n",
        "punctuations = string.punctuation"
      ]
    },
    {
      "cell_type": "code",
      "execution_count": null,
      "metadata": {
        "id": "sIpogP9qLs9w"
      },
      "outputs": [],
      "source": [
        "def get_info(df):\n",
        " \n",
        "    text_length = []                          \n",
        "    number_of_sentences = []\n",
        "    number_of_words = []\n",
        "    sent_length_avg = []\n",
        "    words_length_avg = []\n",
        "    number_of_words_after_lemma_stop = []\n",
        "    longest_word_size = []\n",
        "    \n",
        "    for text in tqdm(df['sentence'].values):\n",
        "        \n",
        "      initial_length = len(text)\n",
        "      text_length.append(initial_length)\n",
        "      # Print(\"sentence_length: %s\" % text_length)\n",
        "\n",
        "      num_sentences = len(sent_tokenize(text))\n",
        "      number_of_sentences.append(num_sentences)\n",
        "      # Print(\"number_of_sentences: %s\" % number_of_sentences)\n",
        "\n",
        "      text2 = text.lower()\n",
        "      text2 = word_tokenize(text2)\n",
        "      text2 = [word for word in text2 if word not in punctuations]\n",
        "      # Print(text2)\n",
        "      num_words = len(text2)\n",
        "      number_of_words.append(num_words)\n",
        "      # Print(\"number_of_words %s\" %number_of_words)\n",
        "\n",
        "      sent_length_avg.append(num_words/num_sentences)\n",
        "      # Print(\"sent_length_avg: %s\" %sent_length_avg)\n",
        "\n",
        "      words_length_avg.append(initial_length/num_words)\n",
        "      # Print(\"words_length_avg: %s\" %words_length_avg)\n",
        "\n",
        "      text = sp(text)\n",
        "      text = [word.lemma_.lower().strip() if word.lemma_ != \"-PRON-\" else word.lower_ for word in text]\n",
        "      text = [word for word in text if not word in spacy.lang.fr.stop_words.STOP_WORDS and word not in punctuations]\n",
        "      # Print(\"lemmas +  stopwords: %s\" %text)\n",
        "\n",
        "      num_words_after_lemma_stop = len(text)\n",
        "      number_of_words_after_lemma_stop.append(num_words_after_lemma_stop)\n",
        "      # Print(\"number_of_words_after_lemma_stop: %s\" % number_of_words_after_lemma_stop)\n",
        "\n",
        "      word_len = [len(w) for w in text2]\n",
        "      longest_word_size.append(np.max(word_len))\n",
        "      # Print(\"longest_word_size: %s\" % longest_word_size)\n",
        "        \n",
        "    final_df = pd.concat([pd.Series(text_length), pd.Series(number_of_sentences),\n",
        "                             pd.Series(number_of_words), pd.Series(sent_length_avg),\n",
        "                             pd.Series(words_length_avg), pd.Series(number_of_words_after_lemma_stop),\n",
        "                             pd.Series(longest_word_size)], axis = 1)\n",
        "    final_df.columns = [\"text_length\", \"number_of_sentences\", \"number_of_words\",\n",
        "                           \"sent_length_avg\", \"words_length_avg\",\n",
        "                           \"number_of_words_after_lemma_stop\", \"longest_word_size\"]\n",
        "    \n",
        "    return final_df"
      ]
    },
    {
      "cell_type": "code",
      "execution_count": null,
      "metadata": {
        "colab": {
          "base_uri": "https://localhost:8080/"
        },
        "id": "RKBy_HcQLs3e",
        "outputId": "89f4501c-ca25-4653-d23a-9fcfe74b90f6"
      },
      "outputs": [
        {
          "output_type": "stream",
          "name": "stderr",
          "text": [
            "100%|██████████| 4800/4800 [00:36<00:00, 132.50it/s]\n"
          ]
        }
      ],
      "source": [
        "# Get all the information about the dataset dfTrain.\n",
        "dfTrainInfo = get_info(dfTrain)"
      ]
    },
    {
      "cell_type": "markdown",
      "source": [
        "> The token to tonekize the sentences\n",
        ">\n",
        ">*To clean the data we lowercase and lemmatize all the words*"
      ],
      "metadata": {
        "id": "xpAN7KhyIHgv"
      }
    },
    {
      "cell_type": "code",
      "execution_count": null,
      "metadata": {
        "id": "BPjGX4VaSztq"
      },
      "outputs": [],
      "source": [
        "def spacy_tokenizer(sentence):\n",
        "    # Create token object, which is used to create documents with linguistic annotations.\n",
        "    mytokens = sp(sentence)\n",
        "\n",
        "    # Lemmatize each token and convert each token into lowercase\n",
        "    mytokens = [ word.lemma_.lower().strip() for word in mytokens ] \n",
        "    \n",
        "    # Return preprocessed list of tokens\n",
        "    return mytokens"
      ]
    },
    {
      "cell_type": "code",
      "execution_count": null,
      "metadata": {
        "colab": {
          "base_uri": "https://localhost:8080/"
        },
        "id": "I5p7CheeMXhH",
        "outputId": "4b22406b-b863-465a-aaf6-ee6b1783109c"
      },
      "outputs": [
        {
          "output_type": "stream",
          "name": "stderr",
          "text": [
            "100%|██████████| 4800/4800 [00:33<00:00, 142.68it/s]\n"
          ]
        }
      ],
      "source": [
        "# Tokenize texts from the dataset dfTrain\n",
        "processed_texts = []\n",
        "for text in tqdm(dfTrain[\"sentence\"]):\n",
        "  processed_text = spacy_tokenizer(text)\n",
        "  processed_texts.append(processed_text)"
      ]
    },
    {
      "cell_type": "code",
      "execution_count": null,
      "metadata": {
        "colab": {
          "base_uri": "https://localhost:8080/"
        },
        "id": "TIdcX7bNMhoq",
        "outputId": "024f7341-6e1d-43fa-f6c2-b3848f226a6e"
      },
      "outputs": [
        {
          "output_type": "stream",
          "name": "stderr",
          "text": [
            "100%|██████████| 1200/1200 [00:08<00:00, 137.90it/s]\n"
          ]
        }
      ],
      "source": [
        "# Tokenize texts from the dataset dfTest\n",
        "processed_texts_test = []\n",
        "for text in tqdm(dfTest[\"sentence\"]):\n",
        "  processed_text_test = spacy_tokenizer(text)\n",
        "  processed_texts_test.append(processed_text_test)"
      ]
    },
    {
      "cell_type": "code",
      "execution_count": null,
      "metadata": {
        "id": "Y4TU6GjpMxb_"
      },
      "outputs": [],
      "source": [
        "# After Tokenize both dataset, we join the two processed dataset. \n",
        "processed_texts_both = processed_texts + processed_texts_test"
      ]
    },
    {
      "cell_type": "markdown",
      "source": [
        "### Vectorize with Word2Vec"
      ],
      "metadata": {
        "id": "gs0jcbCTjeGy"
      }
    },
    {
      "cell_type": "code",
      "execution_count": null,
      "metadata": {
        "id": "t3755JFGM7Zc"
      },
      "outputs": [],
      "source": [
        "#\n",
        "def hash(astring):\n",
        "   return ord(astring[0])"
      ]
    },
    {
      "cell_type": "code",
      "execution_count": null,
      "metadata": {
        "colab": {
          "base_uri": "https://localhost:8080/"
        },
        "id": "qgxvV-TTM9qX",
        "outputId": "4fb68e39-9d21-46e2-f545-cfca464add3c"
      },
      "outputs": [
        {
          "output_type": "execute_result",
          "data": {
            "text/plain": [
              "(8323807, 12880800)"
            ]
          },
          "metadata": {},
          "execution_count": 37
        }
      ],
      "source": [
        "# Word2Vec\n",
        "model = gensim.models.Word2Vec(size=512, window=50, min_count=1, workers=1, seed = 0, hashfxn=hash)\n",
        "model.build_vocab(processed_texts_both)\n",
        "\n",
        "# Train model on preprocessed sentences\n",
        "model.train(processed_texts_both, total_examples=len(processed_texts_both), epochs=100)"
      ]
    },
    {
      "cell_type": "code",
      "execution_count": null,
      "metadata": {
        "colab": {
          "base_uri": "https://localhost:8080/"
        },
        "id": "tjLhZ19kNFaY",
        "outputId": "2cb004b7-11d9-43d2-ba7b-9c5339a4a988"
      },
      "outputs": [
        {
          "output_type": "stream",
          "name": "stderr",
          "text": [
            "  0%|          | 0/4800 [00:00<?, ?it/s]<ipython-input-38-0b39eb04ec92>:4: DeprecationWarning: Call to deprecated `__getitem__` (Method will be removed in 4.0.0, use self.wv.__getitem__() instead).\n",
            "  vectors.append(sum(model[token] for token in sent)/len(sent))\n",
            "100%|██████████| 4800/4800 [00:00<00:00, 9022.37it/s]\n"
          ]
        }
      ],
      "source": [
        "# Note that the result of the each token is divided by the len of the sentence.\n",
        "vectors = []\n",
        "for sent in tqdm(processed_texts):\n",
        "      vectors.append(sum(model[token] for token in sent)/len(sent))"
      ]
    },
    {
      "cell_type": "code",
      "execution_count": null,
      "metadata": {
        "id": "ge0_8NgJNOvw"
      },
      "outputs": [],
      "source": [
        "# Create a dataframe with all the vectors\n",
        "dfVectors = pd.DataFrame(vectors)\n",
        "dfFinal = pd.concat([dfVectors, dfTrainInfo], axis = 1)"
      ]
    },
    {
      "cell_type": "markdown",
      "source": [
        "Slip the processed sentences to train the model and test it. "
      ],
      "metadata": {
        "id": "plIlrvh6o_0V"
      }
    },
    {
      "cell_type": "code",
      "execution_count": null,
      "metadata": {
        "id": "k2p5qpakNTw3"
      },
      "outputs": [],
      "source": [
        "X = dfFinal\n",
        "y = dfTrain['difficulty']\n",
        "\n",
        "X_train, X_test, y_train, y_test = train_test_split(X, y, test_size=0.2, random_state=0)"
      ]
    },
    {
      "cell_type": "markdown",
      "source": [
        "## The Ensemble with Word2Vec "
      ],
      "metadata": {
        "id": "XTX-M8RwpeVU"
      }
    },
    {
      "cell_type": "markdown",
      "source": [
        "#### An simple example of an Ensemble with Word2Vec"
      ],
      "metadata": {
        "id": "3qP0U7Ec2Pg3"
      }
    },
    {
      "cell_type": "markdown",
      "source": [
        "> The 3 classifiers that will be use in the ensemble model :\n",
        ">\n",
        "> 1.   Logistic Regression (logclf)\n",
        "2.   Decision Tree Classifier (dtclf)\n",
        "3.   Linear Support Vector Classifier (svcclf)"
      ],
      "metadata": {
        "id": "ZM6B4ABoxFGe"
      }
    },
    {
      "cell_type": "code",
      "source": [
        "# Import some additional packages \n",
        "from sklearn.svm import LinearSVC\n",
        "\n",
        "# Set up the classifiers with some parameters\n",
        "logclf = LogisticRegression(C=10, max_iter=15000, random_state=0)\n",
        "dtclf = DecisionTreeClassifier(criterion='entropy', max_depth=3, random_state=0)\n",
        "svcclf = LinearSVC(max_iter=2000, tol=0.001, random_state=0)"
      ],
      "metadata": {
        "id": "KmhQW-B7vQGE"
      },
      "execution_count": null,
      "outputs": []
    },
    {
      "cell_type": "markdown",
      "source": [
        "> The EnsembleVoteClassifier with the 3 classifiers \n",
        " \n",
        "The parameters :\n",
        "* clf = list of classifiers (logclf, dtclf, svcclf)\n",
        "* weights = [2, 1.5, 1] (2 for the logclf, 1.5 for the dtclf, 1 for the svcclf)\n",
        "\n",
        "*The others parameters set with the defaults values (like voting='hard', it predicts the class labels (A1,...C2) with the majority rule voting).*"
      ],
      "metadata": {
        "id": "wBBsDKWS0dfE"
      }
    },
    {
      "cell_type": "code",
      "source": [
        "# Set up the ensemble classifier\n",
        "clf_ens = EnsembleVoteClassifier(clfs=[logclf, dtclf, svcclf],weights=[2,1.5,1])\n",
        "\n",
        "# Train the model\n",
        "clf_ens.fit(X_train, y_train)"
      ],
      "metadata": {
        "id": "_lQqiENhwclY",
        "colab": {
          "base_uri": "https://localhost:8080/"
        },
        "outputId": "24da4e2b-6a77-4848-8c1f-fd50bf6fcbcf"
      },
      "execution_count": null,
      "outputs": [
        {
          "output_type": "stream",
          "name": "stderr",
          "text": [
            "/usr/local/lib/python3.8/dist-packages/sklearn/utils/validation.py:1688: FutureWarning: Feature names only support names that are all strings. Got feature names with dtypes: ['int', 'str']. An error will be raised in 1.2.\n",
            "  warnings.warn(\n",
            "/usr/local/lib/python3.8/dist-packages/sklearn/utils/validation.py:1688: FutureWarning: Feature names only support names that are all strings. Got feature names with dtypes: ['int', 'str']. An error will be raised in 1.2.\n",
            "  warnings.warn(\n",
            "/usr/local/lib/python3.8/dist-packages/sklearn/utils/validation.py:1688: FutureWarning: Feature names only support names that are all strings. Got feature names with dtypes: ['int', 'str']. An error will be raised in 1.2.\n",
            "  warnings.warn(\n",
            "/usr/local/lib/python3.8/dist-packages/sklearn/svm/_base.py:1206: ConvergenceWarning: Liblinear failed to converge, increase the number of iterations.\n",
            "  warnings.warn(\n"
          ]
        },
        {
          "output_type": "execute_result",
          "data": {
            "text/plain": [
              "EnsembleVoteClassifier(clfs=[LogisticRegression(C=10, max_iter=15000,\n",
              "                                                random_state=0),\n",
              "                             DecisionTreeClassifier(criterion='entropy',\n",
              "                                                    max_depth=3,\n",
              "                                                    random_state=0),\n",
              "                             LinearSVC(max_iter=2000, random_state=0,\n",
              "                                       tol=0.001)],\n",
              "                       weights=[2, 1.5, 1])"
            ]
          },
          "metadata": {},
          "execution_count": 42
        }
      ]
    },
    {
      "cell_type": "markdown",
      "source": [
        "> Evaluate the fitted model"
      ],
      "metadata": {
        "id": "mLYfFGjl0scK"
      }
    },
    {
      "cell_type": "code",
      "execution_count": null,
      "metadata": {
        "id": "uNv1nYneCXgE",
        "colab": {
          "base_uri": "https://localhost:8080/",
          "height": 453
        },
        "outputId": "ec7903af-06aa-4b34-dee6-b22f5a62a2ef"
      },
      "outputs": [
        {
          "output_type": "stream",
          "name": "stderr",
          "text": [
            "/usr/local/lib/python3.8/dist-packages/sklearn/utils/validation.py:1688: FutureWarning: Feature names only support names that are all strings. Got feature names with dtypes: ['int', 'str']. An error will be raised in 1.2.\n",
            "  warnings.warn(\n",
            "/usr/local/lib/python3.8/dist-packages/sklearn/utils/validation.py:1688: FutureWarning: Feature names only support names that are all strings. Got feature names with dtypes: ['int', 'str']. An error will be raised in 1.2.\n",
            "  warnings.warn(\n",
            "/usr/local/lib/python3.8/dist-packages/sklearn/utils/validation.py:1688: FutureWarning: Feature names only support names that are all strings. Got feature names with dtypes: ['int', 'str']. An error will be raised in 1.2.\n",
            "  warnings.warn(\n"
          ]
        },
        {
          "output_type": "execute_result",
          "data": {
            "text/plain": [
              "         accuracy  precision  recall  f1 score\n",
              "results    0.4823     0.4923  0.4823    0.4761"
            ],
            "text/html": [
              "\n",
              "  <div id=\"df-bd13cbcc-ad72-4605-a5a3-405c3f3055a9\">\n",
              "    <div class=\"colab-df-container\">\n",
              "      <div>\n",
              "<style scoped>\n",
              "    .dataframe tbody tr th:only-of-type {\n",
              "        vertical-align: middle;\n",
              "    }\n",
              "\n",
              "    .dataframe tbody tr th {\n",
              "        vertical-align: top;\n",
              "    }\n",
              "\n",
              "    .dataframe thead th {\n",
              "        text-align: right;\n",
              "    }\n",
              "</style>\n",
              "<table border=\"1\" class=\"dataframe\">\n",
              "  <thead>\n",
              "    <tr style=\"text-align: right;\">\n",
              "      <th></th>\n",
              "      <th>accuracy</th>\n",
              "      <th>precision</th>\n",
              "      <th>recall</th>\n",
              "      <th>f1 score</th>\n",
              "    </tr>\n",
              "  </thead>\n",
              "  <tbody>\n",
              "    <tr>\n",
              "      <th>results</th>\n",
              "      <td>0.4823</td>\n",
              "      <td>0.4923</td>\n",
              "      <td>0.4823</td>\n",
              "      <td>0.4761</td>\n",
              "    </tr>\n",
              "  </tbody>\n",
              "</table>\n",
              "</div>\n",
              "      <button class=\"colab-df-convert\" onclick=\"convertToInteractive('df-bd13cbcc-ad72-4605-a5a3-405c3f3055a9')\"\n",
              "              title=\"Convert this dataframe to an interactive table.\"\n",
              "              style=\"display:none;\">\n",
              "        \n",
              "  <svg xmlns=\"http://www.w3.org/2000/svg\" height=\"24px\"viewBox=\"0 0 24 24\"\n",
              "       width=\"24px\">\n",
              "    <path d=\"M0 0h24v24H0V0z\" fill=\"none\"/>\n",
              "    <path d=\"M18.56 5.44l.94 2.06.94-2.06 2.06-.94-2.06-.94-.94-2.06-.94 2.06-2.06.94zm-11 1L8.5 8.5l.94-2.06 2.06-.94-2.06-.94L8.5 2.5l-.94 2.06-2.06.94zm10 10l.94 2.06.94-2.06 2.06-.94-2.06-.94-.94-2.06-.94 2.06-2.06.94z\"/><path d=\"M17.41 7.96l-1.37-1.37c-.4-.4-.92-.59-1.43-.59-.52 0-1.04.2-1.43.59L10.3 9.45l-7.72 7.72c-.78.78-.78 2.05 0 2.83L4 21.41c.39.39.9.59 1.41.59.51 0 1.02-.2 1.41-.59l7.78-7.78 2.81-2.81c.8-.78.8-2.07 0-2.86zM5.41 20L4 18.59l7.72-7.72 1.47 1.35L5.41 20z\"/>\n",
              "  </svg>\n",
              "      </button>\n",
              "      \n",
              "  <style>\n",
              "    .colab-df-container {\n",
              "      display:flex;\n",
              "      flex-wrap:wrap;\n",
              "      gap: 12px;\n",
              "    }\n",
              "\n",
              "    .colab-df-convert {\n",
              "      background-color: #E8F0FE;\n",
              "      border: none;\n",
              "      border-radius: 50%;\n",
              "      cursor: pointer;\n",
              "      display: none;\n",
              "      fill: #1967D2;\n",
              "      height: 32px;\n",
              "      padding: 0 0 0 0;\n",
              "      width: 32px;\n",
              "    }\n",
              "\n",
              "    .colab-df-convert:hover {\n",
              "      background-color: #E2EBFA;\n",
              "      box-shadow: 0px 1px 2px rgba(60, 64, 67, 0.3), 0px 1px 3px 1px rgba(60, 64, 67, 0.15);\n",
              "      fill: #174EA6;\n",
              "    }\n",
              "\n",
              "    [theme=dark] .colab-df-convert {\n",
              "      background-color: #3B4455;\n",
              "      fill: #D2E3FC;\n",
              "    }\n",
              "\n",
              "    [theme=dark] .colab-df-convert:hover {\n",
              "      background-color: #434B5C;\n",
              "      box-shadow: 0px 1px 3px 1px rgba(0, 0, 0, 0.15);\n",
              "      filter: drop-shadow(0px 1px 2px rgba(0, 0, 0, 0.3));\n",
              "      fill: #FFFFFF;\n",
              "    }\n",
              "  </style>\n",
              "\n",
              "      <script>\n",
              "        const buttonEl =\n",
              "          document.querySelector('#df-bd13cbcc-ad72-4605-a5a3-405c3f3055a9 button.colab-df-convert');\n",
              "        buttonEl.style.display =\n",
              "          google.colab.kernel.accessAllowed ? 'block' : 'none';\n",
              "\n",
              "        async function convertToInteractive(key) {\n",
              "          const element = document.querySelector('#df-bd13cbcc-ad72-4605-a5a3-405c3f3055a9');\n",
              "          const dataTable =\n",
              "            await google.colab.kernel.invokeFunction('convertToInteractive',\n",
              "                                                     [key], {});\n",
              "          if (!dataTable) return;\n",
              "\n",
              "          const docLinkHtml = 'Like what you see? Visit the ' +\n",
              "            '<a target=\"_blank\" href=https://colab.research.google.com/notebooks/data_table.ipynb>data table notebook</a>'\n",
              "            + ' to learn more about interactive tables.';\n",
              "          element.innerHTML = '';\n",
              "          dataTable['output_type'] = 'display_data';\n",
              "          await google.colab.output.renderOutput(dataTable, element);\n",
              "          const docLink = document.createElement('div');\n",
              "          docLink.innerHTML = docLinkHtml;\n",
              "          element.appendChild(docLink);\n",
              "        }\n",
              "      </script>\n",
              "    </div>\n",
              "  </div>\n",
              "  "
            ]
          },
          "metadata": {},
          "execution_count": 43
        },
        {
          "output_type": "display_data",
          "data": {
            "text/plain": [
              "<Figure size 432x288 with 2 Axes>"
            ],
            "image/png": "[encoded data removed]"
          },
          "metadata": {}
        }
      ],
      "source": [
        "# Predict the y of the X_test dataset\n",
        "y_pred = clf_ens.predict(X_test)\n",
        "\n",
        "# Evaluate the prediction\n",
        "evaluate2(y_test, y_pred)"
      ]
    },
    {
      "cell_type": "markdown",
      "source": [
        "> commmenter les résultats"
      ],
      "metadata": {
        "id": "ql8I0PGmCFxJ"
      }
    },
    {
      "cell_type": "markdown",
      "source": [
        "> Submit the model to see the final score."
      ],
      "metadata": {
        "id": "VF7CVkFg0yWG"
      }
    },
    {
      "cell_type": "code",
      "source": [
        "# Vectorize the dfTest to predict the values with the train model\n",
        "vectors_test = []\n",
        "for sent in processed_texts_test:\n",
        "    vectors_test.append(sum(model[token] for token in sent)/len(sent))\n",
        "\n",
        "dfVectorsTest = pd.DataFrame(vectors_test)\n",
        "dfTestInfo = get_info(dfTest)\n",
        "dfFinalTest = pd.concat([dfVectorsTest, dfTestInfo], axis = 1)"
      ],
      "metadata": {
        "colab": {
          "base_uri": "https://localhost:8080/"
        },
        "id": "nPTaIXuh9vEB",
        "outputId": "e7d88c8c-eeb0-44eb-b8aa-256cca25d3d4"
      },
      "execution_count": null,
      "outputs": [
        {
          "output_type": "stream",
          "name": "stderr",
          "text": [
            "<ipython-input-54-bca4d4cc9e1a>:4: DeprecationWarning: Call to deprecated `__getitem__` (Method will be removed in 4.0.0, use self.wv.__getitem__() instead).\n",
            "  vectors_test.append(sum(model[token] for token in sent)/len(sent))\n",
            "100%|██████████| 1200/1200 [00:08<00:00, 137.72it/s]\n"
          ]
        }
      ]
    },
    {
      "cell_type": "code",
      "execution_count": null,
      "metadata": {
        "colab": {
          "base_uri": "https://localhost:8080/"
        },
        "id": "EIk4HdqZ5THk",
        "outputId": "539693a7-c3c2-4379-9dd1-99153f8248a5"
      },
      "outputs": [
        {
          "output_type": "stream",
          "name": "stderr",
          "text": [
            "/usr/local/lib/python3.8/dist-packages/sklearn/utils/validation.py:1688: FutureWarning: Feature names only support names that are all strings. Got feature names with dtypes: ['int', 'str']. An error will be raised in 1.2.\n",
            "  warnings.warn(\n",
            "/usr/local/lib/python3.8/dist-packages/sklearn/utils/validation.py:1688: FutureWarning: Feature names only support names that are all strings. Got feature names with dtypes: ['int', 'str']. An error will be raised in 1.2.\n",
            "  warnings.warn(\n",
            "/usr/local/lib/python3.8/dist-packages/sklearn/utils/validation.py:1688: FutureWarning: Feature names only support names that are all strings. Got feature names with dtypes: ['int', 'str']. An error will be raised in 1.2.\n",
            "  warnings.warn(\n"
          ]
        }
      ],
      "source": [
        "# Submit the model train with X_train (the train part of dfTrain)\n",
        "y_pred_test = clf_ens.predict(dfFinalTest)\n",
        "\n",
        "SVCPred_DF = pd.DataFrame(data = y_pred_test)\n",
        "SVCPred_DF.index.names = ['id']\n",
        "SVCPred_DF.rename(columns = {0:'difficulty'}, inplace = True)\n",
        "SVCPred_DF.to_csv('Ensemble_w2v_example_1.csv')"
      ]
    },
    {
      "cell_type": "code",
      "execution_count": null,
      "metadata": {
        "colab": {
          "base_uri": "https://localhost:8080/"
        },
        "id": "xvrjaqAm5ccW",
        "outputId": "e68272d3-a491-415e-e1b2-9cd7f6b1ee00"
      },
      "outputs": [
        {
          "output_type": "stream",
          "name": "stderr",
          "text": [
            "/usr/local/lib/python3.8/dist-packages/sklearn/utils/validation.py:1688: FutureWarning: Feature names only support names that are all strings. Got feature names with dtypes: ['int', 'str']. An error will be raised in 1.2.\n",
            "  warnings.warn(\n",
            "/usr/local/lib/python3.8/dist-packages/sklearn/utils/validation.py:1688: FutureWarning: Feature names only support names that are all strings. Got feature names with dtypes: ['int', 'str']. An error will be raised in 1.2.\n",
            "  warnings.warn(\n",
            "/usr/local/lib/python3.8/dist-packages/sklearn/utils/validation.py:1688: FutureWarning: Feature names only support names that are all strings. Got feature names with dtypes: ['int', 'str']. An error will be raised in 1.2.\n",
            "  warnings.warn(\n",
            "/usr/local/lib/python3.8/dist-packages/sklearn/svm/_base.py:1206: ConvergenceWarning: Liblinear failed to converge, increase the number of iterations.\n",
            "  warnings.warn(\n"
          ]
        }
      ],
      "source": [
        "# Submit the model train on the whole dfTrain\n",
        "clf_ens.fit(X, y)\n",
        "\n",
        "y_pred_test = clf_ens.predict(dfFinalTest)\n",
        "\n",
        "SVCPred_DF = pd.DataFrame(data = y_pred_test)\n",
        "SVCPred_DF.index.names = ['id']\n",
        "SVCPred_DF.rename(columns = {0:'difficulty'}, inplace = True)\n",
        "SVCPred_DF.to_csv('ensemble_w2v_example_2.csv')"
      ]
    },
    {
      "cell_type": "markdown",
      "metadata": {
        "id": "-eq7e7j05eZd"
      },
      "source": [
        "Score of the submissions : \n",
        "\n",
        "\n",
        "*   Train on the split dfTrain (X_train) : 0.\n",
        "*   Train on the whole dfTrain : 0."
      ]
    },
    {
      "cell_type": "markdown",
      "source": [
        "#### The best model found with an Ensemble and Word2Vec"
      ],
      "metadata": {
        "id": "dZFumS1p2LX2"
      }
    },
    {
      "cell_type": "markdown",
      "source": [
        "> The 3 classifiers that will be use in the ensemble model :\n",
        ">\n",
        "> 1.   Logistic Regression (logclf)\n",
        "2.   Random Forest Classifier (rfclf)\n",
        "3.   Multi-layer Perceptron classifier (mlpclf)\n"
      ],
      "metadata": {
        "id": "daxRnydU24hJ"
      }
    },
    {
      "cell_type": "code",
      "source": [
        "# Set up the classifiers with some parameters\n",
        "logclf = LogisticRegression(max_iter = 20000, C = 10, random_state = 0)\n",
        "mlpclf = MLPClassifier(max_iter=1000, random_state=0)\n",
        "rfclf = RandomForestClassifier(n_estimators=350, random_state=0)"
      ],
      "metadata": {
        "id": "1t7AL49n3Ffy"
      },
      "execution_count": null,
      "outputs": []
    },
    {
      "cell_type": "markdown",
      "source": [
        "> The EnsembleVoteClassifier with the 3 classifiers \n",
        " \n",
        "The parameters :\n",
        "* clf = list of classifiers (logclf, rfclf, mlpclf)\n",
        "* weights = [2, 1.5, 1] (2 for the logclf, 1.5 for the mlpclf, 1 for the rfclf)\n",
        "\n",
        "*The others parameters set with the defaults values (like voting='hard', it predicts the class labels (A1,...C2) with the majority rule voting).*"
      ],
      "metadata": {
        "id": "ZTw79IN-24hJ"
      }
    },
    {
      "cell_type": "code",
      "source": [
        "# Set up the ensemble classifier\n",
        "clf_ens = EnsembleVoteClassifier(clfs=[logclf, mlpclf, rfclf],weights=[2,1.5,1])\n",
        "\n",
        "# Train the model\n",
        "clf_ens.fit(X_train, y_train)"
      ],
      "metadata": {
        "id": "2m4g-W1O24hJ",
        "colab": {
          "base_uri": "https://localhost:8080/"
        },
        "outputId": "fd5f4f80-48a4-46d1-c385-0bfd39b0e4ab"
      },
      "execution_count": null,
      "outputs": [
        {
          "output_type": "stream",
          "name": "stderr",
          "text": [
            "/usr/local/lib/python3.8/dist-packages/sklearn/utils/validation.py:1688: FutureWarning: Feature names only support names that are all strings. Got feature names with dtypes: ['int', 'str']. An error will be raised in 1.2.\n",
            "  warnings.warn(\n",
            "/usr/local/lib/python3.8/dist-packages/sklearn/utils/validation.py:1688: FutureWarning: Feature names only support names that are all strings. Got feature names with dtypes: ['int', 'str']. An error will be raised in 1.2.\n",
            "  warnings.warn(\n",
            "/usr/local/lib/python3.8/dist-packages/sklearn/utils/validation.py:1688: FutureWarning: Feature names only support names that are all strings. Got feature names with dtypes: ['int', 'str']. An error will be raised in 1.2.\n",
            "  warnings.warn(\n"
          ]
        },
        {
          "output_type": "execute_result",
          "data": {
            "text/plain": [
              "EnsembleVoteClassifier(clfs=[LogisticRegression(C=10, max_iter=20000,\n",
              "                                                random_state=0),\n",
              "                             MLPClassifier(max_iter=1000, random_state=0),\n",
              "                             RandomForestClassifier(n_estimators=350,\n",
              "                                                    random_state=0)],\n",
              "                       weights=[2, 1.5, 1])"
            ]
          },
          "metadata": {},
          "execution_count": 57
        }
      ]
    },
    {
      "cell_type": "markdown",
      "source": [
        "> Evaluate the fitted model"
      ],
      "metadata": {
        "id": "FcFYSRLv24hK"
      }
    },
    {
      "cell_type": "code",
      "execution_count": null,
      "metadata": {
        "id": "3leCylXP24hK",
        "colab": {
          "base_uri": "https://localhost:8080/",
          "height": 453
        },
        "outputId": "11ce5bce-224c-4881-bf79-49ce3f700fab"
      },
      "outputs": [
        {
          "output_type": "stream",
          "name": "stderr",
          "text": [
            "/usr/local/lib/python3.8/dist-packages/sklearn/utils/validation.py:1688: FutureWarning: Feature names only support names that are all strings. Got feature names with dtypes: ['int', 'str']. An error will be raised in 1.2.\n",
            "  warnings.warn(\n",
            "/usr/local/lib/python3.8/dist-packages/sklearn/utils/validation.py:1688: FutureWarning: Feature names only support names that are all strings. Got feature names with dtypes: ['int', 'str']. An error will be raised in 1.2.\n",
            "  warnings.warn(\n",
            "/usr/local/lib/python3.8/dist-packages/sklearn/utils/validation.py:1688: FutureWarning: Feature names only support names that are all strings. Got feature names with dtypes: ['int', 'str']. An error will be raised in 1.2.\n",
            "  warnings.warn(\n"
          ]
        },
        {
          "output_type": "execute_result",
          "data": {
            "text/plain": [
              "         accuracy  precision  recall  f1 score\n",
              "results    0.5219     0.5233  0.5219    0.5194"
            ],
            "text/html": [
              "\n",
              "  <div id=\"df-509381b6-6ad2-4a1f-bf6e-5a12beca606b\">\n",
              "    <div class=\"colab-df-container\">\n",
              "      <div>\n",
              "<style scoped>\n",
              "    .dataframe tbody tr th:only-of-type {\n",
              "        vertical-align: middle;\n",
              "    }\n",
              "\n",
              "    .dataframe tbody tr th {\n",
              "        vertical-align: top;\n",
              "    }\n",
              "\n",
              "    .dataframe thead th {\n",
              "        text-align: right;\n",
              "    }\n",
              "</style>\n",
              "<table border=\"1\" class=\"dataframe\">\n",
              "  <thead>\n",
              "    <tr style=\"text-align: right;\">\n",
              "      <th></th>\n",
              "      <th>accuracy</th>\n",
              "      <th>precision</th>\n",
              "      <th>recall</th>\n",
              "      <th>f1 score</th>\n",
              "    </tr>\n",
              "  </thead>\n",
              "  <tbody>\n",
              "    <tr>\n",
              "      <th>results</th>\n",
              "      <td>0.5219</td>\n",
              "      <td>0.5233</td>\n",
              "      <td>0.5219</td>\n",
              "      <td>0.5194</td>\n",
              "    </tr>\n",
              "  </tbody>\n",
              "</table>\n",
              "</div>\n",
              "      <button class=\"colab-df-convert\" onclick=\"convertToInteractive('df-509381b6-6ad2-4a1f-bf6e-5a12beca606b')\"\n",
              "              title=\"Convert this dataframe to an interactive table.\"\n",
              "              style=\"display:none;\">\n",
              "        \n",
              "  <svg xmlns=\"http://www.w3.org/2000/svg\" height=\"24px\"viewBox=\"0 0 24 24\"\n",
              "       width=\"24px\">\n",
              "    <path d=\"M0 0h24v24H0V0z\" fill=\"none\"/>\n",
              "    <path d=\"M18.56 5.44l.94 2.06.94-2.06 2.06-.94-2.06-.94-.94-2.06-.94 2.06-2.06.94zm-11 1L8.5 8.5l.94-2.06 2.06-.94-2.06-.94L8.5 2.5l-.94 2.06-2.06.94zm10 10l.94 2.06.94-2.06 2.06-.94-2.06-.94-.94-2.06-.94 2.06-2.06.94z\"/><path d=\"M17.41 7.96l-1.37-1.37c-.4-.4-.92-.59-1.43-.59-.52 0-1.04.2-1.43.59L10.3 9.45l-7.72 7.72c-.78.78-.78 2.05 0 2.83L4 21.41c.39.39.9.59 1.41.59.51 0 1.02-.2 1.41-.59l7.78-7.78 2.81-2.81c.8-.78.8-2.07 0-2.86zM5.41 20L4 18.59l7.72-7.72 1.47 1.35L5.41 20z\"/>\n",
              "  </svg>\n",
              "      </button>\n",
              "      \n",
              "  <style>\n",
              "    .colab-df-container {\n",
              "      display:flex;\n",
              "      flex-wrap:wrap;\n",
              "      gap: 12px;\n",
              "    }\n",
              "\n",
              "    .colab-df-convert {\n",
              "      background-color: #E8F0FE;\n",
              "      border: none;\n",
              "      border-radius: 50%;\n",
              "      cursor: pointer;\n",
              "      display: none;\n",
              "      fill: #1967D2;\n",
              "      height: 32px;\n",
              "      padding: 0 0 0 0;\n",
              "      width: 32px;\n",
              "    }\n",
              "\n",
              "    .colab-df-convert:hover {\n",
              "      background-color: #E2EBFA;\n",
              "      box-shadow: 0px 1px 2px rgba(60, 64, 67, 0.3), 0px 1px 3px 1px rgba(60, 64, 67, 0.15);\n",
              "      fill: #174EA6;\n",
              "    }\n",
              "\n",
              "    [theme=dark] .colab-df-convert {\n",
              "      background-color: #3B4455;\n",
              "      fill: #D2E3FC;\n",
              "    }\n",
              "\n",
              "    [theme=dark] .colab-df-convert:hover {\n",
              "      background-color: #434B5C;\n",
              "      box-shadow: 0px 1px 3px 1px rgba(0, 0, 0, 0.15);\n",
              "      filter: drop-shadow(0px 1px 2px rgba(0, 0, 0, 0.3));\n",
              "      fill: #FFFFFF;\n",
              "    }\n",
              "  </style>\n",
              "\n",
              "      <script>\n",
              "        const buttonEl =\n",
              "          document.querySelector('#df-509381b6-6ad2-4a1f-bf6e-5a12beca606b button.colab-df-convert');\n",
              "        buttonEl.style.display =\n",
              "          google.colab.kernel.accessAllowed ? 'block' : 'none';\n",
              "\n",
              "        async function convertToInteractive(key) {\n",
              "          const element = document.querySelector('#df-509381b6-6ad2-4a1f-bf6e-5a12beca606b');\n",
              "          const dataTable =\n",
              "            await google.colab.kernel.invokeFunction('convertToInteractive',\n",
              "                                                     [key], {});\n",
              "          if (!dataTable) return;\n",
              "\n",
              "          const docLinkHtml = 'Like what you see? Visit the ' +\n",
              "            '<a target=\"_blank\" href=https://colab.research.google.com/notebooks/data_table.ipynb>data table notebook</a>'\n",
              "            + ' to learn more about interactive tables.';\n",
              "          element.innerHTML = '';\n",
              "          dataTable['output_type'] = 'display_data';\n",
              "          await google.colab.output.renderOutput(dataTable, element);\n",
              "          const docLink = document.createElement('div');\n",
              "          docLink.innerHTML = docLinkHtml;\n",
              "          element.appendChild(docLink);\n",
              "        }\n",
              "      </script>\n",
              "    </div>\n",
              "  </div>\n",
              "  "
            ]
          },
          "metadata": {},
          "execution_count": 58
        },
        {
          "output_type": "display_data",
          "data": {
            "text/plain": [
              "<Figure size 432x288 with 2 Axes>"
            ],
            "image/png": "[encoded data removed]"
          },
          "metadata": {}
        }
      ],
      "source": [
        "# Predict the y of the X_test dataset\n",
        "y_pred = clf_ens.predict(X_test)\n",
        "\n",
        "# Evaluate the prediction\n",
        "evaluate2(y_test, y_pred)"
      ]
    },
    {
      "cell_type": "markdown",
      "source": [
        "> commmenter les résultats"
      ],
      "metadata": {
        "id": "cWlQrKhuAcP3"
      }
    },
    {
      "cell_type": "markdown",
      "source": [
        "> Submit the model to see the final score."
      ],
      "metadata": {
        "id": "NT7IV3V424hK"
      }
    },
    {
      "cell_type": "code",
      "source": [
        "# Vectorize the dfTest to predict the values with the train model\n",
        "vectors_test = []\n",
        "for sent in processed_texts_test:\n",
        "    vectors_test.append(sum(model[token] for token in sent)/len(sent))\n",
        "\n",
        "dfVectorsTest = pd.DataFrame(vectors_test)\n",
        "dfTestInfo = get_info(dfTest)\n",
        "dfFinalTest = pd.concat([dfVectorsTest, dfTestInfo], axis = 1)"
      ],
      "metadata": {
        "id": "Nm90afNW7DZx",
        "colab": {
          "base_uri": "https://localhost:8080/"
        },
        "outputId": "09a32e56-ee3d-4d3f-cee8-041a751b34f7"
      },
      "execution_count": null,
      "outputs": [
        {
          "output_type": "stream",
          "name": "stderr",
          "text": [
            "<ipython-input-51-bca4d4cc9e1a>:4: DeprecationWarning: Call to deprecated `__getitem__` (Method will be removed in 4.0.0, use self.wv.__getitem__() instead).\n",
            "  vectors_test.append(sum(model[token] for token in sent)/len(sent))\n",
            "100%|██████████| 1200/1200 [00:08<00:00, 134.71it/s]\n"
          ]
        }
      ]
    },
    {
      "cell_type": "code",
      "execution_count": null,
      "metadata": {
        "colab": {
          "base_uri": "https://localhost:8080/"
        },
        "id": "w4BHlDGs24hK",
        "outputId": "d4c0e8a7-945d-41a2-a04a-37fe4ecd638f"
      },
      "outputs": [
        {
          "output_type": "stream",
          "name": "stderr",
          "text": [
            "/usr/local/lib/python3.8/dist-packages/sklearn/utils/validation.py:1688: FutureWarning: Feature names only support names that are all strings. Got feature names with dtypes: ['int', 'str']. An error will be raised in 1.2.\n",
            "  warnings.warn(\n",
            "/usr/local/lib/python3.8/dist-packages/sklearn/utils/validation.py:1688: FutureWarning: Feature names only support names that are all strings. Got feature names with dtypes: ['int', 'str']. An error will be raised in 1.2.\n",
            "  warnings.warn(\n",
            "/usr/local/lib/python3.8/dist-packages/sklearn/utils/validation.py:1688: FutureWarning: Feature names only support names that are all strings. Got feature names with dtypes: ['int', 'str']. An error will be raised in 1.2.\n",
            "  warnings.warn(\n"
          ]
        }
      ],
      "source": [
        "# Submit the model train with X_train (the train part of dfTrain)\n",
        "y_pred_test = clf_ens.predict(dfFinalTest)\n",
        "\n",
        "SVCPred_DF = pd.DataFrame(data = y_pred_test)\n",
        "SVCPred_DF.index.names = ['id']\n",
        "SVCPred_DF.rename(columns = {0:'difficulty'}, inplace = True)\n",
        "SVCPred_DF.to_csv('Ensemble_w2v_best_1.csv')"
      ]
    },
    {
      "cell_type": "code",
      "execution_count": null,
      "metadata": {
        "colab": {
          "base_uri": "https://localhost:8080/"
        },
        "id": "9-jkR7Ny24hK",
        "outputId": "348c8ba2-3de6-49dc-dfc8-2b759c4c14dc"
      },
      "outputs": [
        {
          "output_type": "stream",
          "name": "stderr",
          "text": [
            "/usr/local/lib/python3.8/dist-packages/sklearn/utils/validation.py:1688: FutureWarning: Feature names only support names that are all strings. Got feature names with dtypes: ['int', 'str']. An error will be raised in 1.2.\n",
            "  warnings.warn(\n",
            "/usr/local/lib/python3.8/dist-packages/sklearn/utils/validation.py:1688: FutureWarning: Feature names only support names that are all strings. Got feature names with dtypes: ['int', 'str']. An error will be raised in 1.2.\n",
            "  warnings.warn(\n",
            "/usr/local/lib/python3.8/dist-packages/sklearn/utils/validation.py:1688: FutureWarning: Feature names only support names that are all strings. Got feature names with dtypes: ['int', 'str']. An error will be raised in 1.2.\n",
            "  warnings.warn(\n",
            "/usr/local/lib/python3.8/dist-packages/sklearn/utils/validation.py:1688: FutureWarning: Feature names only support names that are all strings. Got feature names with dtypes: ['int', 'str']. An error will be raised in 1.2.\n",
            "  warnings.warn(\n",
            "/usr/local/lib/python3.8/dist-packages/sklearn/utils/validation.py:1688: FutureWarning: Feature names only support names that are all strings. Got feature names with dtypes: ['int', 'str']. An error will be raised in 1.2.\n",
            "  warnings.warn(\n",
            "/usr/local/lib/python3.8/dist-packages/sklearn/utils/validation.py:1688: FutureWarning: Feature names only support names that are all strings. Got feature names with dtypes: ['int', 'str']. An error will be raised in 1.2.\n",
            "  warnings.warn(\n"
          ]
        }
      ],
      "source": [
        "# Submit the model train on the whole dfTrain\n",
        "clf_ens.fit(X, y)\n",
        "\n",
        "y_pred_test = clf_ens.predict(dfFinalTest)\n",
        "\n",
        "SVCPred_DF = pd.DataFrame(data = y_pred_test)\n",
        "SVCPred_DF.index.names = ['id']\n",
        "SVCPred_DF.rename(columns = {0:'difficulty'}, inplace = True)\n",
        "SVCPred_DF.to_csv('ensemble_w2v_best_2.csv')"
      ]
    },
    {
      "cell_type": "markdown",
      "metadata": {
        "id": "oxQVEtq724hK"
      },
      "source": [
        "Score of the submissions : \n",
        "\n",
        "\n",
        "*   Train on the split dfTrain (X_train) : 0.\n",
        "*   Train on the whole dfTrain : 0."
      ]
    }
  ],
  "metadata": {
    "accelerator": "GPU",
    "colab": {
      "collapsed_sections": [
        "ao2dO8lyjxrG",
        "3qP0U7Ec2Pg3",
        "dZFumS1p2LX2"
      ],
      "provenance": []
    },
    "gpuClass": "standard",
    "kernelspec": {
      "display_name": "Python 3",
      "name": "python3"
    },
    "language_info": {
      "name": "python"
    }
  },
  "nbformat": 4,
  "nbformat_minor": 0
}